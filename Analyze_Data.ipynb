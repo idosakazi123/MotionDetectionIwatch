{
  "nbformat": 4,
  "nbformat_minor": 0,
  "metadata": {
    "colab": {
      "name": "Analyze_Data.ipynb",
      "version": "0.3.2",
      "provenance": [],
      "collapsed_sections": []
    },
    "kernelspec": {
      "name": "python3",
      "display_name": "Python 3"
    },
    "accelerator": "GPU"
  },
  "cells": [
    {
      "metadata": {
        "id": "ZSNgoz_bmZF_",
        "colab_type": "text"
      },
      "cell_type": "markdown",
      "source": [
        "\n",
        "#Create a Rnn for time series\n",
        "\n"
      ]
    },
    {
      "metadata": {
        "id": "qPmiaRQjikg2",
        "colab_type": "code",
        "outputId": "febefb46-9427-4556-bdba-649e2a37a94f",
        "colab": {
          "base_uri": "https://localhost:8080/",
          "height": 35
        }
      },
      "cell_type": "code",
      "source": [
        "import numpy as np\n",
        "import matplotlib.pyplot as plt\n",
        "import pandas as pd\n",
        "\n",
        "from sklearn import metrics\n",
        "from sklearn.metrics import classification_report\n",
        "from sklearn import preprocessing\n",
        "\n",
        "\n",
        "import keras\n",
        "from keras.models import Sequential\n",
        "from keras.layers import Dense, Dropout, Flatten, Reshape, LSTM\n",
        "from keras.layers import Conv2D, MaxPooling2D\n",
        "from keras.utils import np_utils\n",
        "\n",
        "from scipy import stats\n",
        "import matplotlib.pyplot as plt\n",
        "%matplotlib inline\n",
        "from sklearn.metrics import confusion_matrix,accuracy_score,log_loss\n",
        "import seaborn as sns"
      ],
      "execution_count": 0,
      "outputs": [
        {
          "output_type": "stream",
          "text": [
            "Using TensorFlow backend.\n"
          ],
          "name": "stderr"
        }
      ]
    },
    {
      "metadata": {
        "id": "hMItINKfitgb",
        "colab_type": "code",
        "outputId": "bdb9a715-7032-46d8-c8a5-d0c620d437f7",
        "colab": {
          "base_uri": "https://localhost:8080/",
          "height": 35
        }
      },
      "cell_type": "code",
      "source": [
        "#Get access to google drive\n",
        "from google.colab import drive\n",
        "drive.mount('/content/drive/')"
      ],
      "execution_count": 0,
      "outputs": [
        {
          "output_type": "stream",
          "text": [
            "Drive already mounted at /content/drive/; to attempt to forcibly remount, call drive.mount(\"/content/drive/\", force_remount=True).\n"
          ],
          "name": "stdout"
        }
      ]
    },
    {
      "metadata": {
        "id": "RF9lFl5PKTrG",
        "colab_type": "code",
        "colab": {}
      },
      "cell_type": "code",
      "source": [
        "names = ['Shay', 'Ido']\n",
        "activities = ['drinking', 'eating', 'on_computer', 'on_phone']\n",
        "data_map = {'training_map': {}, 'validation_map': {}, 'testing_map': {}}"
      ],
      "execution_count": 0,
      "outputs": []
    },
    {
      "metadata": {
        "id": "xH6x-LoTKExk",
        "colab_type": "code",
        "outputId": "4bd690a0-48db-4497-c8ab-a5457ea03403",
        "colab": {
          "base_uri": "https://localhost:8080/",
          "height": 72
        }
      },
      "cell_type": "code",
      "source": [
        "#Get csv files from the drive\n",
        "for name in names:\n",
        "  for activity in activities:\n",
        "    data_map['training_map'][f'{name}_{activity}'] = list(map(lambda i: pd.read_csv(\n",
        "        f'drive/My Drive/Shared folder University/files_project/{name}/{name}_is_{activity}/{i}/{name}_is_{activity}{i}.csv'), range(1,7)))\n",
        "       \n",
        "for name in names:\n",
        "  for activity in activities:\n",
        "    data_map['validation_map'][f'{name}_{activity}'] = list(map(lambda i: pd.read_csv(\n",
        "        f'drive/My Drive/Shared folder University/files_project/{name}/{name}_is_{activity}/{i}/{name}_is_{activity}{i}.csv'), range(7,9)))\n",
        "       \n",
        "for name in names:\n",
        "  for activity in activities:\n",
        "    data_map['testing_map'][f'{name}_{activity}'] = list(map(lambda i: pd.read_csv(\n",
        "        f'drive/My Drive/Shared folder University/files_project/{name}/{name}_is_{activity}/{i}/{name}_is_{activity}{i}.csv'), range(9,11)))\n",
        "    \n",
        "print('training_map containas: {}'.format(len(data_map['training_map']['Shay_drinking'])))\n",
        "print('validation_map containas: {}'.format(len(data_map['validation_map']['Shay_drinking'])))\n",
        "print('testing_map containas: {}'.format(len(data_map['testing_map']['Shay_drinking'])))"
      ],
      "execution_count": 0,
      "outputs": [
        {
          "output_type": "stream",
          "text": [
            "training_map containas: 6\n",
            "validation_map containas: 2\n",
            "testing_map containas: 2\n"
          ],
          "name": "stdout"
        }
      ]
    },
    {
      "metadata": {
        "id": "aRDwI1OyS4C2",
        "colab_type": "code",
        "colab": {}
      },
      "cell_type": "code",
      "source": [
        "#dealing with NA\n",
        "for data_division_map in data_map:\n",
        "  for name_activity in data_map[data_division_map]:\n",
        "    for df in data_map[data_division_map][name_activity]:\n",
        "      number = round(float(df[\"Heart_Rate\"].mean()))\n",
        "      df.fillna(float(number), inplace=True)"
      ],
      "execution_count": 0,
      "outputs": []
    },
    {
      "metadata": {
        "id": "GpEadtdYYU8j",
        "colab_type": "code",
        "colab": {}
      },
      "cell_type": "code",
      "source": [
        "#concat all dataframes\n",
        "for data_division_map in data_map:\n",
        "  for name_activity in data_map[data_division_map]:\n",
        "    data_map[data_division_map][name_activity] = pd.concat(data_map[data_division_map][name_activity])"
      ],
      "execution_count": 0,
      "outputs": []
    },
    {
      "metadata": {
        "id": "awP4ef-Vaf4I",
        "colab_type": "code",
        "colab": {}
      },
      "cell_type": "code",
      "source": [
        "for data_division_map in data_map:  \n",
        "  data_map[data_division_map] = pd.concat(list(data_map[data_division_map].values()))"
      ],
      "execution_count": 0,
      "outputs": []
    },
    {
      "metadata": {
        "id": "efmo6jHTd2zw",
        "colab_type": "code",
        "colab": {}
      },
      "cell_type": "code",
      "source": [
        "training_set = data_map['training_map']\n",
        "validation_set = data_map['validation_map']\n",
        "testing_set = data_map['testing_map']"
      ],
      "execution_count": 0,
      "outputs": []
    },
    {
      "metadata": {
        "id": "plhfLF1rcbAI",
        "colab_type": "code",
        "outputId": "b92a982b-bbfb-415b-f536-536680077f62",
        "colab": {
          "base_uri": "https://localhost:8080/",
          "height": 1000
        }
      },
      "cell_type": "code",
      "source": [
        "print('Training size is: {}'.format(len(training_set)))\n",
        "print(training_set.isnull().sum())\n",
        "\n",
        "print('validation size is: {}'.format(len(validation_set)))\n",
        "print(validation_set.isnull().sum())\n",
        "\n",
        "print('testing size is: {}'.format(len(testing_set)))\n",
        "print(testing_set.isnull().sum())"
      ],
      "execution_count": 0,
      "outputs": [
        {
          "output_type": "stream",
          "text": [
            "Training size is: 29347\n",
            "ID            0\n",
            "Time          0\n",
            "Acce_X        0\n",
            "Acce_Y        0\n",
            "Acce_Z        0\n",
            "Gyro_X        0\n",
            "Gyro_Y        0\n",
            "Gyro_Z        0\n",
            "Gravity_X     0\n",
            "Gravity_Y     0\n",
            "Gravity_Z     0\n",
            "Roll          0\n",
            "Pitch         0\n",
            "Yaw           0\n",
            "Heart_Rate    0\n",
            "Activity      0\n",
            "dtype: int64\n",
            "validation size is: 9805\n",
            "ID            0\n",
            "Time          0\n",
            "Acce_X        0\n",
            "Acce_Y        0\n",
            "Acce_Z        0\n",
            "Gyro_X        0\n",
            "Gyro_Y        0\n",
            "Gyro_Z        0\n",
            "Gravity_X     0\n",
            "Gravity_Y     0\n",
            "Gravity_Z     0\n",
            "Roll          0\n",
            "Pitch         0\n",
            "Yaw           0\n",
            "Heart_Rate    0\n",
            "Activity      0\n",
            "dtype: int64\n",
            "testing size is: 9744\n",
            "ID            0\n",
            "Time          0\n",
            "Acce_X        0\n",
            "Acce_Y        0\n",
            "Acce_Z        0\n",
            "Gyro_X        0\n",
            "Gyro_Y        0\n",
            "Gyro_Z        0\n",
            "Gravity_X     0\n",
            "Gravity_Y     0\n",
            "Gravity_Z     0\n",
            "Roll          0\n",
            "Pitch         0\n",
            "Yaw           0\n",
            "Heart_Rate    0\n",
            "Activity      0\n",
            "dtype: int64\n"
          ],
          "name": "stdout"
        }
      ]
    },
    {
      "metadata": {
        "id": "saV-AgSugh2O",
        "colab_type": "code",
        "colab": {}
      },
      "cell_type": "code",
      "source": [
        "training_set.to_csv('drive/My Drive/Shared folder University/files_project/train_set.csv',index=False)"
      ],
      "execution_count": 0,
      "outputs": []
    },
    {
      "metadata": {
        "id": "6vtcuxMocpa6",
        "colab_type": "code",
        "outputId": "a1fc8c76-b277-48f0-8553-bec17b55367d",
        "colab": {
          "base_uri": "https://localhost:8080/",
          "height": 206
        }
      },
      "cell_type": "code",
      "source": [
        "training_set.head()"
      ],
      "execution_count": 0,
      "outputs": [
        {
          "output_type": "execute_result",
          "data": {
            "text/html": [
              "<div>\n",
              "<style scoped>\n",
              "    .dataframe tbody tr th:only-of-type {\n",
              "        vertical-align: middle;\n",
              "    }\n",
              "\n",
              "    .dataframe tbody tr th {\n",
              "        vertical-align: top;\n",
              "    }\n",
              "\n",
              "    .dataframe thead th {\n",
              "        text-align: right;\n",
              "    }\n",
              "</style>\n",
              "<table border=\"1\" class=\"dataframe\">\n",
              "  <thead>\n",
              "    <tr style=\"text-align: right;\">\n",
              "      <th></th>\n",
              "      <th>ID</th>\n",
              "      <th>Time</th>\n",
              "      <th>Acce_X</th>\n",
              "      <th>Acce_Y</th>\n",
              "      <th>Acce_Z</th>\n",
              "      <th>Gyro_X</th>\n",
              "      <th>Gyro_Y</th>\n",
              "      <th>Gyro_Z</th>\n",
              "      <th>Gravity_X</th>\n",
              "      <th>Gravity_Y</th>\n",
              "      <th>Gravity_Z</th>\n",
              "      <th>Roll</th>\n",
              "      <th>Pitch</th>\n",
              "      <th>Yaw</th>\n",
              "      <th>Heart_Rate</th>\n",
              "      <th>Activity</th>\n",
              "    </tr>\n",
              "  </thead>\n",
              "  <tbody>\n",
              "    <tr>\n",
              "      <th>0</th>\n",
              "      <td>1</td>\n",
              "      <td>0:07:30</td>\n",
              "      <td>0.021259</td>\n",
              "      <td>0.017636</td>\n",
              "      <td>0.016251</td>\n",
              "      <td>-0.207135</td>\n",
              "      <td>0.024490</td>\n",
              "      <td>-0.084649</td>\n",
              "      <td>-0.046664</td>\n",
              "      <td>-0.588025</td>\n",
              "      <td>-0.807496</td>\n",
              "      <td>-0.057725</td>\n",
              "      <td>0.628615</td>\n",
              "      <td>0.033968</td>\n",
              "      <td>57.0</td>\n",
              "      <td>Drinking</td>\n",
              "    </tr>\n",
              "    <tr>\n",
              "      <th>1</th>\n",
              "      <td>1</td>\n",
              "      <td>0:07:30</td>\n",
              "      <td>0.045287</td>\n",
              "      <td>0.098442</td>\n",
              "      <td>0.100549</td>\n",
              "      <td>-0.158365</td>\n",
              "      <td>0.152945</td>\n",
              "      <td>-0.108134</td>\n",
              "      <td>-0.027709</td>\n",
              "      <td>-0.576454</td>\n",
              "      <td>-0.816659</td>\n",
              "      <td>-0.033916</td>\n",
              "      <td>0.614383</td>\n",
              "      <td>0.008766</td>\n",
              "      <td>57.0</td>\n",
              "      <td>Drinking</td>\n",
              "    </tr>\n",
              "    <tr>\n",
              "      <th>2</th>\n",
              "      <td>1</td>\n",
              "      <td>0:07:30</td>\n",
              "      <td>-0.018428</td>\n",
              "      <td>0.029719</td>\n",
              "      <td>0.033534</td>\n",
              "      <td>-0.516809</td>\n",
              "      <td>0.176393</td>\n",
              "      <td>-0.044717</td>\n",
              "      <td>0.010265</td>\n",
              "      <td>-0.535853</td>\n",
              "      <td>-0.844249</td>\n",
              "      <td>0.012158</td>\n",
              "      <td>0.565518</td>\n",
              "      <td>-0.017456</td>\n",
              "      <td>57.0</td>\n",
              "      <td>Drinking</td>\n",
              "    </tr>\n",
              "    <tr>\n",
              "      <th>3</th>\n",
              "      <td>1</td>\n",
              "      <td>0:07:30</td>\n",
              "      <td>-0.030020</td>\n",
              "      <td>0.097264</td>\n",
              "      <td>-0.011148</td>\n",
              "      <td>-0.373862</td>\n",
              "      <td>0.134326</td>\n",
              "      <td>0.054780</td>\n",
              "      <td>0.006429</td>\n",
              "      <td>-0.512090</td>\n",
              "      <td>-0.858908</td>\n",
              "      <td>0.007485</td>\n",
              "      <td>0.537617</td>\n",
              "      <td>-0.006353</td>\n",
              "      <td>57.0</td>\n",
              "      <td>Drinking</td>\n",
              "    </tr>\n",
              "    <tr>\n",
              "      <th>4</th>\n",
              "      <td>1</td>\n",
              "      <td>0:07:30</td>\n",
              "      <td>0.077300</td>\n",
              "      <td>0.015769</td>\n",
              "      <td>0.029338</td>\n",
              "      <td>-0.166969</td>\n",
              "      <td>-0.073954</td>\n",
              "      <td>0.025240</td>\n",
              "      <td>0.009064</td>\n",
              "      <td>-0.483909</td>\n",
              "      <td>-0.875071</td>\n",
              "      <td>0.010358</td>\n",
              "      <td>0.505116</td>\n",
              "      <td>-0.004498</td>\n",
              "      <td>57.0</td>\n",
              "      <td>Drinking</td>\n",
              "    </tr>\n",
              "  </tbody>\n",
              "</table>\n",
              "</div>"
            ],
            "text/plain": [
              "   ID     Time    Acce_X    Acce_Y    Acce_Z    Gyro_X    Gyro_Y    Gyro_Z  \\\n",
              "0   1  0:07:30  0.021259  0.017636  0.016251 -0.207135  0.024490 -0.084649   \n",
              "1   1  0:07:30  0.045287  0.098442  0.100549 -0.158365  0.152945 -0.108134   \n",
              "2   1  0:07:30 -0.018428  0.029719  0.033534 -0.516809  0.176393 -0.044717   \n",
              "3   1  0:07:30 -0.030020  0.097264 -0.011148 -0.373862  0.134326  0.054780   \n",
              "4   1  0:07:30  0.077300  0.015769  0.029338 -0.166969 -0.073954  0.025240   \n",
              "\n",
              "   Gravity_X  Gravity_Y  Gravity_Z      Roll     Pitch       Yaw  Heart_Rate  \\\n",
              "0  -0.046664  -0.588025  -0.807496 -0.057725  0.628615  0.033968        57.0   \n",
              "1  -0.027709  -0.576454  -0.816659 -0.033916  0.614383  0.008766        57.0   \n",
              "2   0.010265  -0.535853  -0.844249  0.012158  0.565518 -0.017456        57.0   \n",
              "3   0.006429  -0.512090  -0.858908  0.007485  0.537617 -0.006353        57.0   \n",
              "4   0.009064  -0.483909  -0.875071  0.010358  0.505116 -0.004498        57.0   \n",
              "\n",
              "   Activity  \n",
              "0  Drinking  \n",
              "1  Drinking  \n",
              "2  Drinking  \n",
              "3  Drinking  \n",
              "4  Drinking  "
            ]
          },
          "metadata": {
            "tags": []
          },
          "execution_count": 11
        }
      ]
    },
    {
      "metadata": {
        "id": "oc7oZl2Eco-l",
        "colab_type": "code",
        "outputId": "0ccf92b7-e349-417b-ccee-f9ef3564f85c",
        "colab": {
          "base_uri": "https://localhost:8080/",
          "height": 592
        }
      },
      "cell_type": "code",
      "source": [
        "# Show how many training examples exist for each of the six activities\n",
        "training_set['Activity'].value_counts().plot(kind='bar', title='Training Examples by Activity Type')\n",
        "plt.show()\n",
        "\n",
        "# Better understand how the recordings are spread across the different\n",
        "# users who participated in the study\n",
        "training_set['ID'].value_counts().plot(kind='bar', title='Training Examples by User')\n",
        "plt.show()"
      ],
      "execution_count": 0,
      "outputs": [
        {
          "output_type": "display_data",
          "data": {
            "image/png": "[encoded data removed]",
            "text/plain": [
              "<Figure size 432x288 with 1 Axes>"
            ]
          },
          "metadata": {
            "tags": []
          }
        },
        {
          "output_type": "display_data",
          "data": {
            "image/png": "[encoded data removed]",
            "text/plain": [
              "<Figure size 432x288 with 1 Axes>"
            ]
          },
          "metadata": {
            "tags": []
          }
        }
      ]
    },
    {
      "metadata": {
        "id": "fVsefq54UQm5",
        "colab_type": "code",
        "colab": {}
      },
      "cell_type": "code",
      "source": [
        "def plot_activity(activity, data):\n",
        "    fig, (ax0,ax1,ax2,ax3,ax4,ax5,ax6) = plt.subplots(nrows=7,\n",
        "         figsize=(15, 10),\n",
        "         sharex=True)\n",
        "    plot_axis(ax0, data['Time'], data['Acce_X'], 'Acc-X-Axis')\n",
        "    plot_axis(ax1, data['Time'], data['Acce_Y'], 'Acc-Y-Axis')\n",
        "    plot_axis(ax2, data['Time'], data['Acce_Z'], 'Acc-Z-Axis')\n",
        "    plot_axis(ax3, data['Time'], data['Gyro_X'], 'Gyro-X-Axis')\n",
        "    plot_axis(ax4, data['Time'], data['Gyro_Y'], 'Gyro-Y-Axis')\n",
        "    plot_axis(ax5, data['Time'], data['Gyro_Z'], 'Gyro-Z-Axis')\n",
        "    plot_axis(ax6, data['Time'], data['Heart_Rate'], 'Heart Rate')\n",
        "    plt.subplots_adjust(hspace=0.2)\n",
        "    fig.suptitle(activity)\n",
        "    plt.subplots_adjust(top=0.9)\n",
        "    plt.show()"
      ],
      "execution_count": 0,
      "outputs": []
    },
    {
      "metadata": {
        "id": "Ws1AE5hhmQfn",
        "colab_type": "code",
        "colab": {}
      },
      "cell_type": "code",
      "source": [
        "def plot_axis(ax, x, y, title):\n",
        "    ax.plot(x, y, 'r')\n",
        "    ax.set_title(title)\n",
        "    ax.xaxis.set_visible(False)\n",
        "    ax.set_ylim([min(y) - np.std(y), max(y) + np.std(y)])\n",
        "    ax.set_xlim([min(x), max(x)])\n",
        "    ax.grid(True)"
      ],
      "execution_count": 0,
      "outputs": []
    },
    {
      "metadata": {
        "id": "RxFlpGKemTog",
        "colab_type": "code",
        "outputId": "69f2240b-bbd1-4b9c-ccd2-cf2bd07e6525",
        "colab": {
          "base_uri": "https://localhost:8080/",
          "height": 647
        }
      },
      "cell_type": "code",
      "source": [
        "subset = training_set[:3647]\n",
        "plot_activity('Drinking', subset)"
      ],
      "execution_count": 0,
      "outputs": [
        {
          "output_type": "display_data",
          "data": {
            "image/png": "[encoded data removed]",
            "text/plain": [
              "<Figure size 1080x720 with 7 Axes>"
            ]
          },
          "metadata": {
            "tags": []
          }
        }
      ]
    },
    {
      "metadata": {
        "id": "CzaotmlpjdYI",
        "colab_type": "code",
        "colab": {}
      },
      "cell_type": "code",
      "source": [
        "def create_activity_encoded(data_set, le_set):\n",
        "    # Define column name of the label vector\n",
        "    LABEL = 'ActivityEncoded'\n",
        "    # Add a new column to the existing DataFrame with the encoded values\n",
        "    data_set[LABEL] = le_set.fit_transform(data_set['Activity'].values.ravel())\n",
        "    data_set.drop('Activity', axis=1,inplace = True)\n",
        "\n",
        "    '''\n",
        "    #You need this to get back the real label\n",
        "    analyze_data[LABEL] = le_set.inverse_transform(analyze_data[LABEL].values.ravel())\n",
        "    print(analyze_data)\n",
        "    '''"
      ],
      "execution_count": 0,
      "outputs": []
    },
    {
      "metadata": {
        "id": "qfjmdSetjx4G",
        "colab_type": "code",
        "colab": {}
      },
      "cell_type": "code",
      "source": [
        "# Transform the labels from String to Integer via LabelEncoder\n",
        "le_training_activity = preprocessing.LabelEncoder()\n",
        "le_validation_activity = preprocessing.LabelEncoder()\n",
        "le_testing_activity = preprocessing.LabelEncoder()\n",
        "\n",
        "\n",
        "create_activity_encoded(training_set,le_training_activity)\n",
        "create_activity_encoded(validation_set,le_validation_activity)\n",
        "create_activity_encoded(testing_set,le_testing_activity)"
      ],
      "execution_count": 0,
      "outputs": []
    },
    {
      "metadata": {
        "id": "Ob9XQnd4sC-J",
        "colab_type": "code",
        "colab": {}
      },
      "cell_type": "code",
      "source": [
        "#take a df to do things and see the outecomes\n",
        "check_training_data = training_set\n",
        "check_validation_data = validation_set\n",
        "check_testing_data = testing_set"
      ],
      "execution_count": 0,
      "outputs": []
    },
    {
      "metadata": {
        "id": "XPFgrKmJlTL_",
        "colab_type": "code",
        "colab": {}
      },
      "cell_type": "code",
      "source": [
        "def create_time_encoded(data_set, le_set):\n",
        "    # Add a new column to the existing DataFrame with the encoded values\n",
        "    data_set['Time_Stamp'] = le_set.fit_transform(data_set['Time'].values.ravel())\n",
        "    data_set = data_set.drop('Time', axis=1, inplace = True)\n",
        "\n",
        "    '''\n",
        "    #You need this to get back the real label\n",
        "    data_set[LABEL] = le_set.inverse_transform(data_set[LABEL].values.ravel())\n",
        "    print(data_set)\n",
        "    '''"
      ],
      "execution_count": 0,
      "outputs": []
    },
    {
      "metadata": {
        "id": "Dk35SjaClTFV",
        "colab_type": "code",
        "colab": {}
      },
      "cell_type": "code",
      "source": [
        "# Transform the time from String to Integer via LabelEncoder\n",
        "#le_training_time = preprocessing.LabelEncoder()\n",
        "#le_validation_time = preprocessing.LabelEncoder()\n",
        "#le_testing_time = preprocessing.LabelEncoder()\n",
        "le_time = preprocessing.LabelEncoder()\n",
        "\n",
        "create_time_encoded(training_set,le_time)\n",
        "create_time_encoded(validation_set,le_time)\n",
        "create_time_encoded(testing_set,le_time)"
      ],
      "execution_count": 0,
      "outputs": []
    },
    {
      "metadata": {
        "id": "2-MDjqbj0ALi",
        "colab_type": "text"
      },
      "cell_type": "markdown",
      "source": [
        "#Normalize And Standardize Time Series Data\n",
        "\n",
        "we rescaling the data from original so the vaules are within range of 0 to 1\n",
        "\n",
        "y  = (x - mean) / std\n",
        "\n",
        "y = ( x - min) / (max - min)"
      ]
    },
    {
      "metadata": {
        "id": "wFypmi9YuCel",
        "colab_type": "code",
        "outputId": "ec501959-1f84-4829-eaca-fb64769612a8",
        "colab": {
          "base_uri": "https://localhost:8080/",
          "height": 254
        }
      },
      "cell_type": "code",
      "source": [
        "for column in training_set.columns[1:14]:\n",
        "    print(column)"
      ],
      "execution_count": 0,
      "outputs": [
        {
          "output_type": "stream",
          "text": [
            "Acce_X\n",
            "Acce_Y\n",
            "Acce_Z\n",
            "Gyro_X\n",
            "Gyro_Y\n",
            "Gyro_Z\n",
            "Gravity_X\n",
            "Gravity_Y\n",
            "Gravity_Z\n",
            "Roll\n",
            "Pitch\n",
            "Yaw\n",
            "Heart_Rate\n"
          ],
          "name": "stdout"
        }
      ]
    },
    {
      "metadata": {
        "id": "btdi95zxocLh",
        "colab_type": "code",
        "colab": {}
      },
      "cell_type": "code",
      "source": [
        "#go over the colunms in pd and do normalization and standardiztion\n",
        "for column in training_set.columns[1:14]:\n",
        "  #training_set[column] = (training_set[column] - np.mean(training_set[column]))/(np.std(training_set[column]))\n",
        "  training_set[column] = (training_set[column] - min(training_set[column])) / (max(training_set[column]) - min(training_set[column]))\n",
        "  #3 digits in decimal\n",
        "  training_set = round(training_set,3)  "
      ],
      "execution_count": 0,
      "outputs": []
    },
    {
      "metadata": {
        "id": "iu-33mtGocDa",
        "colab_type": "code",
        "colab": {}
      },
      "cell_type": "code",
      "source": [
        "#go over the colunms in pd and do normalization and standardiztion\n",
        "for column in validation_set.columns[1:14]:\n",
        "  #validation_set[column] = (validation_set[column] - np.mean(validation_set[column]))/(np.std(validation_set[column]))\n",
        "  validation_set[column] = (validation_set[column] - min(validation_set[column])) / (max(validation_set[column]) - min(validation_set[column]))\n",
        "  #3 digits in decimal\n",
        "  validation_set = round(validation_set,3)"
      ],
      "execution_count": 0,
      "outputs": []
    },
    {
      "metadata": {
        "id": "KMO8nnDaob59",
        "colab_type": "code",
        "colab": {}
      },
      "cell_type": "code",
      "source": [
        "#go over the colunms in pd and do normalization and standardiztion\n",
        "for column in testing_set.columns[1:14]:\n",
        "  #testing_set[column] = (testing_set[column] - np.mean(testing_set[column]))/(np.std(testing_set[column]))\n",
        "  testing_set[column] = (testing_set[column] - min(testing_set[column])) / (max(testing_set[column]) - min(testing_set[column]))\n",
        "  #3 digits in decimal\n",
        "  testing_set = round(testing_set,3)"
      ],
      "execution_count": 0,
      "outputs": []
    },
    {
      "metadata": {
        "id": "xspB8s5I53y7",
        "colab_type": "text"
      },
      "cell_type": "markdown",
      "source": [
        "This function will create segments and for each segment will attaced the most significant label \n",
        "\n",
        "the size of the segment is SEGMANT_SIZE\n",
        "the size of which we moving from sgement to segment is STEP_DISTANCE\n",
        "\n"
      ]
    },
    {
      "metadata": {
        "id": "tPnaCqUe46c6",
        "colab_type": "code",
        "colab": {}
      },
      "cell_type": "code",
      "source": [
        "def create_segments_and_labels(df, segmant_size, step, label_name):\n",
        "    # sensors as features\n",
        "    N_FEATURES = 13\n",
        "    # Number of steps to advance in each iteration (for me, it should always\n",
        "    # be equal to the segmant_size in order to have no overlap between segments)\n",
        "    # step = segmant_size\n",
        "    segments = []\n",
        "    labels = []\n",
        "    for i in range(0, len(df) - segmant_size, step):\n",
        "      append_segments = list(map(lambda label: df[label].values[i: i + segmant_size], df.columns[1:14]))\n",
        "      # Retrieve the most often used label in this segment\n",
        "      label = stats.mode(df[label_name][i: i + segmant_size])[0][0]\n",
        "      segments.append(append_segments)\n",
        "      labels.append(label)\n",
        "\n",
        "    # Bring the segments into a better shape\n",
        "    reshaped_segments = np.asarray(segments, dtype= np.float32).reshape(-1, segmant_size, N_FEATURES)\n",
        "    labels = np.asarray(labels)\n",
        "    return reshaped_segments, labels"
      ],
      "execution_count": 0,
      "outputs": []
    },
    {
      "metadata": {
        "id": "HcYzhba04a3e",
        "colab_type": "code",
        "colab": {}
      },
      "cell_type": "code",
      "source": [
        "SEGMANT_SIZE = 20\n",
        "STEP_DISTANCE = 5\n",
        "LABEL = 'ActivityEncoded'\n",
        "\n",
        "x_train, y_train = create_segments_and_labels(training_set, SEGMANT_SIZE, STEP_DISTANCE, LABEL)\n",
        "x_validation, y_validation =  create_segments_and_labels(validation_set, SEGMANT_SIZE, STEP_DISTANCE, LABEL)"
      ],
      "execution_count": 0,
      "outputs": []
    },
    {
      "metadata": {
        "id": "5OKu34Xs0rkK",
        "colab_type": "code",
        "outputId": "aebc0c0a-f469-438f-9951-4fb037d4beff",
        "colab": {
          "base_uri": "https://localhost:8080/",
          "height": 90
        }
      },
      "cell_type": "code",
      "source": [
        "print(len(training_set))\n",
        "print('x_train shape: ', x_train.shape)\n",
        "print(x_train.shape[0], 'training samples')\n",
        "print('y_train shape: ', y_train.shape)"
      ],
      "execution_count": 0,
      "outputs": [
        {
          "output_type": "stream",
          "text": [
            "29347\n",
            "x_train shape:  (5866, 20, 13)\n",
            "5866 training samples\n",
            "y_train shape:  (5866,)\n"
          ],
          "name": "stdout"
        }
      ]
    },
    {
      "metadata": {
        "id": "QJcBasUCqVmS",
        "colab_type": "code",
        "outputId": "a26bfa01-e27b-48ee-a344-24a06b359abb",
        "colab": {
          "base_uri": "https://localhost:8080/",
          "height": 90
        }
      },
      "cell_type": "code",
      "source": [
        "print(len(validation_set))\n",
        "print('x_validation shape: ', x_validation.shape)\n",
        "print(x_validation.shape[0], 'training samples')\n",
        "print('y_validation shape: ', y_validation.shape)"
      ],
      "execution_count": 0,
      "outputs": [
        {
          "output_type": "stream",
          "text": [
            "9805\n",
            "x_validation shape:  (1957, 20, 13)\n",
            "1957 training samples\n",
            "y_validation shape:  (1957,)\n"
          ],
          "name": "stdout"
        }
      ]
    },
    {
      "metadata": {
        "id": "OVWvMXgR19tR",
        "colab_type": "code",
        "outputId": "5ba73418-a0d2-4531-8179-4421816e5d8b",
        "colab": {
          "base_uri": "https://localhost:8080/",
          "height": 35
        }
      },
      "cell_type": "code",
      "source": [
        "# Set input & output dimensions\n",
        "num_time_periods, num_sensors = x_train.shape[1], x_train.shape[2]\n",
        "num_classes = le_training_activity.classes_.size\n",
        "print(list(le_training_activity.classes_))"
      ],
      "execution_count": 0,
      "outputs": [
        {
          "output_type": "stream",
          "text": [
            "['Drinking', 'Eating', 'On_Computer', 'On_Phone']\n"
          ],
          "name": "stdout"
        }
      ]
    },
    {
      "metadata": {
        "id": "SO39gxJqqhaX",
        "colab_type": "code",
        "colab": {}
      },
      "cell_type": "code",
      "source": [
        "# Set input & output dimensions\n",
        "num_time_periods_validation, num_sensors_validation = x_validation.shape[1], x_validation.shape[2]"
      ],
      "execution_count": 0,
      "outputs": []
    },
    {
      "metadata": {
        "id": "D0pkufxC-hLM",
        "colab_type": "code",
        "outputId": "ab9ce315-9a4d-4bcb-f624-6c9bbbf774a8",
        "colab": {
          "base_uri": "https://localhost:8080/",
          "height": 53
        }
      },
      "cell_type": "code",
      "source": [
        "input_shape = (num_time_periods*num_sensors)\n",
        "x_train = x_train.reshape(x_train.shape[0], input_shape)\n",
        "print('x_train shape:', x_train.shape)\n",
        "print('input_shape:', input_shape)"
      ],
      "execution_count": 0,
      "outputs": [
        {
          "output_type": "stream",
          "text": [
            "x_train shape: (5866, 260)\n",
            "input_shape: 260\n"
          ],
          "name": "stdout"
        }
      ]
    },
    {
      "metadata": {
        "id": "RYVInCUrqqxM",
        "colab_type": "code",
        "outputId": "60e50edd-a9fc-45c8-e7c6-4bf80eb5a0c2",
        "colab": {
          "base_uri": "https://localhost:8080/",
          "height": 53
        }
      },
      "cell_type": "code",
      "source": [
        "input_shape_validation = (num_time_periods_validation*num_sensors_validation)\n",
        "x_validation = x_validation.reshape(x_validation.shape[0], input_shape_validation)\n",
        "print('x_validation shape:', x_validation.shape)\n",
        "print('input_shape_validation:', input_shape_validation)"
      ],
      "execution_count": 0,
      "outputs": [
        {
          "output_type": "stream",
          "text": [
            "x_validation shape: (1957, 260)\n",
            "input_shape_validation: 260\n"
          ],
          "name": "stdout"
        }
      ]
    },
    {
      "metadata": {
        "id": "q74kCnYe_J2L",
        "colab_type": "code",
        "colab": {}
      },
      "cell_type": "code",
      "source": [
        "x_train = x_train.astype('float32')\n",
        "y_train = y_train.astype('float32')\n",
        "x_validation = x_validation.astype('float32')\n",
        "y_validation = y_validation.astype('float32')"
      ],
      "execution_count": 0,
      "outputs": []
    },
    {
      "metadata": {
        "id": "H-pnZaBz_XVI",
        "colab_type": "code",
        "outputId": "a02714a7-49b5-4c3a-efa5-25688852fafb",
        "colab": {
          "base_uri": "https://localhost:8080/",
          "height": 35
        }
      },
      "cell_type": "code",
      "source": [
        "y_train_hot_encoding = np_utils.to_categorical(y_train, num_classes)\n",
        "print('New y_train shape: ', y_train_hot_encoding.shape)"
      ],
      "execution_count": 0,
      "outputs": [
        {
          "output_type": "stream",
          "text": [
            "New y_train shape:  (5866, 4)\n"
          ],
          "name": "stdout"
        }
      ]
    },
    {
      "metadata": {
        "id": "RFtQE_c_rMvE",
        "colab_type": "code",
        "outputId": "cb5aa15f-1a78-4455-d59b-00aff2112cd8",
        "colab": {
          "base_uri": "https://localhost:8080/",
          "height": 35
        }
      },
      "cell_type": "code",
      "source": [
        "y_validation_hot_encoding = np_utils.to_categorical(y_validation, num_classes)\n",
        "print('New y_validation shape: ', y_validation_hot_encoding.shape)"
      ],
      "execution_count": 0,
      "outputs": [
        {
          "output_type": "stream",
          "text": [
            "New y_validation shape:  (1957, 4)\n"
          ],
          "name": "stdout"
        }
      ]
    },
    {
      "metadata": {
        "id": "dfeBrkeu_hDn",
        "colab_type": "code",
        "outputId": "0863b6eb-f939-4fa2-8327-645e78861338",
        "colab": {
          "base_uri": "https://localhost:8080/",
          "height": 456
        }
      },
      "cell_type": "code",
      "source": [
        "model_m = Sequential()\n",
        "# Remark: since coreml cannot accept vector shapes of complex shape like\n",
        "# [80,3] this workaround is used in order to reshape the vector internally\n",
        "# prior feeding it into the network\n",
        "model_m.add(Reshape((SEGMANT_SIZE, 13), input_shape=(input_shape,)))\n",
        "model_m.add(Dense(100, activation='relu'))\n",
        "model_m.add(Dense(100, activation='relu'))\n",
        "model_m.add(Dense(100, activation='relu'))\n",
        "model_m.add(Flatten())\n",
        "model_m.add(Dense(num_classes, activation='softmax'))\n",
        "print(model_m.summary())"
      ],
      "execution_count": 0,
      "outputs": [
        {
          "output_type": "stream",
          "text": [
            "WARNING:tensorflow:From /usr/local/lib/python3.6/dist-packages/tensorflow/python/framework/op_def_library.py:263: colocate_with (from tensorflow.python.framework.ops) is deprecated and will be removed in a future version.\n",
            "Instructions for updating:\n",
            "Colocations handled automatically by placer.\n",
            "_________________________________________________________________\n",
            "Layer (type)                 Output Shape              Param #   \n",
            "=================================================================\n",
            "reshape_1 (Reshape)          (None, 20, 13)            0         \n",
            "_________________________________________________________________\n",
            "dense_1 (Dense)              (None, 20, 100)           1400      \n",
            "_________________________________________________________________\n",
            "dense_2 (Dense)              (None, 20, 100)           10100     \n",
            "_________________________________________________________________\n",
            "dense_3 (Dense)              (None, 20, 100)           10100     \n",
            "_________________________________________________________________\n",
            "flatten_1 (Flatten)          (None, 2000)              0         \n",
            "_________________________________________________________________\n",
            "dense_4 (Dense)              (None, 4)                 8004      \n",
            "=================================================================\n",
            "Total params: 29,604\n",
            "Trainable params: 29,604\n",
            "Non-trainable params: 0\n",
            "_________________________________________________________________\n",
            "None\n"
          ],
          "name": "stdout"
        }
      ]
    },
    {
      "metadata": {
        "id": "91uReGjTAErG",
        "colab_type": "code",
        "outputId": "88ad01fd-cbf7-49aa-e1ca-f578a6817ddb",
        "colab": {
          "base_uri": "https://localhost:8080/",
          "height": 1930
        }
      },
      "cell_type": "code",
      "source": [
        "'''\n",
        "callbacks_list = [\n",
        "    keras.callbacks.ModelCheckpoint(\n",
        "        filepath='best_model.{epoch:02d}-{val_loss:.2f}.h5',\n",
        "        monitor='val_loss', save_best_only=True),\n",
        "    keras.callbacks.EarlyStopping(monitor='acc', patience=1)\n",
        "]\n",
        "'''\n",
        "\n",
        "model_m.compile(loss='categorical_crossentropy',\n",
        "                optimizer='adam', metrics=['accuracy'])\n",
        "\n",
        "# Hyper-parameters\n",
        "BATCH_SIZE = 20\n",
        "EPOCHS = 50\n",
        "\n",
        "# Enable validation to use ModelCheckpoint and EarlyStopping callbacks.\n",
        "history = model_m.fit(x_train, y_train_hot_encoding, validation_data=(x_validation, y_validation_hot_encoding), batch_size=BATCH_SIZE, epochs=EPOCHS, verbose=1)"
      ],
      "execution_count": 0,
      "outputs": [
        {
          "output_type": "stream",
          "text": [
            "WARNING:tensorflow:From /usr/local/lib/python3.6/dist-packages/tensorflow/python/ops/math_ops.py:3066: to_int32 (from tensorflow.python.ops.math_ops) is deprecated and will be removed in a future version.\n",
            "Instructions for updating:\n",
            "Use tf.cast instead.\n",
            "Train on 5866 samples, validate on 1957 samples\n",
            "Epoch 1/50\n",
            "5866/5866 [==============================] - 3s 479us/step - loss: 0.9710 - acc: 0.5892 - val_loss: 0.9603 - val_acc: 0.6490\n",
            "Epoch 2/50\n",
            "5866/5866 [==============================] - 2s 306us/step - loss: 0.7091 - acc: 0.7102 - val_loss: 0.9819 - val_acc: 0.6346\n",
            "Epoch 3/50\n",
            "5866/5866 [==============================] - 2s 306us/step - loss: 0.6291 - acc: 0.7492 - val_loss: 1.1653 - val_acc: 0.6106\n",
            "Epoch 4/50\n",
            "5866/5866 [==============================] - 2s 302us/step - loss: 0.5734 - acc: 0.7685 - val_loss: 1.4779 - val_acc: 0.5457\n",
            "Epoch 5/50\n",
            "5866/5866 [==============================] - 2s 303us/step - loss: 0.5458 - acc: 0.7881 - val_loss: 1.5355 - val_acc: 0.5611\n",
            "Epoch 6/50\n",
            "5866/5866 [==============================] - 2s 302us/step - loss: 0.5125 - acc: 0.8007 - val_loss: 2.0672 - val_acc: 0.4149\n",
            "Epoch 7/50\n",
            "5866/5866 [==============================] - 2s 304us/step - loss: 0.4973 - acc: 0.8106 - val_loss: 2.5975 - val_acc: 0.4272\n",
            "Epoch 8/50\n",
            "5866/5866 [==============================] - 2s 304us/step - loss: 0.4845 - acc: 0.8104 - val_loss: 2.5093 - val_acc: 0.4175\n",
            "Epoch 9/50\n",
            "5866/5866 [==============================] - 2s 301us/step - loss: 0.4635 - acc: 0.8254 - val_loss: 2.8613 - val_acc: 0.4057\n",
            "Epoch 10/50\n",
            "5866/5866 [==============================] - 2s 301us/step - loss: 0.4368 - acc: 0.8406 - val_loss: 2.8832 - val_acc: 0.4047\n",
            "Epoch 11/50\n",
            "5866/5866 [==============================] - 2s 298us/step - loss: 0.4388 - acc: 0.8341 - val_loss: 2.6318 - val_acc: 0.4410\n",
            "Epoch 12/50\n",
            "5866/5866 [==============================] - 2s 302us/step - loss: 0.4191 - acc: 0.8438 - val_loss: 3.0041 - val_acc: 0.4042\n",
            "Epoch 13/50\n",
            "5866/5866 [==============================] - 2s 302us/step - loss: 0.4259 - acc: 0.8411 - val_loss: 3.2471 - val_acc: 0.3740\n",
            "Epoch 14/50\n",
            "5866/5866 [==============================] - 2s 299us/step - loss: 0.3977 - acc: 0.8478 - val_loss: 3.1162 - val_acc: 0.4144\n",
            "Epoch 15/50\n",
            "5866/5866 [==============================] - 2s 303us/step - loss: 0.3818 - acc: 0.8577 - val_loss: 3.0405 - val_acc: 0.4062\n",
            "Epoch 16/50\n",
            "5866/5866 [==============================] - 2s 300us/step - loss: 0.3740 - acc: 0.8597 - val_loss: 3.0266 - val_acc: 0.4527\n",
            "Epoch 17/50\n",
            "5866/5866 [==============================] - 2s 303us/step - loss: 0.3671 - acc: 0.8635 - val_loss: 3.1899 - val_acc: 0.4430\n",
            "Epoch 18/50\n",
            "5866/5866 [==============================] - 2s 297us/step - loss: 0.3511 - acc: 0.8730 - val_loss: 3.6483 - val_acc: 0.4354\n",
            "Epoch 19/50\n",
            "5866/5866 [==============================] - 2s 304us/step - loss: 0.3434 - acc: 0.8698 - val_loss: 3.4182 - val_acc: 0.4216\n",
            "Epoch 20/50\n",
            "5866/5866 [==============================] - 2s 301us/step - loss: 0.3232 - acc: 0.8805 - val_loss: 2.9873 - val_acc: 0.4859\n",
            "Epoch 21/50\n",
            "5866/5866 [==============================] - 2s 300us/step - loss: 0.3180 - acc: 0.8822 - val_loss: 3.1004 - val_acc: 0.4655\n",
            "Epoch 22/50\n",
            "5866/5866 [==============================] - 2s 303us/step - loss: 0.3063 - acc: 0.8815 - val_loss: 3.0838 - val_acc: 0.4870\n",
            "Epoch 23/50\n",
            "5866/5866 [==============================] - 2s 301us/step - loss: 0.2972 - acc: 0.8890 - val_loss: 3.5413 - val_acc: 0.4502\n",
            "Epoch 24/50\n",
            "5866/5866 [==============================] - 2s 303us/step - loss: 0.2913 - acc: 0.8926 - val_loss: 3.2200 - val_acc: 0.4635\n",
            "Epoch 25/50\n",
            "5866/5866 [==============================] - 2s 300us/step - loss: 0.2789 - acc: 0.8936 - val_loss: 3.5911 - val_acc: 0.4354\n",
            "Epoch 26/50\n",
            "5866/5866 [==============================] - 2s 303us/step - loss: 0.2740 - acc: 0.8969 - val_loss: 3.4180 - val_acc: 0.4287\n",
            "Epoch 27/50\n",
            "5866/5866 [==============================] - 2s 304us/step - loss: 0.2820 - acc: 0.8924 - val_loss: 3.5669 - val_acc: 0.4670\n",
            "Epoch 28/50\n",
            "5866/5866 [==============================] - 2s 308us/step - loss: 0.2632 - acc: 0.9011 - val_loss: 3.6304 - val_acc: 0.4354\n",
            "Epoch 29/50\n",
            "5866/5866 [==============================] - 2s 305us/step - loss: 0.2420 - acc: 0.9093 - val_loss: 3.4993 - val_acc: 0.4819\n",
            "Epoch 30/50\n",
            "5866/5866 [==============================] - 2s 307us/step - loss: 0.2446 - acc: 0.9047 - val_loss: 3.6172 - val_acc: 0.4686\n",
            "Epoch 31/50\n",
            "5866/5866 [==============================] - 2s 306us/step - loss: 0.2366 - acc: 0.9108 - val_loss: 3.5395 - val_acc: 0.4992\n",
            "Epoch 32/50\n",
            "5866/5866 [==============================] - 2s 306us/step - loss: 0.2440 - acc: 0.9064 - val_loss: 3.8101 - val_acc: 0.4517\n",
            "Epoch 33/50\n",
            "5866/5866 [==============================] - 2s 300us/step - loss: 0.2198 - acc: 0.9173 - val_loss: 4.3117 - val_acc: 0.4400\n",
            "Epoch 34/50\n",
            "5866/5866 [==============================] - 2s 300us/step - loss: 0.2176 - acc: 0.9187 - val_loss: 3.6958 - val_acc: 0.5038\n",
            "Epoch 35/50\n",
            "5866/5866 [==============================] - 2s 301us/step - loss: 0.2117 - acc: 0.9183 - val_loss: 3.7822 - val_acc: 0.5059\n",
            "Epoch 36/50\n",
            "5866/5866 [==============================] - 2s 297us/step - loss: 0.2067 - acc: 0.9197 - val_loss: 4.7416 - val_acc: 0.4333\n",
            "Epoch 37/50\n",
            "5866/5866 [==============================] - 2s 298us/step - loss: 0.1971 - acc: 0.9275 - val_loss: 4.6704 - val_acc: 0.4292\n",
            "Epoch 38/50\n",
            "5866/5866 [==============================] - 2s 303us/step - loss: 0.1947 - acc: 0.9274 - val_loss: 3.8075 - val_acc: 0.4951\n",
            "Epoch 39/50\n",
            "5866/5866 [==============================] - 2s 298us/step - loss: 0.1924 - acc: 0.9272 - val_loss: 4.5916 - val_acc: 0.4538\n",
            "Epoch 40/50\n",
            "5866/5866 [==============================] - 2s 300us/step - loss: 0.1915 - acc: 0.9247 - val_loss: 3.8427 - val_acc: 0.4977\n",
            "Epoch 41/50\n",
            "5866/5866 [==============================] - 2s 302us/step - loss: 0.1696 - acc: 0.9371 - val_loss: 4.1662 - val_acc: 0.5043\n",
            "Epoch 42/50\n",
            "5866/5866 [==============================] - 2s 298us/step - loss: 0.1759 - acc: 0.9364 - val_loss: 4.2933 - val_acc: 0.4982\n",
            "Epoch 43/50\n",
            "5866/5866 [==============================] - 2s 300us/step - loss: 0.1834 - acc: 0.9316 - val_loss: 3.8114 - val_acc: 0.5156\n",
            "Epoch 44/50\n",
            "5866/5866 [==============================] - 2s 300us/step - loss: 0.1691 - acc: 0.9378 - val_loss: 4.8800 - val_acc: 0.4538\n",
            "Epoch 45/50\n",
            "5866/5866 [==============================] - 2s 304us/step - loss: 0.1590 - acc: 0.9410 - val_loss: 4.2897 - val_acc: 0.4681\n",
            "Epoch 46/50\n",
            "5866/5866 [==============================] - 2s 297us/step - loss: 0.1455 - acc: 0.9483 - val_loss: 4.4726 - val_acc: 0.5089\n",
            "Epoch 47/50\n",
            "5866/5866 [==============================] - 2s 300us/step - loss: 0.1576 - acc: 0.9444 - val_loss: 5.3717 - val_acc: 0.4236\n",
            "Epoch 48/50\n",
            "5866/5866 [==============================] - 2s 302us/step - loss: 0.1648 - acc: 0.9386 - val_loss: 4.7361 - val_acc: 0.4732\n",
            "Epoch 49/50\n",
            "5866/5866 [==============================] - 2s 299us/step - loss: 0.1433 - acc: 0.9432 - val_loss: 4.7764 - val_acc: 0.4563\n",
            "Epoch 50/50\n",
            "5866/5866 [==============================] - 2s 297us/step - loss: 0.1509 - acc: 0.9443 - val_loss: 4.4317 - val_acc: 0.5018\n"
          ],
          "name": "stdout"
        }
      ]
    },
    {
      "metadata": {
        "id": "VdeVeTSuw_Ss",
        "colab_type": "code",
        "outputId": "39c4dfa0-0dda-4fad-f65e-881625c531e3",
        "colab": {
          "base_uri": "https://localhost:8080/",
          "height": 294
        }
      },
      "cell_type": "code",
      "source": [
        "plt.plot(history.history['loss'])\n",
        "plt.plot(history.history['val_loss'])\n",
        "plt.title('simple model acc')\n",
        "plt.ylabel('acc')\n",
        "plt.xlabel('epoch')\n",
        "plt.legend(['train', 'validation'], loc='upper left')\n",
        "plt.show()"
      ],
      "execution_count": 0,
      "outputs": [
        {
          "output_type": "display_data",
          "data": {
            "image/png": "[encoded data removed]",
            "text/plain": [
              "<Figure size 432x288 with 1 Axes>"
            ]
          },
          "metadata": {
            "tags": []
          }
        }
      ]
    },
    {
      "metadata": {
        "id": "ZgP17VABAjay",
        "colab_type": "code",
        "colab": {}
      },
      "cell_type": "code",
      "source": [
        "# fit and evaluate a model\n",
        "def evaluate_model(trainX, trainy, valX, valy):\n",
        "  verbose, epochs, batch_size = 1, 20, 50\n",
        "  n_timesteps, n_features, n_outputs = 20, 13, 4\n",
        "  model = Sequential()  \n",
        "  model.add(Reshape((SEGMANT_SIZE, 13), input_shape=(260,)))\n",
        "  model.add(LSTM(100, activation='relu'))\n",
        "  model.add(Dropout(0.5))\n",
        "  model.add(Dense(100, activation='relu'))\n",
        "  model.add(Dense(n_outputs, activation='softmax'))\n",
        "  model.compile(loss='categorical_crossentropy', optimizer='adam', metrics=['accuracy'])\n",
        "  # fit network\n",
        "  history = model.fit(trainX, trainy, validation_data=(valX, valy), epochs=epochs, batch_size=batch_size, verbose=verbose)\n",
        "  return model, history\n",
        "   "
      ],
      "execution_count": 0,
      "outputs": []
    },
    {
      "metadata": {
        "id": "7Ef7JTlJt_Sv",
        "colab_type": "code",
        "outputId": "d0a4d316-4205-4a42-f5fd-09a81050cc54",
        "colab": {
          "base_uri": "https://localhost:8080/",
          "height": 838
        }
      },
      "cell_type": "code",
      "source": [
        "model, history = evaluate_model(x_train, y_train_hot_encoding,x_validation, y_validation_hot_encoding)"
      ],
      "execution_count": 0,
      "outputs": [
        {
          "output_type": "stream",
          "text": [
            "WARNING:tensorflow:From /usr/local/lib/python3.6/dist-packages/keras/backend/tensorflow_backend.py:3445: calling dropout (from tensorflow.python.ops.nn_ops) with keep_prob is deprecated and will be removed in a future version.\n",
            "Instructions for updating:\n",
            "Please use `rate` instead of `keep_prob`. Rate should be set to `rate = 1 - keep_prob`.\n",
            "Train on 5866 samples, validate on 1957 samples\n",
            "Epoch 1/20\n",
            "5866/5866 [==============================] - 7s 1ms/step - loss: 1.3306 - acc: 0.3144 - val_loss: 1.4772 - val_acc: 0.3229\n",
            "Epoch 2/20\n",
            "5866/5866 [==============================] - 6s 1ms/step - loss: 1.1115 - acc: 0.4944 - val_loss: 0.9977 - val_acc: 0.5314\n",
            "Epoch 3/20\n",
            "5866/5866 [==============================] - 6s 1ms/step - loss: 0.9556 - acc: 0.5863 - val_loss: 0.9239 - val_acc: 0.5846\n",
            "Epoch 4/20\n",
            "5866/5866 [==============================] - 6s 1ms/step - loss: 0.8854 - acc: 0.6234 - val_loss: 0.8651 - val_acc: 0.6265\n",
            "Epoch 5/20\n",
            "5866/5866 [==============================] - 6s 1ms/step - loss: 0.8356 - acc: 0.6527 - val_loss: 0.9411 - val_acc: 0.5958\n",
            "Epoch 6/20\n",
            "5866/5866 [==============================] - 6s 1ms/step - loss: 0.8131 - acc: 0.6686 - val_loss: 0.9264 - val_acc: 0.6244\n",
            "Epoch 7/20\n",
            "5866/5866 [==============================] - 6s 1ms/step - loss: 0.7861 - acc: 0.6783 - val_loss: 0.8482 - val_acc: 0.6679\n",
            "Epoch 8/20\n",
            "5866/5866 [==============================] - 6s 1ms/step - loss: 0.7812 - acc: 0.6834 - val_loss: 1.2481 - val_acc: 0.5100\n",
            "Epoch 9/20\n",
            "5866/5866 [==============================] - 6s 1ms/step - loss: 0.7440 - acc: 0.6993 - val_loss: 0.9228 - val_acc: 0.5652\n",
            "Epoch 10/20\n",
            "5866/5866 [==============================] - 6s 1ms/step - loss: 0.7290 - acc: 0.7042 - val_loss: 0.9480 - val_acc: 0.6275\n",
            "Epoch 11/20\n",
            "5866/5866 [==============================] - 6s 1ms/step - loss: 0.7020 - acc: 0.7247 - val_loss: 0.9607 - val_acc: 0.6387\n",
            "Epoch 12/20\n",
            "5866/5866 [==============================] - 6s 1ms/step - loss: 0.6906 - acc: 0.7262 - val_loss: 1.2263 - val_acc: 0.6249\n",
            "Epoch 13/20\n",
            "5866/5866 [==============================] - 6s 1ms/step - loss: 0.6609 - acc: 0.7342 - val_loss: 0.9893 - val_acc: 0.5743\n",
            "Epoch 14/20\n",
            "5866/5866 [==============================] - 6s 1ms/step - loss: 0.6681 - acc: 0.7344 - val_loss: 0.8984 - val_acc: 0.6162\n",
            "Epoch 15/20\n",
            "5866/5866 [==============================] - 6s 1ms/step - loss: 0.6573 - acc: 0.7419 - val_loss: 0.9101 - val_acc: 0.5907\n",
            "Epoch 16/20\n",
            "5866/5866 [==============================] - 6s 1ms/step - loss: 0.6613 - acc: 0.7380 - val_loss: 0.9021 - val_acc: 0.6168\n",
            "Epoch 17/20\n",
            "5866/5866 [==============================] - 6s 1ms/step - loss: 0.6272 - acc: 0.7533 - val_loss: 0.9939 - val_acc: 0.6464\n",
            "Epoch 18/20\n",
            "5866/5866 [==============================] - 6s 1ms/step - loss: 0.6171 - acc: 0.7603 - val_loss: 0.9022 - val_acc: 0.6510\n",
            "Epoch 19/20\n",
            "5866/5866 [==============================] - 6s 1ms/step - loss: 0.6075 - acc: 0.7637 - val_loss: 1.1500 - val_acc: 0.5309\n",
            "Epoch 20/20\n",
            "5866/5866 [==============================] - 6s 1ms/step - loss: 0.6105 - acc: 0.7595 - val_loss: 0.8984 - val_acc: 0.6352\n"
          ],
          "name": "stdout"
        }
      ]
    },
    {
      "metadata": {
        "id": "1CGAAlCnt_M_",
        "colab_type": "code",
        "outputId": "4415b215-fee7-4593-cf32-e16a6ef9e63f",
        "colab": {
          "base_uri": "https://localhost:8080/",
          "height": 294
        }
      },
      "cell_type": "code",
      "source": [
        "plt.plot(history.history['loss'])\n",
        "plt.plot(history.history['val_loss'])\n",
        "plt.title('simple model loss')\n",
        "plt.ylabel('loss')\n",
        "plt.xlabel('epoch')\n",
        "plt.legend(['train', 'validation'], loc='upper left')\n",
        "plt.show()"
      ],
      "execution_count": 0,
      "outputs": [
        {
          "output_type": "display_data",
          "data": {
            "image/png": "[encoded data removed]",
            "text/plain": [
              "<Figure size 432x288 with 1 Axes>"
            ]
          },
          "metadata": {
            "tags": []
          }
        }
      ]
    },
    {
      "metadata": {
        "id": "3x6tf7mhyrWT",
        "colab_type": "code",
        "outputId": "dbd340cf-dbb2-4d87-9e6b-42cdb12f29c2",
        "colab": {
          "base_uri": "https://localhost:8080/",
          "height": 294
        }
      },
      "cell_type": "code",
      "source": [
        "plt.plot(history.history['acc'])\n",
        "plt.plot(history.history['val_acc'])\n",
        "plt.title('simple model accuracy')\n",
        "plt.ylabel('accuracy')\n",
        "plt.xlabel('epoch')\n",
        "plt.legend(['train', 'validation'], loc='upper left')\n",
        "plt.show()"
      ],
      "execution_count": 0,
      "outputs": [
        {
          "output_type": "display_data",
          "data": {
            "image/png": "[encoded data removed]",
            "text/plain": [
              "<Figure size 432x288 with 1 Axes>"
            ]
          },
          "metadata": {
            "tags": []
          }
        }
      ]
    },
    {
      "metadata": {
        "id": "VmgjO7c_0btk",
        "colab_type": "text"
      },
      "cell_type": "markdown",
      "source": [
        "work on test"
      ]
    },
    {
      "metadata": {
        "id": "DM_ruSJp0oYH",
        "colab_type": "code",
        "colab": {}
      },
      "cell_type": "code",
      "source": [
        "x_test, y_test = create_segments_and_labels(testing_set, SEGMANT_SIZE, STEP_DISTANCE, LABEL)"
      ],
      "execution_count": 0,
      "outputs": []
    },
    {
      "metadata": {
        "id": "1Xek4IEH0NjU",
        "colab_type": "code",
        "outputId": "504aa1e6-aafe-4e8c-c5b7-74c583099b64",
        "colab": {
          "base_uri": "https://localhost:8080/",
          "height": 90
        }
      },
      "cell_type": "code",
      "source": [
        "print(len(testing_set))\n",
        "print('x_test shape: ', x_test.shape)\n",
        "print(x_test.shape[0], 'training samples')\n",
        "print('y_test shape: ', y_test.shape)"
      ],
      "execution_count": 0,
      "outputs": [
        {
          "output_type": "stream",
          "text": [
            "9744\n",
            "x_test shape:  (1945, 20, 13)\n",
            "1945 training samples\n",
            "y_test shape:  (1945,)\n"
          ],
          "name": "stdout"
        }
      ]
    },
    {
      "metadata": {
        "id": "bQwJ0udi0p_d",
        "colab_type": "code",
        "colab": {}
      },
      "cell_type": "code",
      "source": [
        "# Set input & output dimensions\n",
        "num_time_periods_test, num_sensors_test = x_test.shape[1], x_test.shape[2]"
      ],
      "execution_count": 0,
      "outputs": []
    },
    {
      "metadata": {
        "id": "IqJWMQyo06Ww",
        "colab_type": "code",
        "outputId": "14a036c7-11ec-4e60-fabb-7ceb17c776f5",
        "colab": {
          "base_uri": "https://localhost:8080/",
          "height": 53
        }
      },
      "cell_type": "code",
      "source": [
        "input_shape_test = (num_time_periods_test*num_sensors_test)\n",
        "x_test = x_test.reshape(x_test.shape[0], input_shape_test)\n",
        "print('x_test shape:', x_test.shape)\n",
        "print('input_shape_test:', input_shape_test)\n"
      ],
      "execution_count": 0,
      "outputs": [
        {
          "output_type": "stream",
          "text": [
            "x_test shape: (1945, 260)\n",
            "input_shape_test: 260\n"
          ],
          "name": "stdout"
        }
      ]
    },
    {
      "metadata": {
        "id": "Yo3VOh5H1Kmi",
        "colab_type": "code",
        "colab": {}
      },
      "cell_type": "code",
      "source": [
        "x_test = x_validation.astype('float32')\n",
        "#y_test = y_validation.astype('float32')"
      ],
      "execution_count": 0,
      "outputs": []
    },
    {
      "metadata": {
        "id": "B7yCLdFI1WQk",
        "colab_type": "code",
        "outputId": "3461dd6a-a1f8-4548-9b53-ec36a6b9fd12",
        "colab": {
          "base_uri": "https://localhost:8080/",
          "height": 35
        }
      },
      "cell_type": "code",
      "source": [
        "'''\n",
        "y_test_hot_encoding = np_utils.to_categorical(y_test, num_classes)\n",
        "print('New y_test shape: ', y_test_hot_encoding.shape)\n",
        "'''\n"
      ],
      "execution_count": 0,
      "outputs": [
        {
          "output_type": "execute_result",
          "data": {
            "text/plain": [
              "\"\\ny_test_hot_encoding = np_utils.to_categorical(y_test, num_classes)\\nprint('New y_test shape: ', y_test_hot_encoding.shape)\\n\""
            ]
          },
          "metadata": {
            "tags": []
          },
          "execution_count": 52
        }
      ]
    },
    {
      "metadata": {
        "id": "3oH7RWpoy3LE",
        "colab_type": "code",
        "outputId": "b82c3221-8931-48aa-e0e5-ced741f19468",
        "colab": {
          "base_uri": "https://localhost:8080/",
          "height": 53
        }
      },
      "cell_type": "code",
      "source": [
        "preds = model.predict(x_test[:1945])\n",
        "pred_cat = np.argmax(preds,axis=1)\n",
        "print('')\n",
        "print()"
      ],
      "execution_count": 0,
      "outputs": [
        {
          "output_type": "stream",
          "text": [
            "\n",
            "\n"
          ],
          "name": "stdout"
        }
      ]
    },
    {
      "metadata": {
        "id": "VE8LDIPr4QZA",
        "colab_type": "code",
        "outputId": "ddf26df1-a084-4108-b6cf-546e965b1b20",
        "colab": {
          "base_uri": "https://localhost:8080/",
          "height": 35
        }
      },
      "cell_type": "code",
      "source": [
        "len(y_test)"
      ],
      "execution_count": 0,
      "outputs": [
        {
          "output_type": "execute_result",
          "data": {
            "text/plain": [
              "1945"
            ]
          },
          "metadata": {
            "tags": []
          },
          "execution_count": 58
        }
      ]
    },
    {
      "metadata": {
        "id": "24P-roh-2VTr",
        "colab_type": "code",
        "outputId": "bbc52c85-e577-48d6-a654-8e6e339c4151",
        "colab": {
          "base_uri": "https://localhost:8080/",
          "height": 367
        }
      },
      "cell_type": "code",
      "source": [
        "print('model accuracy on traning set is: {}%'.format(history.history['acc'][19]*100))\n",
        "print('model accuracy on validation set is: {}%'.format(history.history['val_acc'][19]*100))\n",
        "print('model accuracy on test set is: {}%'.format(accuracy_score(y_test,pred_cat)*100))\n",
        "sns.heatmap(confusion_matrix(y_test,pred_cat),cmap='Greens',annot=True, fmt='d')\n",
        "plt.xlabel('Prediction')\n",
        "plt.ylabel('True label')\n",
        "plt.title('simple model classification results on test set')"
      ],
      "execution_count": 0,
      "outputs": [
        {
          "output_type": "stream",
          "text": [
            "model accuracy on traning set is: 75.94613000024027%\n",
            "model accuracy on validation set is: 63.515585039989276%\n",
            "model accuracy on test set is: 63.75321336760925%\n"
          ],
          "name": "stdout"
        },
        {
          "output_type": "execute_result",
          "data": {
            "text/plain": [
              "Text(0.5, 1.0, 'simple model classification results on test set')"
            ]
          },
          "metadata": {
            "tags": []
          },
          "execution_count": 59
        },
        {
          "output_type": "display_data",
          "data": {
            "image/png": "[encoded data removed]",
            "text/plain": [
              "<Figure size 432x288 with 2 Axes>"
            ]
          },
          "metadata": {
            "tags": []
          }
        }
      ]
    }
  ]
}