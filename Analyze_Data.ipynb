{
  "nbformat": 4,
  "nbformat_minor": 0,
  "metadata": {
    "colab": {
      "name": "Analyze_Data.ipynb",
      "version": "0.3.2",
      "provenance": [],
      "collapsed_sections": []
    },
    "kernelspec": {
      "name": "python3",
      "display_name": "Python 3"
    },
    "accelerator": "GPU"
  },
  "cells": [
    {
      "metadata": {
        "id": "ZSNgoz_bmZF_",
        "colab_type": "text"
      },
      "cell_type": "markdown",
      "source": [
        "\n",
        "#Create a Rnn for time series\n",
        "\n"
      ]
    },
    {
      "metadata": {
        "id": "qPmiaRQjikg2",
        "colab_type": "code",
        "outputId": "de10fad9-ec00-4a8e-d855-ecf5294b0f8c",
        "colab": {
          "base_uri": "https://localhost:8080/",
          "height": 35
        }
      },
      "cell_type": "code",
      "source": [
        "import numpy as np\n",
        "import matplotlib.pyplot as plt\n",
        "import pandas as pd\n",
        "\n",
        "from sklearn import metrics\n",
        "from sklearn.metrics import classification_report\n",
        "from sklearn import preprocessing\n",
        "\n",
        "import keras\n",
        "from keras.models import Sequential\n",
        "from keras.layers import Dense, Dropout, Flatten, Reshape, LSTM, BatchNormalization, Conv2D, MaxPooling2D, RNN\n",
        "from keras.optimizers import Adam\n",
        "from keras.utils import np_utils\n",
        "\n",
        "from scipy import stats\n",
        "import matplotlib.pyplot as plt\n",
        "%matplotlib inline\n",
        "from sklearn.metrics import confusion_matrix,accuracy_score,log_loss\n",
        "from sklearn.ensemble import RandomForestClassifier\n",
        "import seaborn as sns\n",
        "import random"
      ],
      "execution_count": 0,
      "outputs": [
        {
          "output_type": "stream",
          "text": [
            "Using TensorFlow backend.\n"
          ],
          "name": "stderr"
        }
      ]
    },
    {
      "metadata": {
        "id": "hMItINKfitgb",
        "colab_type": "code",
        "outputId": "9e0294dd-7aba-40f1-b676-b935b2e3c108",
        "colab": {
          "base_uri": "https://localhost:8080/",
          "height": 35
        }
      },
      "cell_type": "code",
      "source": [
        "#Get access to google drive\n",
        "from google.colab import drive\n",
        "drive.mount('/content/drive/')"
      ],
      "execution_count": 0,
      "outputs": [
        {
          "output_type": "stream",
          "text": [
            "Drive already mounted at /content/drive/; to attempt to forcibly remount, call drive.mount(\"/content/drive/\", force_remount=True).\n"
          ],
          "name": "stdout"
        }
      ]
    },
    {
      "metadata": {
        "id": "RF9lFl5PKTrG",
        "colab_type": "code",
        "colab": {}
      },
      "cell_type": "code",
      "source": [
        "names = ['Shay', 'Ido']\n",
        "activities = ['drinking', 'eating', 'on_computer', 'on_phone']\n",
        "\n",
        "data_map = {'training_map': {}, 'validation_map': {}, 'testing_map': {}}"
      ],
      "execution_count": 0,
      "outputs": []
    },
    {
      "metadata": {
        "id": "xH6x-LoTKExk",
        "colab_type": "code",
        "outputId": "cc11bc88-6872-45d5-9d4a-e4722a0bfc6b",
        "colab": {
          "base_uri": "https://localhost:8080/",
          "height": 72
        }
      },
      "cell_type": "code",
      "source": [
        "#Get csv files from the drive\n",
        "for name in names:\n",
        "  for activity in activities:\n",
        "    data_map['training_map'][f'{name}_{activity}'] = list(map(lambda i: pd.read_csv(\n",
        "        f'drive/My Drive/Shared folder University/files_project/{name}/{name}_is_{activity}/{i}/{name}_is_{activity}{i}.csv'), range(1,7)))\n",
        "       \n",
        "for name in names:\n",
        "  for activity in activities:\n",
        "    data_map['validation_map'][f'{name}_{activity}'] = list(map(lambda i: pd.read_csv(\n",
        "        f'drive/My Drive/Shared folder University/files_project/{name}/{name}_is_{activity}/{i}/{name}_is_{activity}{i}.csv'), range(7,9)))\n",
        "       \n",
        "for name in names:\n",
        "  for activity in activities:\n",
        "    data_map['testing_map'][f'{name}_{activity}'] = list(map(lambda i: pd.read_csv(\n",
        "        f'drive/My Drive/Shared folder University/files_project/{name}/{name}_is_{activity}/{i}/{name}_is_{activity}{i}.csv'), range(9,11)))\n",
        "    \n",
        "print('training_map containas: {}'.format(len(data_map['training_map']['Shay_drinking'])))\n",
        "print('validation_map containas: {}'.format(len(data_map['validation_map']['Shay_drinking'])))\n",
        "print('testing_map containas: {}'.format(len(data_map['testing_map']['Shay_drinking'])))"
      ],
      "execution_count": 0,
      "outputs": [
        {
          "output_type": "stream",
          "text": [
            "training_map containas: 6\n",
            "validation_map containas: 2\n",
            "testing_map containas: 2\n"
          ],
          "name": "stdout"
        }
      ]
    },
    {
      "metadata": {
        "id": "Avv0_qzkAAT_",
        "colab_type": "code",
        "colab": {}
      },
      "cell_type": "code",
      "source": [
        "#dealing with NA\n",
        "for data_division_map in data_map:\n",
        "  for name_activity in data_map[data_division_map]:\n",
        "    for df in data_map[data_division_map][name_activity]:\n",
        "      number = round(float(df[\"Heart_Rate\"].mean()))\n",
        "      df.fillna(float(number), inplace=True)"
      ],
      "execution_count": 0,
      "outputs": []
    },
    {
      "metadata": {
        "id": "sCBgUKrtzaLP",
        "colab_type": "code",
        "colab": {}
      },
      "cell_type": "code",
      "source": [
        "def random_activity(l):\n",
        "    random.shuffle(l)\n",
        "    return iter(l)"
      ],
      "execution_count": 0,
      "outputs": []
    },
    {
      "metadata": {
        "id": "Y5ycTgbbtZWt",
        "colab_type": "code",
        "colab": {}
      },
      "cell_type": "code",
      "source": [
        "#concat all dataframes\n",
        "for name in names:\n",
        "  data_map['training_map'][name] = []\n",
        "  for i in range(0,6):\n",
        "    name_activity_index_list = list()\n",
        "    for activity in random_activity(activities):\n",
        "      name_activity_index_list.append(data_map['training_map'][f'{name}_{activity}'][i])\n",
        "    data_map['training_map'][name].append(pd.concat(name_activity_index_list))\n",
        "  data_map['training_map'][name] = pd.concat(data_map['training_map'][name])\n",
        "    \n",
        "for name in names:\n",
        "  data_map['validation_map'][name] = []\n",
        "  for i in range(0,2):\n",
        "    name_activity_index_list = list()\n",
        "    for activity in random_activity(activities):\n",
        "      name_activity_index_list.append(data_map['validation_map'][f'{name}_{activity}'][i])\n",
        "    data_map['validation_map'][name].append(pd.concat(name_activity_index_list))   \n",
        "  data_map['validation_map'][name] = pd.concat(data_map['validation_map'][name])\n",
        "    \n",
        "    \n",
        "for name in names:\n",
        "  data_map['testing_map'][name] = []\n",
        "  for i in range(0,2):\n",
        "    name_activity_index_list = list()\n",
        "    for activity in random_activity(activities):\n",
        "      name_activity_index_list.append(data_map['testing_map'][f'{name}_{activity}'][i])\n",
        "    data_map['testing_map'][name].append(pd.concat(name_activity_index_list))\n",
        "  data_map['testing_map'][name] = pd.concat(data_map['testing_map'][name])\n",
        "    "
      ],
      "execution_count": 0,
      "outputs": []
    },
    {
      "metadata": {
        "colab_type": "code",
        "id": "_20qatqiEDKf",
        "colab": {}
      },
      "cell_type": "code",
      "source": [
        "for data_division_map in data_map:  \n",
        "  data_map[data_division_map] = pd.concat([value for key, value in data_map[data_division_map].items() if key in names])"
      ],
      "execution_count": 0,
      "outputs": []
    },
    {
      "metadata": {
        "id": "efmo6jHTd2zw",
        "colab_type": "code",
        "colab": {}
      },
      "cell_type": "code",
      "source": [
        "training_set = data_map['training_map'].copy()\n",
        "validation_set = data_map['validation_map'].copy()\n",
        "testing_set = data_map['testing_map'].copy()\n",
        "\n",
        "del(data_map)"
      ],
      "execution_count": 0,
      "outputs": []
    },
    {
      "metadata": {
        "id": "plhfLF1rcbAI",
        "colab_type": "code",
        "outputId": "903f00be-7891-497f-c473-0fa5a85fc958",
        "colab": {
          "base_uri": "https://localhost:8080/",
          "height": 1000
        }
      },
      "cell_type": "code",
      "source": [
        "print('Training size is: {}'.format(len(training_set)))\n",
        "print(training_set.isnull().sum())\n",
        "\n",
        "print('validation size is: {}'.format(len(validation_set)))\n",
        "print(validation_set.isnull().sum())\n",
        "\n",
        "print('testing size is: {}'.format(len(testing_set)))\n",
        "print(testing_set.isnull().sum())"
      ],
      "execution_count": 0,
      "outputs": [
        {
          "output_type": "stream",
          "text": [
            "Training size is: 29347\n",
            "ID            0\n",
            "Time          0\n",
            "Acce_X        0\n",
            "Acce_Y        0\n",
            "Acce_Z        0\n",
            "Gyro_X        0\n",
            "Gyro_Y        0\n",
            "Gyro_Z        0\n",
            "Gravity_X     0\n",
            "Gravity_Y     0\n",
            "Gravity_Z     0\n",
            "Roll          0\n",
            "Pitch         0\n",
            "Yaw           0\n",
            "Heart_Rate    0\n",
            "Activity      0\n",
            "dtype: int64\n",
            "validation size is: 9805\n",
            "ID            0\n",
            "Time          0\n",
            "Acce_X        0\n",
            "Acce_Y        0\n",
            "Acce_Z        0\n",
            "Gyro_X        0\n",
            "Gyro_Y        0\n",
            "Gyro_Z        0\n",
            "Gravity_X     0\n",
            "Gravity_Y     0\n",
            "Gravity_Z     0\n",
            "Roll          0\n",
            "Pitch         0\n",
            "Yaw           0\n",
            "Heart_Rate    0\n",
            "Activity      0\n",
            "dtype: int64\n",
            "testing size is: 9744\n",
            "ID            0\n",
            "Time          0\n",
            "Acce_X        0\n",
            "Acce_Y        0\n",
            "Acce_Z        0\n",
            "Gyro_X        0\n",
            "Gyro_Y        0\n",
            "Gyro_Z        0\n",
            "Gravity_X     0\n",
            "Gravity_Y     0\n",
            "Gravity_Z     0\n",
            "Roll          0\n",
            "Pitch         0\n",
            "Yaw           0\n",
            "Heart_Rate    0\n",
            "Activity      0\n",
            "dtype: int64\n"
          ],
          "name": "stdout"
        }
      ]
    },
    {
      "metadata": {
        "id": "6vtcuxMocpa6",
        "colab_type": "code",
        "outputId": "fbe1e565-f402-48d7-b6f6-eaa377d399e9",
        "colab": {
          "base_uri": "https://localhost:8080/",
          "height": 206
        }
      },
      "cell_type": "code",
      "source": [
        "training_set.head()"
      ],
      "execution_count": 0,
      "outputs": [
        {
          "output_type": "execute_result",
          "data": {
            "text/html": [
              "<div>\n",
              "<style scoped>\n",
              "    .dataframe tbody tr th:only-of-type {\n",
              "        vertical-align: middle;\n",
              "    }\n",
              "\n",
              "    .dataframe tbody tr th {\n",
              "        vertical-align: top;\n",
              "    }\n",
              "\n",
              "    .dataframe thead th {\n",
              "        text-align: right;\n",
              "    }\n",
              "</style>\n",
              "<table border=\"1\" class=\"dataframe\">\n",
              "  <thead>\n",
              "    <tr style=\"text-align: right;\">\n",
              "      <th></th>\n",
              "      <th>ID</th>\n",
              "      <th>Time</th>\n",
              "      <th>Acce_X</th>\n",
              "      <th>Acce_Y</th>\n",
              "      <th>Acce_Z</th>\n",
              "      <th>Gyro_X</th>\n",
              "      <th>Gyro_Y</th>\n",
              "      <th>Gyro_Z</th>\n",
              "      <th>Gravity_X</th>\n",
              "      <th>Gravity_Y</th>\n",
              "      <th>Gravity_Z</th>\n",
              "      <th>Roll</th>\n",
              "      <th>Pitch</th>\n",
              "      <th>Yaw</th>\n",
              "      <th>Heart_Rate</th>\n",
              "      <th>Activity</th>\n",
              "    </tr>\n",
              "  </thead>\n",
              "  <tbody>\n",
              "    <tr>\n",
              "      <th>0</th>\n",
              "      <td>1</td>\n",
              "      <td>0:07:30</td>\n",
              "      <td>0.021259</td>\n",
              "      <td>0.017636</td>\n",
              "      <td>0.016251</td>\n",
              "      <td>-0.207135</td>\n",
              "      <td>0.024490</td>\n",
              "      <td>-0.084649</td>\n",
              "      <td>-0.046664</td>\n",
              "      <td>-0.588025</td>\n",
              "      <td>-0.807496</td>\n",
              "      <td>-0.057725</td>\n",
              "      <td>0.628615</td>\n",
              "      <td>0.033968</td>\n",
              "      <td>57.0</td>\n",
              "      <td>Drinking</td>\n",
              "    </tr>\n",
              "    <tr>\n",
              "      <th>1</th>\n",
              "      <td>1</td>\n",
              "      <td>0:07:30</td>\n",
              "      <td>0.045287</td>\n",
              "      <td>0.098442</td>\n",
              "      <td>0.100549</td>\n",
              "      <td>-0.158365</td>\n",
              "      <td>0.152945</td>\n",
              "      <td>-0.108134</td>\n",
              "      <td>-0.027709</td>\n",
              "      <td>-0.576454</td>\n",
              "      <td>-0.816659</td>\n",
              "      <td>-0.033916</td>\n",
              "      <td>0.614383</td>\n",
              "      <td>0.008766</td>\n",
              "      <td>57.0</td>\n",
              "      <td>Drinking</td>\n",
              "    </tr>\n",
              "    <tr>\n",
              "      <th>2</th>\n",
              "      <td>1</td>\n",
              "      <td>0:07:30</td>\n",
              "      <td>-0.018428</td>\n",
              "      <td>0.029719</td>\n",
              "      <td>0.033534</td>\n",
              "      <td>-0.516809</td>\n",
              "      <td>0.176393</td>\n",
              "      <td>-0.044717</td>\n",
              "      <td>0.010265</td>\n",
              "      <td>-0.535853</td>\n",
              "      <td>-0.844249</td>\n",
              "      <td>0.012158</td>\n",
              "      <td>0.565518</td>\n",
              "      <td>-0.017456</td>\n",
              "      <td>57.0</td>\n",
              "      <td>Drinking</td>\n",
              "    </tr>\n",
              "    <tr>\n",
              "      <th>3</th>\n",
              "      <td>1</td>\n",
              "      <td>0:07:30</td>\n",
              "      <td>-0.030020</td>\n",
              "      <td>0.097264</td>\n",
              "      <td>-0.011148</td>\n",
              "      <td>-0.373862</td>\n",
              "      <td>0.134326</td>\n",
              "      <td>0.054780</td>\n",
              "      <td>0.006429</td>\n",
              "      <td>-0.512090</td>\n",
              "      <td>-0.858908</td>\n",
              "      <td>0.007485</td>\n",
              "      <td>0.537617</td>\n",
              "      <td>-0.006353</td>\n",
              "      <td>57.0</td>\n",
              "      <td>Drinking</td>\n",
              "    </tr>\n",
              "    <tr>\n",
              "      <th>4</th>\n",
              "      <td>1</td>\n",
              "      <td>0:07:30</td>\n",
              "      <td>0.077300</td>\n",
              "      <td>0.015769</td>\n",
              "      <td>0.029338</td>\n",
              "      <td>-0.166969</td>\n",
              "      <td>-0.073954</td>\n",
              "      <td>0.025240</td>\n",
              "      <td>0.009064</td>\n",
              "      <td>-0.483909</td>\n",
              "      <td>-0.875071</td>\n",
              "      <td>0.010358</td>\n",
              "      <td>0.505116</td>\n",
              "      <td>-0.004498</td>\n",
              "      <td>57.0</td>\n",
              "      <td>Drinking</td>\n",
              "    </tr>\n",
              "  </tbody>\n",
              "</table>\n",
              "</div>"
            ],
            "text/plain": [
              "   ID     Time    Acce_X    Acce_Y    Acce_Z    Gyro_X    Gyro_Y    Gyro_Z  \\\n",
              "0   1  0:07:30  0.021259  0.017636  0.016251 -0.207135  0.024490 -0.084649   \n",
              "1   1  0:07:30  0.045287  0.098442  0.100549 -0.158365  0.152945 -0.108134   \n",
              "2   1  0:07:30 -0.018428  0.029719  0.033534 -0.516809  0.176393 -0.044717   \n",
              "3   1  0:07:30 -0.030020  0.097264 -0.011148 -0.373862  0.134326  0.054780   \n",
              "4   1  0:07:30  0.077300  0.015769  0.029338 -0.166969 -0.073954  0.025240   \n",
              "\n",
              "   Gravity_X  Gravity_Y  Gravity_Z      Roll     Pitch       Yaw  Heart_Rate  \\\n",
              "0  -0.046664  -0.588025  -0.807496 -0.057725  0.628615  0.033968        57.0   \n",
              "1  -0.027709  -0.576454  -0.816659 -0.033916  0.614383  0.008766        57.0   \n",
              "2   0.010265  -0.535853  -0.844249  0.012158  0.565518 -0.017456        57.0   \n",
              "3   0.006429  -0.512090  -0.858908  0.007485  0.537617 -0.006353        57.0   \n",
              "4   0.009064  -0.483909  -0.875071  0.010358  0.505116 -0.004498        57.0   \n",
              "\n",
              "   Activity  \n",
              "0  Drinking  \n",
              "1  Drinking  \n",
              "2  Drinking  \n",
              "3  Drinking  \n",
              "4  Drinking  "
            ]
          },
          "metadata": {
            "tags": []
          },
          "execution_count": 11
        }
      ]
    },
    {
      "metadata": {
        "id": "N08EUzVhHoPn",
        "colab_type": "code",
        "colab": {}
      },
      "cell_type": "code",
      "source": [
        "#training_set.to_csv('drive/My Drive/Shared folder University/files_project/training_set.csv',index=False)"
      ],
      "execution_count": 0,
      "outputs": []
    },
    {
      "metadata": {
        "id": "oc7oZl2Eco-l",
        "colab_type": "code",
        "outputId": "998f0b38-5f0b-4dc5-8d64-46fe282339a8",
        "colab": {
          "base_uri": "https://localhost:8080/",
          "height": 592
        }
      },
      "cell_type": "code",
      "source": [
        "# Show how many training examples exist for each of the six activities\n",
        "training_set['Activity'].value_counts().plot(kind='bar', title='Training Examples by Activity Type')\n",
        "plt.show()\n",
        "\n",
        "# Better understand how the recordings are spread across the different\n",
        "# users who participated in the study\n",
        "training_set['ID'].value_counts().plot(kind='bar', title='Training Examples by User')\n",
        "plt.show()"
      ],
      "execution_count": 0,
      "outputs": [
        {
          "output_type": "display_data",
          "data": {
            "image/png": "[encoded data removed]",
            "text/plain": [
              "<Figure size 432x288 with 1 Axes>"
            ]
          },
          "metadata": {
            "tags": []
          }
        },
        {
          "output_type": "display_data",
          "data": {
            "image/png": "[encoded data removed]",
            "text/plain": [
              "<Figure size 432x288 with 1 Axes>"
            ]
          },
          "metadata": {
            "tags": []
          }
        }
      ]
    },
    {
      "metadata": {
        "id": "fVsefq54UQm5",
        "colab_type": "code",
        "colab": {}
      },
      "cell_type": "code",
      "source": [
        "def plot_activity(activity, data):\n",
        "    fig, (ax0,ax1,ax2,ax3,ax4,ax5,ax6) = plt.subplots(nrows=7,\n",
        "         figsize=(15, 10),\n",
        "         sharex=True)\n",
        "    plot_axis(ax0, data['Time'], data['Acce_X'], 'Acc-X-Axis')\n",
        "    plot_axis(ax1, data['Time'], data['Acce_Y'], 'Acc-Y-Axis')\n",
        "    plot_axis(ax2, data['Time'], data['Acce_Z'], 'Acc-Z-Axis')\n",
        "    plot_axis(ax3, data['Time'], data['Gyro_X'], 'Gyro-X-Axis')\n",
        "    plot_axis(ax4, data['Time'], data['Gyro_Y'], 'Gyro-Y-Axis')\n",
        "    plot_axis(ax5, data['Time'], data['Gyro_Z'], 'Gyro-Z-Axis')\n",
        "    plot_axis(ax6, data['Time'], data['Heart_Rate'], 'Heart Rate')\n",
        "    plt.subplots_adjust(hspace=0.2)\n",
        "    fig.suptitle(activity)\n",
        "    plt.subplots_adjust(top=0.9)\n",
        "    plt.show()"
      ],
      "execution_count": 0,
      "outputs": []
    },
    {
      "metadata": {
        "id": "Ws1AE5hhmQfn",
        "colab_type": "code",
        "colab": {}
      },
      "cell_type": "code",
      "source": [
        "def plot_axis(ax, x, y, title):\n",
        "    ax.plot(x, y, 'r')\n",
        "    ax.set_title(title)\n",
        "    ax.xaxis.set_visible(False)\n",
        "    ax.set_ylim([min(y) - np.std(y), max(y) + np.std(y)])\n",
        "    ax.set_xlim([min(x), max(x)])\n",
        "    ax.grid(True)"
      ],
      "execution_count": 0,
      "outputs": []
    },
    {
      "metadata": {
        "id": "RxFlpGKemTog",
        "colab_type": "code",
        "outputId": "ace37aac-5ae1-4ef0-cc1f-e70b7875e0a3",
        "colab": {
          "base_uri": "https://localhost:8080/",
          "height": 647
        }
      },
      "cell_type": "code",
      "source": [
        "subset = training_set[:607]\n",
        "plot_activity('activity', subset)"
      ],
      "execution_count": 0,
      "outputs": [
        {
          "output_type": "display_data",
          "data": {
            "image/png": "[encoded data removed]",
            "text/plain": [
              "<Figure size 1080x720 with 7 Axes>"
            ]
          },
          "metadata": {
            "tags": []
          }
        }
      ]
    },
    {
      "metadata": {
        "id": "CzaotmlpjdYI",
        "colab_type": "code",
        "colab": {}
      },
      "cell_type": "code",
      "source": [
        "def create_activity_encoded(data_set, le_set):\n",
        "    # Define column name of the label vector\n",
        "    LABEL = 'ActivityEncoded'\n",
        "    # Add a new column to the existing DataFrame with the encoded values\n",
        "    data_set[LABEL] = le_set.fit_transform(data_set['Activity'].values.ravel())\n",
        "    data_set.drop('Activity', axis=1,inplace = True)\n",
        "    data_set.drop('Time', axis=1,inplace = True)\n",
        "\n",
        "    '''\n",
        "    #You need this to get back the real label\n",
        "    analyze_data[LABEL] = le_set.inverse_transform(analyze_data[LABEL].values.ravel())\n",
        "    print(analyze_data)\n",
        "    '''"
      ],
      "execution_count": 0,
      "outputs": []
    },
    {
      "metadata": {
        "id": "qfjmdSetjx4G",
        "colab_type": "code",
        "colab": {}
      },
      "cell_type": "code",
      "source": [
        "# Transform the labels from String to Integer via LabelEncoder\n",
        "le_training_activity = preprocessing.LabelEncoder()\n",
        "le_validation_activity = preprocessing.LabelEncoder()\n",
        "le_testing_activity = preprocessing.LabelEncoder()\n",
        "\n",
        "\n",
        "create_activity_encoded(training_set,le_training_activity)\n",
        "create_activity_encoded(validation_set,le_validation_activity)\n",
        "create_activity_encoded(testing_set,le_testing_activity)"
      ],
      "execution_count": 0,
      "outputs": []
    },
    {
      "metadata": {
        "id": "XPFgrKmJlTL_",
        "colab_type": "code",
        "outputId": "10190061-3a9a-457d-913e-b2125539726f",
        "colab": {
          "base_uri": "https://localhost:8080/",
          "height": 55
        }
      },
      "cell_type": "code",
      "source": [
        "'''\n",
        "def create_time_encoded(data_set, le_set):\n",
        "    # Add a new column to the existing DataFrame with the encoded values\n",
        "    data_set['Time_Stamp'] = le_set.fit_transform(data_set['Time'].values.ravel())\n",
        "    data_set = data_set.drop('Time', axis=1, inplace = True)\n",
        "\n",
        "    \n",
        "    #You need this to get back the real label\n",
        "    data_set[LABEL] = le_set.inverse_transform(data_set[LABEL].values.ravel())\n",
        "    print(data_set)\n",
        "    \n",
        "'''"
      ],
      "execution_count": 0,
      "outputs": [
        {
          "output_type": "execute_result",
          "data": {
            "text/plain": [
              "\"\\ndef create_time_encoded(data_set, le_set):\\n    # Add a new column to the existing DataFrame with the encoded values\\n    data_set['Time_Stamp'] = le_set.fit_transform(data_set['Time'].values.ravel())\\n    data_set = data_set.drop('Time', axis=1, inplace = True)\\n\\n    \\n    #You need this to get back the real label\\n    data_set[LABEL] = le_set.inverse_transform(data_set[LABEL].values.ravel())\\n    print(data_set)\\n    \\n\""
            ]
          },
          "metadata": {
            "tags": []
          },
          "execution_count": 19
        }
      ]
    },
    {
      "metadata": {
        "id": "Dk35SjaClTFV",
        "colab_type": "code",
        "outputId": "0b2ad2f5-6e71-43b1-b279-cd847830ef3f",
        "colab": {
          "base_uri": "https://localhost:8080/",
          "height": 55
        }
      },
      "cell_type": "code",
      "source": [
        "'''\n",
        "# Transform the time from String to Integer via LabelEncoder\n",
        "#le_training_time = preprocessing.LabelEncoder()\n",
        "#le_validation_time = preprocessing.LabelEncoder()\n",
        "#le_testing_time = preprocessing.LabelEncoder()\n",
        "le_time = preprocessing.LabelEncoder()\n",
        "\n",
        "create_time_encoded(training_set,le_time)\n",
        "create_time_encoded(validation_set,le_time)\n",
        "create_time_encoded(testing_set,le_time)\n",
        "'''"
      ],
      "execution_count": 0,
      "outputs": [
        {
          "output_type": "execute_result",
          "data": {
            "text/plain": [
              "'\\n# Transform the time from String to Integer via LabelEncoder\\n#le_training_time = preprocessing.LabelEncoder()\\n#le_validation_time = preprocessing.LabelEncoder()\\n#le_testing_time = preprocessing.LabelEncoder()\\nle_time = preprocessing.LabelEncoder()\\n\\ncreate_time_encoded(training_set,le_time)\\ncreate_time_encoded(validation_set,le_time)\\ncreate_time_encoded(testing_set,le_time)\\n'"
            ]
          },
          "metadata": {
            "tags": []
          },
          "execution_count": 20
        }
      ]
    },
    {
      "metadata": {
        "id": "2-MDjqbj0ALi",
        "colab_type": "text"
      },
      "cell_type": "markdown",
      "source": [
        "#Normalize And Standardize Time Series Data\n",
        "\n",
        "we rescaling the data from original so the vaules are within range of 0 to 1\n",
        "\n",
        "y  = (x - mean) / std\n",
        "\n",
        "y = ( x - min) / (max - min)"
      ]
    },
    {
      "metadata": {
        "id": "wFypmi9YuCel",
        "colab_type": "code",
        "outputId": "446022ca-e32a-41de-95bb-15655ab50dd5",
        "colab": {
          "base_uri": "https://localhost:8080/",
          "height": 254
        }
      },
      "cell_type": "code",
      "source": [
        "for column in training_set.columns[1:14]:\n",
        "    print(column)"
      ],
      "execution_count": 0,
      "outputs": [
        {
          "output_type": "stream",
          "text": [
            "Acce_X\n",
            "Acce_Y\n",
            "Acce_Z\n",
            "Gyro_X\n",
            "Gyro_Y\n",
            "Gyro_Z\n",
            "Gravity_X\n",
            "Gravity_Y\n",
            "Gravity_Z\n",
            "Roll\n",
            "Pitch\n",
            "Yaw\n",
            "Heart_Rate\n"
          ],
          "name": "stdout"
        }
      ]
    },
    {
      "metadata": {
        "id": "btdi95zxocLh",
        "colab_type": "code",
        "colab": {}
      },
      "cell_type": "code",
      "source": [
        "#go over the colunms in pd and do normalization and standardiztion\n",
        "for column in training_set.columns[1:14]:\n",
        "  training_set[column] = (training_set[column] - np.mean(training_set[column]))/(np.std(training_set[column]))\n",
        "  #training_set[column] = (training_set[column] - min(training_set[column])) / (max(training_set[column]) - min(training_set[column]))\n",
        "  #3 digits in decimal\n",
        "  #training_set = round(training_set,3)  "
      ],
      "execution_count": 0,
      "outputs": []
    },
    {
      "metadata": {
        "id": "iu-33mtGocDa",
        "colab_type": "code",
        "colab": {}
      },
      "cell_type": "code",
      "source": [
        "#go over the colunms in pd and do normalization and standardiztion\n",
        "for column in validation_set.columns[1:14]:\n",
        "  validation_set[column] = (validation_set[column] - np.mean(validation_set[column]))/(np.std(validation_set[column]))\n",
        "  #validation_set[column] = (validation_set[column] - min(validation_set[column])) / (max(validation_set[column]) - min(validation_set[column]))\n",
        "  #3 digits in decimal\n",
        "  #validation_set = round(validation_set,3)"
      ],
      "execution_count": 0,
      "outputs": []
    },
    {
      "metadata": {
        "id": "KMO8nnDaob59",
        "colab_type": "code",
        "colab": {}
      },
      "cell_type": "code",
      "source": [
        "#go over the colunms in pd and do normalization and standardiztion\n",
        "for column in testing_set.columns[1:14]:\n",
        "  testing_set[column] = (testing_set[column] - np.mean(testing_set[column]))/(np.std(testing_set[column]))\n",
        "  #testing_set[column] = (testing_set[column] - min(testing_set[column])) / (max(testing_set[column]) - min(testing_set[column]))\n",
        "  #3 digits in decimal\n",
        "  #testing_set = round(testing_set,3)"
      ],
      "execution_count": 0,
      "outputs": []
    },
    {
      "metadata": {
        "id": "xspB8s5I53y7",
        "colab_type": "text"
      },
      "cell_type": "markdown",
      "source": [
        "This function will create segments and for each segment will attaced the most significant label \n",
        "\n",
        "the size of the segment is SEGMANT_SIZE\n",
        "the size of which we moving from sgement to segment is STEP_DISTANCE\n",
        "\n"
      ]
    },
    {
      "metadata": {
        "id": "tPnaCqUe46c6",
        "colab_type": "code",
        "colab": {}
      },
      "cell_type": "code",
      "source": [
        "def create_segments_and_labels(df, segmant_size, step, label_name):\n",
        "    # sensors as features\n",
        "    N_FEATURES = 13\n",
        "    # Number of steps to advance in each iteration (for me, it should always\n",
        "    # be equal to the segmant_size in order to have no overlap between segments)\n",
        "    # step = segmant_size\n",
        "    segments = []\n",
        "    labels = []\n",
        "    for i in range(0, len(df) - segmant_size, step):\n",
        "      append_segments = list(map(lambda label: df[label].values[i: i + segmant_size], df.columns[1:14]))\n",
        "      # Retrieve the most often used label in this segment\n",
        "      label = stats.mode(df[label_name][i: i + segmant_size])[0][0]\n",
        "      segments.append(append_segments)\n",
        "      labels.append(label)\n",
        "\n",
        "    # Bring the segments into a better shape\n",
        "    reshaped_segments = np.asarray(segments, dtype= np.float32).reshape(-1, segmant_size, N_FEATURES)\n",
        "    labels = np.asarray(labels)\n",
        "    return reshaped_segments, labels"
      ],
      "execution_count": 0,
      "outputs": []
    },
    {
      "metadata": {
        "id": "HcYzhba04a3e",
        "colab_type": "code",
        "colab": {}
      },
      "cell_type": "code",
      "source": [
        "SEGMANT_SIZE = 20\n",
        "STEP_DISTANCE = 5\n",
        "LABEL = 'ActivityEncoded'\n",
        "\n",
        "x_train, y_train = create_segments_and_labels(training_set, SEGMANT_SIZE, STEP_DISTANCE, LABEL)\n",
        "x_validation, y_validation =  create_segments_and_labels(validation_set, SEGMANT_SIZE, STEP_DISTANCE, LABEL)"
      ],
      "execution_count": 0,
      "outputs": []
    },
    {
      "metadata": {
        "id": "5OKu34Xs0rkK",
        "colab_type": "code",
        "outputId": "aeb5cd46-d4e1-4418-a3f0-383496262519",
        "colab": {
          "base_uri": "https://localhost:8080/",
          "height": 90
        }
      },
      "cell_type": "code",
      "source": [
        "print(len(training_set))\n",
        "print('x_train shape: ', x_train.shape)\n",
        "print(x_train.shape[0], 'training samples')\n",
        "print('y_train shape: ', y_train.shape)"
      ],
      "execution_count": 0,
      "outputs": [
        {
          "output_type": "stream",
          "text": [
            "29347\n",
            "x_train shape:  (1466, 40, 13)\n",
            "1466 training samples\n",
            "y_train shape:  (1466,)\n"
          ],
          "name": "stdout"
        }
      ]
    },
    {
      "metadata": {
        "id": "QJcBasUCqVmS",
        "colab_type": "code",
        "outputId": "cf841edb-949e-442c-91c8-ec84a104d561",
        "colab": {
          "base_uri": "https://localhost:8080/",
          "height": 90
        }
      },
      "cell_type": "code",
      "source": [
        "print(len(validation_set))\n",
        "print('x_validation shape: ', x_validation.shape)\n",
        "print(x_validation.shape[0], 'training samples')\n",
        "print('y_validation shape: ', y_validation.shape)"
      ],
      "execution_count": 0,
      "outputs": [
        {
          "output_type": "stream",
          "text": [
            "9805\n",
            "x_validation shape:  (489, 40, 13)\n",
            "489 training samples\n",
            "y_validation shape:  (489,)\n"
          ],
          "name": "stdout"
        }
      ]
    },
    {
      "metadata": {
        "id": "OVWvMXgR19tR",
        "colab_type": "code",
        "outputId": "70b2182a-e24d-4031-856a-d2f9dec3daf9",
        "colab": {
          "base_uri": "https://localhost:8080/",
          "height": 35
        }
      },
      "cell_type": "code",
      "source": [
        "# Set input & output dimensions\n",
        "num_time_periods, num_sensors = x_train.shape[1], x_train.shape[2]\n",
        "num_classes = le_training_activity.classes_.size\n",
        "print(list(le_training_activity.classes_))"
      ],
      "execution_count": 0,
      "outputs": [
        {
          "output_type": "stream",
          "text": [
            "['Drinking', 'Eating', 'On_Computer', 'On_Phone']\n"
          ],
          "name": "stdout"
        }
      ]
    },
    {
      "metadata": {
        "id": "D0pkufxC-hLM",
        "colab_type": "code",
        "outputId": "28bd3335-48d1-4a8f-8fcf-a0c73f73be9c",
        "colab": {
          "base_uri": "https://localhost:8080/",
          "height": 53
        }
      },
      "cell_type": "code",
      "source": [
        "input_shape = (num_time_periods*num_sensors)\n",
        "x_train = x_train.reshape(x_train.shape[0], input_shape)\n",
        "print('x_train shape:', x_train.shape)\n",
        "print('input_shape:', input_shape)"
      ],
      "execution_count": 0,
      "outputs": [
        {
          "output_type": "stream",
          "text": [
            "x_train shape: (1466, 520)\n",
            "input_shape: 520\n"
          ],
          "name": "stdout"
        }
      ]
    },
    {
      "metadata": {
        "id": "RYVInCUrqqxM",
        "colab_type": "code",
        "outputId": "69eef659-62fd-4864-eba7-91a907eaeada",
        "colab": {
          "base_uri": "https://localhost:8080/",
          "height": 53
        }
      },
      "cell_type": "code",
      "source": [
        "x_validation = x_validation.reshape(x_validation.shape[0], input_shape)\n",
        "print('x_validation shape:', x_validation.shape)\n",
        "print('input_shape_validation:', input_shape)"
      ],
      "execution_count": 0,
      "outputs": [
        {
          "output_type": "stream",
          "text": [
            "x_validation shape: (489, 520)\n",
            "input_shape_validation: 520\n"
          ],
          "name": "stdout"
        }
      ]
    },
    {
      "metadata": {
        "id": "q74kCnYe_J2L",
        "colab_type": "code",
        "colab": {}
      },
      "cell_type": "code",
      "source": [
        "x_train = x_train.astype('float32')\n",
        "y_train = y_train.astype('float32')\n",
        "x_validation = x_validation.astype('float32')\n",
        "y_validation = y_validation.astype('float32')"
      ],
      "execution_count": 0,
      "outputs": []
    },
    {
      "metadata": {
        "id": "H-pnZaBz_XVI",
        "colab_type": "code",
        "outputId": "3ec28232-a468-40ab-a2ea-c137df43278c",
        "colab": {
          "base_uri": "https://localhost:8080/",
          "height": 35
        }
      },
      "cell_type": "code",
      "source": [
        "y_train_hot_encoding = np_utils.to_categorical(y_train, num_classes)\n",
        "print('New y_train shape: ', y_train_hot_encoding.shape)"
      ],
      "execution_count": 0,
      "outputs": [
        {
          "output_type": "stream",
          "text": [
            "New y_train shape:  (1466, 4)\n"
          ],
          "name": "stdout"
        }
      ]
    },
    {
      "metadata": {
        "id": "RFtQE_c_rMvE",
        "colab_type": "code",
        "outputId": "656e98c5-e54b-4ca1-d933-db652a6ab863",
        "colab": {
          "base_uri": "https://localhost:8080/",
          "height": 35
        }
      },
      "cell_type": "code",
      "source": [
        "y_validation_hot_encoding = np_utils.to_categorical(y_validation, num_classes)\n",
        "print('New y_validation shape: ', y_validation_hot_encoding.shape)"
      ],
      "execution_count": 0,
      "outputs": [
        {
          "output_type": "stream",
          "text": [
            "New y_validation shape:  (489, 4)\n"
          ],
          "name": "stdout"
        }
      ]
    },
    {
      "metadata": {
        "id": "dfeBrkeu_hDn",
        "colab_type": "code",
        "outputId": "1e7a16f2-d9b3-4d64-d77a-8b2281b1df25",
        "colab": {
          "base_uri": "https://localhost:8080/",
          "height": 656
        }
      },
      "cell_type": "code",
      "source": [
        "# Remark: since coreml cannot accept vector shapes of complex shape like\n",
        "# [80,3] this workaround is used in order to reshape the vector internally\n",
        "# prior feeding it into the network\n",
        "model_m = Sequential()\n",
        "model_m.add(Reshape((SEGMANT_SIZE, 13), input_shape=(input_shape,)))\n",
        "model_m.add(Dense(100, activation='relu'))\n",
        "model_m.add(BatchNormalization())\n",
        "model_m.add(Dropout(0.5))\n",
        "model_m.add(Dense(100, activation='relu'))\n",
        "model_m.add(BatchNormalization())\n",
        "model_m.add(Dropout(0.5))\n",
        "model_m.add(Dense(100, activation='relu'))\n",
        "model_m.add(Flatten())\n",
        "model_m.add(Dense(num_classes, activation='softmax'))\n",
        "print(model_m.summary())"
      ],
      "execution_count": 0,
      "outputs": [
        {
          "output_type": "stream",
          "text": [
            "WARNING:tensorflow:From /usr/local/lib/python3.6/dist-packages/tensorflow/python/framework/op_def_library.py:263: colocate_with (from tensorflow.python.framework.ops) is deprecated and will be removed in a future version.\n",
            "Instructions for updating:\n",
            "Colocations handled automatically by placer.\n",
            "WARNING:tensorflow:From /usr/local/lib/python3.6/dist-packages/keras/backend/tensorflow_backend.py:3445: calling dropout (from tensorflow.python.ops.nn_ops) with keep_prob is deprecated and will be removed in a future version.\n",
            "Instructions for updating:\n",
            "Please use `rate` instead of `keep_prob`. Rate should be set to `rate = 1 - keep_prob`.\n",
            "_________________________________________________________________\n",
            "Layer (type)                 Output Shape              Param #   \n",
            "=================================================================\n",
            "reshape_1 (Reshape)          (None, 40, 13)            0         \n",
            "_________________________________________________________________\n",
            "dense_1 (Dense)              (None, 40, 100)           1400      \n",
            "_________________________________________________________________\n",
            "batch_normalization_1 (Batch (None, 40, 100)           400       \n",
            "_________________________________________________________________\n",
            "dropout_1 (Dropout)          (None, 40, 100)           0         \n",
            "_________________________________________________________________\n",
            "dense_2 (Dense)              (None, 40, 100)           10100     \n",
            "_________________________________________________________________\n",
            "batch_normalization_2 (Batch (None, 40, 100)           400       \n",
            "_________________________________________________________________\n",
            "dropout_2 (Dropout)          (None, 40, 100)           0         \n",
            "_________________________________________________________________\n",
            "dense_3 (Dense)              (None, 40, 100)           10100     \n",
            "_________________________________________________________________\n",
            "flatten_1 (Flatten)          (None, 4000)              0         \n",
            "_________________________________________________________________\n",
            "dense_4 (Dense)              (None, 4)                 16004     \n",
            "=================================================================\n",
            "Total params: 38,404\n",
            "Trainable params: 38,004\n",
            "Non-trainable params: 400\n",
            "_________________________________________________________________\n",
            "None\n"
          ],
          "name": "stdout"
        }
      ]
    },
    {
      "metadata": {
        "id": "91uReGjTAErG",
        "colab_type": "code",
        "outputId": "767da7c6-eb68-4e47-e428-65fe17d74877",
        "colab": {
          "base_uri": "https://localhost:8080/",
          "height": 838
        }
      },
      "cell_type": "code",
      "source": [
        "callbacks_list = [\n",
        "    keras.callbacks.ModelCheckpoint(\n",
        "        filepath='best_model.{epoch:02d}-{val_loss:.2f}.h5',\n",
        "        monitor='val_loss', save_best_only=True),\n",
        "    keras.callbacks.EarlyStopping(monitor='acc', patience=1)\n",
        "]\n",
        "\n",
        "\n",
        "model_m.compile(loss='categorical_crossentropy',\n",
        "                optimizer='adam', metrics=['accuracy'])\n",
        "\n",
        "# Hyper-parameters\n",
        "BATCH_SIZE = 50\n",
        "EPOCHS = 20\n",
        "\n",
        "# Enable validation to use ModelCheckpoint and EarlyStopping callbacks.\n",
        "history = model_m.fit(x_train, y_train_hot_encoding, validation_data=(x_validation, y_validation_hot_encoding), batch_size=BATCH_SIZE, epochs=EPOCHS, verbose=1)"
      ],
      "execution_count": 0,
      "outputs": [
        {
          "output_type": "stream",
          "text": [
            "WARNING:tensorflow:From /usr/local/lib/python3.6/dist-packages/tensorflow/python/ops/math_ops.py:3066: to_int32 (from tensorflow.python.ops.math_ops) is deprecated and will be removed in a future version.\n",
            "Instructions for updating:\n",
            "Use tf.cast instead.\n",
            "Train on 1466 samples, validate on 489 samples\n",
            "Epoch 1/20\n",
            "1466/1466 [==============================] - 2s 1ms/step - loss: 1.2964 - acc: 0.5396 - val_loss: 0.7587 - val_acc: 0.7526\n",
            "Epoch 2/20\n",
            "1466/1466 [==============================] - 0s 244us/step - loss: 0.9064 - acc: 0.6801 - val_loss: 0.7549 - val_acc: 0.7648\n",
            "Epoch 3/20\n",
            "1466/1466 [==============================] - 0s 248us/step - loss: 0.7456 - acc: 0.7387 - val_loss: 0.6991 - val_acc: 0.7955\n",
            "Epoch 4/20\n",
            "1466/1466 [==============================] - 0s 267us/step - loss: 0.6859 - acc: 0.7510 - val_loss: 0.6685 - val_acc: 0.7669\n",
            "Epoch 5/20\n",
            "1466/1466 [==============================] - 0s 250us/step - loss: 0.6027 - acc: 0.7756 - val_loss: 0.6415 - val_acc: 0.7894\n",
            "Epoch 6/20\n",
            "1466/1466 [==============================] - 0s 244us/step - loss: 0.5838 - acc: 0.7824 - val_loss: 0.6394 - val_acc: 0.7587\n",
            "Epoch 7/20\n",
            "1466/1466 [==============================] - 0s 254us/step - loss: 0.5786 - acc: 0.7831 - val_loss: 0.6350 - val_acc: 0.7648\n",
            "Epoch 8/20\n",
            "1466/1466 [==============================] - 0s 244us/step - loss: 0.5172 - acc: 0.8145 - val_loss: 0.6692 - val_acc: 0.7301\n",
            "Epoch 9/20\n",
            "1466/1466 [==============================] - 0s 240us/step - loss: 0.4948 - acc: 0.8131 - val_loss: 0.6455 - val_acc: 0.7485\n",
            "Epoch 10/20\n",
            "1466/1466 [==============================] - 0s 245us/step - loss: 0.4868 - acc: 0.8090 - val_loss: 0.6971 - val_acc: 0.7505\n",
            "Epoch 11/20\n",
            "1466/1466 [==============================] - 0s 255us/step - loss: 0.4906 - acc: 0.8090 - val_loss: 0.6209 - val_acc: 0.7648\n",
            "Epoch 12/20\n",
            "1466/1466 [==============================] - 0s 260us/step - loss: 0.4316 - acc: 0.8349 - val_loss: 0.6340 - val_acc: 0.7464\n",
            "Epoch 13/20\n",
            "1466/1466 [==============================] - 0s 256us/step - loss: 0.4286 - acc: 0.8383 - val_loss: 0.6595 - val_acc: 0.7607\n",
            "Epoch 14/20\n",
            "1466/1466 [==============================] - 0s 255us/step - loss: 0.4623 - acc: 0.8172 - val_loss: 0.6561 - val_acc: 0.7382\n",
            "Epoch 15/20\n",
            "1466/1466 [==============================] - 0s 258us/step - loss: 0.4120 - acc: 0.8499 - val_loss: 0.7086 - val_acc: 0.7382\n",
            "Epoch 16/20\n",
            "1466/1466 [==============================] - 0s 260us/step - loss: 0.3905 - acc: 0.8438 - val_loss: 0.6770 - val_acc: 0.7362\n",
            "Epoch 17/20\n",
            "1466/1466 [==============================] - 0s 264us/step - loss: 0.3648 - acc: 0.8533 - val_loss: 0.6522 - val_acc: 0.7546\n",
            "Epoch 18/20\n",
            "1466/1466 [==============================] - 0s 265us/step - loss: 0.3710 - acc: 0.8486 - val_loss: 0.6390 - val_acc: 0.7853\n",
            "Epoch 19/20\n",
            "1466/1466 [==============================] - 0s 253us/step - loss: 0.3382 - acc: 0.8595 - val_loss: 0.6100 - val_acc: 0.7935\n",
            "Epoch 20/20\n",
            "1466/1466 [==============================] - 0s 264us/step - loss: 0.3501 - acc: 0.8656 - val_loss: 0.7317 - val_acc: 0.7342\n"
          ],
          "name": "stdout"
        }
      ]
    },
    {
      "metadata": {
        "id": "VdeVeTSuw_Ss",
        "colab_type": "code",
        "outputId": "301e1b8d-abe7-402f-8be9-6166b83e4fce",
        "colab": {
          "base_uri": "https://localhost:8080/",
          "height": 294
        }
      },
      "cell_type": "code",
      "source": [
        "plt.plot(history.history['loss'])\n",
        "plt.plot(history.history['val_loss'])\n",
        "plt.title('ANN model loss')\n",
        "plt.ylabel('loss')\n",
        "plt.xlabel('epoch')\n",
        "plt.legend(['train', 'validation'], loc='upper left')\n",
        "plt.show()"
      ],
      "execution_count": 0,
      "outputs": [
        {
          "output_type": "display_data",
          "data": {
            "image/png": "[encoded data removed]",
            "text/plain": [
              "<Figure size 432x288 with 1 Axes>"
            ]
          },
          "metadata": {
            "tags": []
          }
        }
      ]
    },
    {
      "metadata": {
        "id": "ZgP17VABAjay",
        "colab_type": "code",
        "colab": {}
      },
      "cell_type": "code",
      "source": [
        "# fit and evaluate a model\n",
        "def evaluate_model(trainX, trainy, valX, valy):\n",
        "  verbose, epochs, batch_size = 1, 100, 64\n",
        "  n_timesteps, n_features, n_outputs = 20, 13, 4\n",
        "  model = Sequential()  \n",
        "  model.add(Reshape((SEGMANT_SIZE, n_features), input_shape=(input_shape,)))\n",
        "  model.add(LSTM(10, recurrent_dropout=0.2, activation='relu'))  \n",
        "  model.add(BatchNormalization())\n",
        "  model.add(Dropout(0.5))\n",
        "  model.add(Dense(10, activation='relu'))\n",
        "  model.add(Dense(num_classes, activation='softmax'))\n",
        "  model.compile(loss='categorical_crossentropy', optimizer='adam', metrics=['accuracy'])\n",
        "  # fit network\n",
        "  history = model.fit(trainX, trainy, validation_data=(valX, valy), epochs=epochs, batch_size=batch_size, verbose=verbose)\n",
        "  return model, history"
      ],
      "execution_count": 0,
      "outputs": []
    },
    {
      "metadata": {
        "id": "7Ef7JTlJt_Sv",
        "colab_type": "code",
        "outputId": "55c6dc36-f9d7-4ebb-e3d4-8a39a93a5d4b",
        "colab": {
          "base_uri": "https://localhost:8080/",
          "height": 3675
        }
      },
      "cell_type": "code",
      "source": [
        "model, history = evaluate_model(x_train, y_train_hot_encoding, x_validation, y_validation_hot_encoding)"
      ],
      "execution_count": 0,
      "outputs": [
        {
          "output_type": "stream",
          "text": [
            "Train on 1466 samples, validate on 489 samples\n",
            "Epoch 1/100\n",
            "1466/1466 [==============================] - 4s 3ms/step - loss: 1.7946 - acc: 0.2278 - val_loss: 1.4878 - val_acc: 0.2577\n",
            "Epoch 2/100\n",
            "1466/1466 [==============================] - 3s 2ms/step - loss: 1.5233 - acc: 0.2756 - val_loss: 1.3734 - val_acc: 0.2658\n",
            "Epoch 3/100\n",
            "1466/1466 [==============================] - 3s 2ms/step - loss: 1.3795 - acc: 0.3247 - val_loss: 1.3236 - val_acc: 0.3640\n",
            "Epoch 4/100\n",
            "1466/1466 [==============================] - 3s 2ms/step - loss: 1.3330 - acc: 0.3677 - val_loss: 1.2932 - val_acc: 0.4315\n",
            "Epoch 5/100\n",
            "1466/1466 [==============================] - 3s 2ms/step - loss: 1.2854 - acc: 0.4100 - val_loss: 1.2418 - val_acc: 0.5051\n",
            "Epoch 6/100\n",
            "1466/1466 [==============================] - 3s 2ms/step - loss: 1.2599 - acc: 0.4291 - val_loss: 1.2241 - val_acc: 0.5337\n",
            "Epoch 7/100\n",
            "1466/1466 [==============================] - 3s 2ms/step - loss: 1.2388 - acc: 0.4625 - val_loss: 1.1904 - val_acc: 0.5481\n",
            "Epoch 8/100\n",
            "1466/1466 [==============================] - 3s 2ms/step - loss: 1.2285 - acc: 0.4420 - val_loss: 1.1671 - val_acc: 0.5481\n",
            "Epoch 9/100\n",
            "1466/1466 [==============================] - 3s 2ms/step - loss: 1.2069 - acc: 0.4775 - val_loss: 1.1682 - val_acc: 0.5010\n",
            "Epoch 10/100\n",
            "1466/1466 [==============================] - 3s 2ms/step - loss: 1.1943 - acc: 0.4714 - val_loss: 1.1400 - val_acc: 0.5358\n",
            "Epoch 11/100\n",
            "1466/1466 [==============================] - 3s 2ms/step - loss: 1.1533 - acc: 0.4768 - val_loss: 1.1228 - val_acc: 0.5562\n",
            "Epoch 12/100\n",
            "1466/1466 [==============================] - 3s 2ms/step - loss: 1.1554 - acc: 0.4870 - val_loss: 1.1014 - val_acc: 0.5706\n",
            "Epoch 13/100\n",
            "1466/1466 [==============================] - 3s 2ms/step - loss: 1.1608 - acc: 0.4816 - val_loss: 1.0759 - val_acc: 0.6053\n",
            "Epoch 14/100\n",
            "1466/1466 [==============================] - 3s 2ms/step - loss: 1.1455 - acc: 0.4898 - val_loss: 1.0649 - val_acc: 0.5910\n",
            "Epoch 15/100\n",
            "1466/1466 [==============================] - 3s 2ms/step - loss: 1.1332 - acc: 0.5034 - val_loss: 1.1440 - val_acc: 0.5010\n",
            "Epoch 16/100\n",
            "1466/1466 [==============================] - 3s 2ms/step - loss: 1.1165 - acc: 0.5027 - val_loss: 1.1337 - val_acc: 0.5031\n",
            "Epoch 17/100\n",
            "1466/1466 [==============================] - 3s 2ms/step - loss: 1.1161 - acc: 0.5130 - val_loss: 1.1286 - val_acc: 0.4990\n",
            "Epoch 18/100\n",
            "1466/1466 [==============================] - 3s 2ms/step - loss: 1.1047 - acc: 0.5225 - val_loss: 1.1127 - val_acc: 0.5174\n",
            "Epoch 19/100\n",
            "1466/1466 [==============================] - 3s 2ms/step - loss: 1.1103 - acc: 0.5027 - val_loss: 1.0886 - val_acc: 0.5337\n",
            "Epoch 20/100\n",
            "1466/1466 [==============================] - 3s 2ms/step - loss: 1.0949 - acc: 0.5164 - val_loss: 1.1036 - val_acc: 0.5010\n",
            "Epoch 21/100\n",
            "1466/1466 [==============================] - 3s 2ms/step - loss: 1.0707 - acc: 0.5327 - val_loss: 1.1040 - val_acc: 0.4969\n",
            "Epoch 22/100\n",
            "1466/1466 [==============================] - 3s 2ms/step - loss: 1.1016 - acc: 0.5055 - val_loss: 1.0980 - val_acc: 0.5031\n",
            "Epoch 23/100\n",
            "1466/1466 [==============================] - 3s 2ms/step - loss: 1.0668 - acc: 0.5205 - val_loss: 1.0688 - val_acc: 0.5235\n",
            "Epoch 24/100\n",
            "1466/1466 [==============================] - 3s 2ms/step - loss: 1.0616 - acc: 0.5246 - val_loss: 1.0505 - val_acc: 0.5358\n",
            "Epoch 25/100\n",
            "1466/1466 [==============================] - 3s 2ms/step - loss: 1.0441 - acc: 0.5477 - val_loss: 1.0492 - val_acc: 0.5378\n",
            "Epoch 26/100\n",
            "1466/1466 [==============================] - 3s 2ms/step - loss: 1.0780 - acc: 0.5293 - val_loss: 1.0300 - val_acc: 0.5665\n",
            "Epoch 27/100\n",
            "1466/1466 [==============================] - 3s 2ms/step - loss: 1.0702 - acc: 0.5266 - val_loss: 0.9992 - val_acc: 0.5910\n",
            "Epoch 28/100\n",
            "1466/1466 [==============================] - 3s 2ms/step - loss: 1.0182 - acc: 0.5607 - val_loss: 1.0038 - val_acc: 0.5603\n",
            "Epoch 29/100\n",
            "1466/1466 [==============================] - 3s 2ms/step - loss: 1.0486 - acc: 0.5416 - val_loss: 0.9909 - val_acc: 0.5685\n",
            "Epoch 30/100\n",
            "1466/1466 [==============================] - 3s 2ms/step - loss: 1.0237 - acc: 0.5621 - val_loss: 1.0013 - val_acc: 0.5951\n",
            "Epoch 31/100\n",
            "1466/1466 [==============================] - 3s 2ms/step - loss: 1.0348 - acc: 0.5423 - val_loss: 0.9838 - val_acc: 0.5930\n",
            "Epoch 32/100\n",
            "1466/1466 [==============================] - 3s 2ms/step - loss: 1.0293 - acc: 0.5546 - val_loss: 0.9696 - val_acc: 0.6033\n",
            "Epoch 33/100\n",
            "1466/1466 [==============================] - 3s 2ms/step - loss: 1.0200 - acc: 0.5566 - val_loss: 0.9621 - val_acc: 0.5951\n",
            "Epoch 34/100\n",
            "1466/1466 [==============================] - 3s 2ms/step - loss: 1.0113 - acc: 0.5593 - val_loss: 0.9414 - val_acc: 0.6012\n",
            "Epoch 35/100\n",
            "1466/1466 [==============================] - 3s 2ms/step - loss: 0.9941 - acc: 0.5859 - val_loss: 0.9626 - val_acc: 0.5910\n",
            "Epoch 36/100\n",
            "1466/1466 [==============================] - 3s 2ms/step - loss: 1.0074 - acc: 0.5559 - val_loss: 0.9337 - val_acc: 0.6094\n",
            "Epoch 37/100\n",
            "1466/1466 [==============================] - 3s 2ms/step - loss: 1.0115 - acc: 0.5566 - val_loss: 0.9374 - val_acc: 0.5910\n",
            "Epoch 38/100\n",
            "1466/1466 [==============================] - 3s 2ms/step - loss: 1.0176 - acc: 0.5587 - val_loss: 0.9560 - val_acc: 0.5746\n",
            "Epoch 39/100\n",
            "1466/1466 [==============================] - 3s 2ms/step - loss: 0.9835 - acc: 0.5750 - val_loss: 0.9536 - val_acc: 0.5849\n",
            "Epoch 40/100\n",
            "1466/1466 [==============================] - 3s 2ms/step - loss: 0.9872 - acc: 0.5614 - val_loss: 0.9473 - val_acc: 0.5828\n",
            "Epoch 41/100\n",
            "1466/1466 [==============================] - 3s 2ms/step - loss: 1.0119 - acc: 0.5696 - val_loss: 0.8990 - val_acc: 0.6278\n",
            "Epoch 42/100\n",
            "1466/1466 [==============================] - 3s 2ms/step - loss: 0.9769 - acc: 0.5859 - val_loss: 0.9130 - val_acc: 0.6115\n",
            "Epoch 43/100\n",
            "1466/1466 [==============================] - 3s 2ms/step - loss: 0.9734 - acc: 0.5921 - val_loss: 0.9175 - val_acc: 0.6012\n",
            "Epoch 44/100\n",
            "1466/1466 [==============================] - 3s 2ms/step - loss: 0.9796 - acc: 0.5887 - val_loss: 0.9081 - val_acc: 0.6196\n",
            "Epoch 45/100\n",
            "1466/1466 [==============================] - 3s 2ms/step - loss: 0.9804 - acc: 0.5805 - val_loss: 0.9177 - val_acc: 0.6074\n",
            "Epoch 46/100\n",
            "1466/1466 [==============================] - 3s 2ms/step - loss: 0.9669 - acc: 0.5866 - val_loss: 0.8932 - val_acc: 0.6278\n",
            "Epoch 47/100\n",
            "1466/1466 [==============================] - 3s 2ms/step - loss: 0.9672 - acc: 0.5859 - val_loss: 0.8777 - val_acc: 0.6237\n",
            "Epoch 48/100\n",
            "1466/1466 [==============================] - 3s 2ms/step - loss: 0.9612 - acc: 0.5894 - val_loss: 0.8581 - val_acc: 0.6319\n",
            "Epoch 49/100\n",
            "1466/1466 [==============================] - 3s 2ms/step - loss: 0.9551 - acc: 0.5928 - val_loss: 0.8885 - val_acc: 0.6135\n",
            "Epoch 50/100\n",
            "1466/1466 [==============================] - 3s 2ms/step - loss: 0.9582 - acc: 0.5866 - val_loss: 0.8784 - val_acc: 0.6135\n",
            "Epoch 51/100\n",
            "1466/1466 [==============================] - 3s 2ms/step - loss: 0.9415 - acc: 0.5880 - val_loss: 0.8697 - val_acc: 0.6217\n",
            "Epoch 52/100\n",
            "1466/1466 [==============================] - 3s 2ms/step - loss: 0.9323 - acc: 0.5982 - val_loss: 0.8830 - val_acc: 0.6217\n",
            "Epoch 53/100\n",
            "1466/1466 [==============================] - 3s 2ms/step - loss: 0.9383 - acc: 0.5975 - val_loss: 0.8667 - val_acc: 0.6155\n",
            "Epoch 54/100\n",
            "1466/1466 [==============================] - 3s 2ms/step - loss: 0.9467 - acc: 0.5914 - val_loss: 0.8701 - val_acc: 0.6053\n",
            "Epoch 55/100\n",
            "1466/1466 [==============================] - 3s 2ms/step - loss: 0.9449 - acc: 0.5955 - val_loss: 0.8579 - val_acc: 0.6155\n",
            "Epoch 56/100\n",
            "1466/1466 [==============================] - 3s 2ms/step - loss: 0.9221 - acc: 0.6078 - val_loss: 0.8445 - val_acc: 0.6319\n",
            "Epoch 57/100\n",
            "1466/1466 [==============================] - 3s 2ms/step - loss: 0.9434 - acc: 0.6016 - val_loss: 0.8567 - val_acc: 0.6278\n",
            "Epoch 58/100\n",
            "1466/1466 [==============================] - 3s 2ms/step - loss: 0.8867 - acc: 0.6303 - val_loss: 0.8453 - val_acc: 0.6278\n",
            "Epoch 59/100\n",
            "1466/1466 [==============================] - 3s 2ms/step - loss: 0.9199 - acc: 0.6085 - val_loss: 0.8486 - val_acc: 0.6258\n",
            "Epoch 60/100\n",
            "1466/1466 [==============================] - 3s 2ms/step - loss: 0.9187 - acc: 0.6214 - val_loss: 0.8212 - val_acc: 0.6258\n",
            "Epoch 61/100\n",
            "1466/1466 [==============================] - 3s 2ms/step - loss: 0.8859 - acc: 0.6344 - val_loss: 0.8368 - val_acc: 0.6217\n",
            "Epoch 62/100\n",
            "1466/1466 [==============================] - 3s 2ms/step - loss: 0.9028 - acc: 0.6269 - val_loss: 0.8283 - val_acc: 0.6339\n",
            "Epoch 63/100\n",
            "1466/1466 [==============================] - 3s 2ms/step - loss: 0.8974 - acc: 0.6241 - val_loss: 0.8554 - val_acc: 0.6135\n",
            "Epoch 64/100\n",
            "1466/1466 [==============================] - 3s 2ms/step - loss: 0.9114 - acc: 0.6139 - val_loss: 0.8379 - val_acc: 0.6319\n",
            "Epoch 65/100\n",
            "1466/1466 [==============================] - 3s 2ms/step - loss: 0.8857 - acc: 0.6296 - val_loss: 0.8378 - val_acc: 0.6237\n",
            "Epoch 66/100\n",
            "1466/1466 [==============================] - 3s 2ms/step - loss: 0.8714 - acc: 0.6255 - val_loss: 0.8325 - val_acc: 0.6258\n",
            "Epoch 67/100\n",
            "1466/1466 [==============================] - 3s 2ms/step - loss: 0.9038 - acc: 0.6146 - val_loss: 0.8371 - val_acc: 0.6278\n",
            "Epoch 68/100\n",
            "1466/1466 [==============================] - 3s 2ms/step - loss: 0.8981 - acc: 0.6214 - val_loss: 0.8272 - val_acc: 0.6544\n",
            "Epoch 69/100\n",
            "1466/1466 [==============================] - 3s 2ms/step - loss: 0.8851 - acc: 0.6364 - val_loss: 0.8195 - val_acc: 0.6421\n",
            "Epoch 70/100\n",
            "1466/1466 [==============================] - 3s 2ms/step - loss: 0.8945 - acc: 0.6276 - val_loss: 0.8421 - val_acc: 0.6196\n",
            "Epoch 71/100\n",
            "1466/1466 [==============================] - 3s 2ms/step - loss: 0.8867 - acc: 0.6392 - val_loss: 0.8456 - val_acc: 0.6094\n",
            "Epoch 72/100\n",
            "1466/1466 [==============================] - 3s 2ms/step - loss: 0.8643 - acc: 0.6323 - val_loss: 0.8344 - val_acc: 0.6299\n",
            "Epoch 73/100\n",
            "1466/1466 [==============================] - 3s 2ms/step - loss: 0.8524 - acc: 0.6569 - val_loss: 0.8279 - val_acc: 0.6258\n",
            "Epoch 74/100\n",
            "1466/1466 [==============================] - 3s 2ms/step - loss: 0.8751 - acc: 0.6323 - val_loss: 0.8221 - val_acc: 0.6196\n",
            "Epoch 75/100\n",
            "1466/1466 [==============================] - 3s 2ms/step - loss: 0.8757 - acc: 0.6310 - val_loss: 0.8180 - val_acc: 0.6339\n",
            "Epoch 76/100\n",
            "1466/1466 [==============================] - 3s 2ms/step - loss: 0.8683 - acc: 0.6405 - val_loss: 0.8325 - val_acc: 0.6258\n",
            "Epoch 77/100\n",
            "1466/1466 [==============================] - 3s 2ms/step - loss: 0.8816 - acc: 0.6241 - val_loss: 0.8200 - val_acc: 0.6339\n",
            "Epoch 78/100\n",
            "1466/1466 [==============================] - 3s 2ms/step - loss: 0.8689 - acc: 0.6378 - val_loss: 0.8325 - val_acc: 0.6299\n",
            "Epoch 79/100\n",
            "1466/1466 [==============================] - 3s 2ms/step - loss: 0.8551 - acc: 0.6426 - val_loss: 0.8107 - val_acc: 0.6339\n",
            "Epoch 80/100\n",
            "1466/1466 [==============================] - 3s 2ms/step - loss: 0.8563 - acc: 0.6412 - val_loss: 0.8139 - val_acc: 0.6237\n",
            "Epoch 81/100\n",
            "1466/1466 [==============================] - 3s 2ms/step - loss: 0.8397 - acc: 0.6392 - val_loss: 0.8305 - val_acc: 0.6278\n",
            "Epoch 82/100\n",
            "1466/1466 [==============================] - 3s 2ms/step - loss: 0.8376 - acc: 0.6835 - val_loss: 0.8304 - val_acc: 0.6299\n",
            "Epoch 83/100\n",
            "1466/1466 [==============================] - 3s 2ms/step - loss: 0.8690 - acc: 0.6378 - val_loss: 0.8201 - val_acc: 0.6339\n",
            "Epoch 84/100\n",
            "1466/1466 [==============================] - 3s 2ms/step - loss: 0.8592 - acc: 0.6508 - val_loss: 0.8290 - val_acc: 0.6258\n",
            "Epoch 85/100\n",
            "1466/1466 [==============================] - 3s 2ms/step - loss: 0.8534 - acc: 0.6542 - val_loss: 0.8047 - val_acc: 0.6237\n",
            "Epoch 86/100\n",
            "1466/1466 [==============================] - 3s 2ms/step - loss: 0.8303 - acc: 0.6542 - val_loss: 0.8130 - val_acc: 0.6278\n",
            "Epoch 87/100\n",
            "1466/1466 [==============================] - 3s 2ms/step - loss: 0.8186 - acc: 0.6651 - val_loss: 0.8081 - val_acc: 0.6217\n",
            "Epoch 88/100\n",
            "1466/1466 [==============================] - 3s 2ms/step - loss: 0.8331 - acc: 0.6576 - val_loss: 0.8222 - val_acc: 0.6217\n",
            "Epoch 89/100\n",
            "1466/1466 [==============================] - 3s 2ms/step - loss: 0.8214 - acc: 0.6746 - val_loss: 0.8144 - val_acc: 0.6503\n",
            "Epoch 90/100\n",
            "1466/1466 [==============================] - 3s 2ms/step - loss: 0.8315 - acc: 0.6542 - val_loss: 0.8025 - val_acc: 0.6626\n",
            "Epoch 91/100\n",
            "1466/1466 [==============================] - 3s 2ms/step - loss: 0.8398 - acc: 0.6542 - val_loss: 0.8098 - val_acc: 0.6524\n",
            "Epoch 92/100\n",
            "1466/1466 [==============================] - 3s 2ms/step - loss: 0.8712 - acc: 0.6276 - val_loss: 0.8088 - val_acc: 0.6217\n",
            "Epoch 93/100\n",
            "1466/1466 [==============================] - 3s 2ms/step - loss: 0.8438 - acc: 0.6508 - val_loss: 0.8259 - val_acc: 0.6339\n",
            "Epoch 94/100\n",
            "1466/1466 [==============================] - 3s 2ms/step - loss: 0.8621 - acc: 0.6323 - val_loss: 0.8247 - val_acc: 0.6299\n",
            "Epoch 95/100\n",
            "1466/1466 [==============================] - 3s 2ms/step - loss: 0.8393 - acc: 0.6576 - val_loss: 0.8408 - val_acc: 0.6176\n",
            "Epoch 96/100\n",
            "1466/1466 [==============================] - 3s 2ms/step - loss: 0.8176 - acc: 0.6623 - val_loss: 0.8154 - val_acc: 0.6544\n",
            "Epoch 97/100\n",
            "1466/1466 [==============================] - 3s 2ms/step - loss: 0.8386 - acc: 0.6405 - val_loss: 0.8256 - val_acc: 0.6605\n",
            "Epoch 98/100\n",
            "1466/1466 [==============================] - 3s 2ms/step - loss: 0.8226 - acc: 0.6685 - val_loss: 0.8340 - val_acc: 0.6360\n",
            "Epoch 99/100\n",
            "1466/1466 [==============================] - 3s 2ms/step - loss: 0.8484 - acc: 0.6446 - val_loss: 0.8187 - val_acc: 0.6339\n",
            "Epoch 100/100\n",
            "1466/1466 [==============================] - 3s 2ms/step - loss: 0.8274 - acc: 0.6589 - val_loss: 0.8189 - val_acc: 0.6380\n"
          ],
          "name": "stdout"
        }
      ]
    },
    {
      "metadata": {
        "id": "1CGAAlCnt_M_",
        "colab_type": "code",
        "outputId": "48671e92-42b0-4f60-c450-6834678c49ef",
        "colab": {
          "base_uri": "https://localhost:8080/",
          "height": 294
        }
      },
      "cell_type": "code",
      "source": [
        "plt.plot(history.history['loss'])\n",
        "plt.plot(history.history['val_loss'])\n",
        "plt.title('LSTM model loss')\n",
        "plt.ylabel('loss')\n",
        "plt.xlabel('epoch')\n",
        "plt.legend(['train', 'validation'], loc='upper left')\n",
        "plt.show()"
      ],
      "execution_count": 0,
      "outputs": [
        {
          "output_type": "display_data",
          "data": {
            "image/png": "[encoded data removed]",
            "text/plain": [
              "<Figure size 432x288 with 1 Axes>"
            ]
          },
          "metadata": {
            "tags": []
          }
        }
      ]
    },
    {
      "metadata": {
        "id": "3x6tf7mhyrWT",
        "colab_type": "code",
        "outputId": "5c9754a3-b4b4-4472-998e-542562e6925e",
        "colab": {
          "base_uri": "https://localhost:8080/",
          "height": 294
        }
      },
      "cell_type": "code",
      "source": [
        "plt.plot(history.history['acc'])\n",
        "plt.plot(history.history['val_acc'])\n",
        "plt.title('LSTM model accuracy')\n",
        "plt.ylabel('accuracy')\n",
        "plt.xlabel('epoch')\n",
        "plt.legend(['train', 'validation'], loc='upper left')\n",
        "plt.show()"
      ],
      "execution_count": 0,
      "outputs": [
        {
          "output_type": "display_data",
          "data": {
            "image/png": "[encoded data removed]",
            "text/plain": [
              "<Figure size 432x288 with 1 Axes>"
            ]
          },
          "metadata": {
            "tags": []
          }
        }
      ]
    },
    {
      "metadata": {
        "id": "VmgjO7c_0btk",
        "colab_type": "text"
      },
      "cell_type": "markdown",
      "source": [
        "work on test"
      ]
    },
    {
      "metadata": {
        "id": "DM_ruSJp0oYH",
        "colab_type": "code",
        "colab": {}
      },
      "cell_type": "code",
      "source": [
        "x_test, y_test = create_segments_and_labels(testing_set, SEGMANT_SIZE, STEP_DISTANCE, LABEL)"
      ],
      "execution_count": 0,
      "outputs": []
    },
    {
      "metadata": {
        "id": "1Xek4IEH0NjU",
        "colab_type": "code",
        "outputId": "973c9f4d-80d0-47d3-c760-ad5cff7bcf11",
        "colab": {
          "base_uri": "https://localhost:8080/",
          "height": 90
        }
      },
      "cell_type": "code",
      "source": [
        "print(len(testing_set))\n",
        "print('x_test shape: ', x_test.shape)\n",
        "print(x_test.shape[0], 'training samples')\n",
        "print('y_test shape: ', y_test.shape)"
      ],
      "execution_count": 0,
      "outputs": [
        {
          "output_type": "stream",
          "text": [
            "9744\n",
            "x_test shape:  (486, 40, 13)\n",
            "486 training samples\n",
            "y_test shape:  (486,)\n"
          ],
          "name": "stdout"
        }
      ]
    },
    {
      "metadata": {
        "id": "IqJWMQyo06Ww",
        "colab_type": "code",
        "outputId": "a407cfd0-7abc-4bb7-f434-e96f9581f3e5",
        "colab": {
          "base_uri": "https://localhost:8080/",
          "height": 53
        }
      },
      "cell_type": "code",
      "source": [
        "x_test = x_test.reshape(x_test.shape[0], input_shape)\n",
        "print('x_test shape:', x_test.shape)\n",
        "print('input_shape_test:', input_shape)\n"
      ],
      "execution_count": 0,
      "outputs": [
        {
          "output_type": "stream",
          "text": [
            "x_test shape: (486, 520)\n",
            "input_shape_test: 520\n"
          ],
          "name": "stdout"
        }
      ]
    },
    {
      "metadata": {
        "id": "Yo3VOh5H1Kmi",
        "colab_type": "code",
        "colab": {}
      },
      "cell_type": "code",
      "source": [
        "x_test = x_test.astype('float32')\n",
        "y_test = y_test.astype('float32')"
      ],
      "execution_count": 0,
      "outputs": []
    },
    {
      "metadata": {
        "id": "B7yCLdFI1WQk",
        "colab_type": "code",
        "colab": {}
      },
      "cell_type": "code",
      "source": [
        "#y_test_hot_encoding = np_utils.to_categorical(y_test, num_classes)\n",
        "#print('New y_test shape: ', y_test_hot_encoding.shape)"
      ],
      "execution_count": 0,
      "outputs": []
    },
    {
      "metadata": {
        "id": "3oH7RWpoy3LE",
        "colab_type": "code",
        "colab": {}
      },
      "cell_type": "code",
      "source": [
        "preds_train = model.predict(x_train[:len(y_train)])\n",
        "pred_cat_train = np.argmax(preds_train,axis=1)\n",
        "\n",
        "preds_val = model.predict(x_validation[:len(y_validation)])\n",
        "pred_cat_val = np.argmax(preds_val,axis=1)\n",
        "\n",
        "preds_test = model.predict(x_test[:len(y_test)])\n",
        "pred_cat_test = np.argmax(preds_test,axis=1)"
      ],
      "execution_count": 0,
      "outputs": []
    },
    {
      "metadata": {
        "id": "VE8LDIPr4QZA",
        "colab_type": "code",
        "outputId": "a14638bf-f852-4820-8598-a8daf2b00311",
        "colab": {
          "base_uri": "https://localhost:8080/",
          "height": 35
        }
      },
      "cell_type": "code",
      "source": [
        "len(y_test)\n",
        "len(pred_cat_test)"
      ],
      "execution_count": 0,
      "outputs": [
        {
          "output_type": "execute_result",
          "data": {
            "text/plain": [
              "486"
            ]
          },
          "metadata": {
            "tags": []
          },
          "execution_count": 48
        }
      ]
    },
    {
      "metadata": {
        "id": "24P-roh-2VTr",
        "colab_type": "code",
        "outputId": "7e61f4ca-1d76-4261-e5e9-d64d45cca66d",
        "colab": {
          "base_uri": "https://localhost:8080/",
          "height": 330
        }
      },
      "cell_type": "code",
      "source": [
        "print('model accuracy on traning set is: {}%'.format(accuracy_score(y_train[:len(pred_cat_train)],pred_cat_train)*100))\n",
        "sns.heatmap(confusion_matrix(y_train[:len(pred_cat_train)],pred_cat_train),cmap='Greens',annot=True, fmt='d')\n",
        "\n",
        "plt.xlabel('Prediction')\n",
        "plt.ylabel('True label')\n",
        "plt.title('model classification results on traning set')"
      ],
      "execution_count": 0,
      "outputs": [
        {
          "output_type": "stream",
          "text": [
            "model accuracy on traning set is: 75.78444747612552%\n"
          ],
          "name": "stdout"
        },
        {
          "output_type": "execute_result",
          "data": {
            "text/plain": [
              "Text(0.5, 1.0, 'model classification results on traning set')"
            ]
          },
          "metadata": {
            "tags": []
          },
          "execution_count": 49
        },
        {
          "output_type": "display_data",
          "data": {
            "image/png": "[encoded data removed]",
            "text/plain": [
              "<Figure size 432x288 with 2 Axes>"
            ]
          },
          "metadata": {
            "tags": []
          }
        }
      ]
    },
    {
      "metadata": {
        "id": "fRgVwLOFRXz3",
        "colab_type": "code",
        "outputId": "ba1c311b-98bc-4844-cba4-da4e3e4c97f0",
        "colab": {
          "base_uri": "https://localhost:8080/",
          "height": 330
        }
      },
      "cell_type": "code",
      "source": [
        "print('model accuracy on validation set is: {}%'.format(accuracy_score(y_validation[:len(pred_cat_val)],pred_cat_val)*100))\n",
        "sns.heatmap(confusion_matrix(y_validation[:len(pred_cat_val)],pred_cat_val),cmap='Greens',annot=True, fmt='d')\n",
        "\n",
        "plt.xlabel('Prediction')\n",
        "plt.ylabel('True label')\n",
        "plt.title('model classification results on validation set')"
      ],
      "execution_count": 0,
      "outputs": [
        {
          "output_type": "stream",
          "text": [
            "model accuracy on validation set is: 63.80368098159509%\n"
          ],
          "name": "stdout"
        },
        {
          "output_type": "execute_result",
          "data": {
            "text/plain": [
              "Text(0.5, 1.0, 'model classification results on validation set')"
            ]
          },
          "metadata": {
            "tags": []
          },
          "execution_count": 50
        },
        {
          "output_type": "display_data",
          "data": {
            "image/png": "[encoded data removed]",
            "text/plain": [
              "<Figure size 432x288 with 2 Axes>"
            ]
          },
          "metadata": {
            "tags": []
          }
        }
      ]
    },
    {
      "metadata": {
        "id": "N-dx0DDlJZ-T",
        "colab_type": "code",
        "outputId": "21a4c407-cca5-4c4e-8574-12e858ba5a39",
        "colab": {
          "base_uri": "https://localhost:8080/",
          "height": 330
        }
      },
      "cell_type": "code",
      "source": [
        "print('model accuracy on test set is: {}%'.format(accuracy_score(y_test[:len(pred_cat_test)],pred_cat_test)*100))\n",
        "sns.heatmap(confusion_matrix(y_test[:len(pred_cat_test)],pred_cat_test),cmap='Greens',annot=True, fmt='d')\n",
        "\n",
        "plt.xlabel('Prediction')\n",
        "plt.ylabel('True label')\n",
        "plt.title('model classification results on test set')"
      ],
      "execution_count": 0,
      "outputs": [
        {
          "output_type": "stream",
          "text": [
            "model accuracy on test set is: 64.60905349794238%\n"
          ],
          "name": "stdout"
        },
        {
          "output_type": "execute_result",
          "data": {
            "text/plain": [
              "Text(0.5, 1.0, 'model classification results on test set')"
            ]
          },
          "metadata": {
            "tags": []
          },
          "execution_count": 51
        },
        {
          "output_type": "display_data",
          "data": {
            "image/png": "[encoded data removed]",
            "text/plain": [
              "<Figure size 432x288 with 2 Axes>"
            ]
          },
          "metadata": {
            "tags": []
          }
        }
      ]
    },
    {
      "metadata": {
        "id": "1l5CDoZdPU2-",
        "colab_type": "text"
      },
      "cell_type": "markdown",
      "source": [
        "#Random Forest"
      ]
    },
    {
      "metadata": {
        "id": "AU-elznWRnMu",
        "colab_type": "code",
        "outputId": "1ab515c9-5db7-42e3-a0f9-f50876cfb8a8",
        "colab": {
          "base_uri": "https://localhost:8080/",
          "height": 144
        }
      },
      "cell_type": "code",
      "source": [
        "rfc = RandomForestClassifier(n_estimators=1000)\n",
        "rfc.fit(x_train, y_train)"
      ],
      "execution_count": 0,
      "outputs": [
        {
          "output_type": "execute_result",
          "data": {
            "text/plain": [
              "RandomForestClassifier(bootstrap=True, class_weight=None, criterion='gini',\n",
              "            max_depth=None, max_features='auto', max_leaf_nodes=None,\n",
              "            min_impurity_decrease=0.0, min_impurity_split=None,\n",
              "            min_samples_leaf=1, min_samples_split=2,\n",
              "            min_weight_fraction_leaf=0.0, n_estimators=1000, n_jobs=None,\n",
              "            oob_score=False, random_state=None, verbose=0,\n",
              "            warm_start=False)"
            ]
          },
          "metadata": {
            "tags": []
          },
          "execution_count": 52
        }
      ]
    },
    {
      "metadata": {
        "id": "cP5a4OdrPdVM",
        "colab_type": "code",
        "outputId": "20e241a9-2cbb-43ba-adc7-765978c8c91d",
        "colab": {
          "base_uri": "https://localhost:8080/",
          "height": 235
        }
      },
      "cell_type": "code",
      "source": [
        "print(\"Accuracy on validation set is : {}\".format(rfc.score(x_validation, y_validation)*100))\n",
        "y_validation_pred = rfc.predict(x_validation)\n",
        "print(classification_report(y_validation, y_validation_pred))"
      ],
      "execution_count": 0,
      "outputs": [
        {
          "output_type": "stream",
          "text": [
            "Accuracy on validation set is : 82.41308793456032\n",
            "              precision    recall  f1-score   support\n",
            "\n",
            "         0.0       0.83      0.79      0.81       121\n",
            "         1.0       0.86      0.88      0.87       122\n",
            "         2.0       0.85      0.85      0.85       125\n",
            "         3.0       0.76      0.79      0.77       121\n",
            "\n",
            "   micro avg       0.82      0.82      0.82       489\n",
            "   macro avg       0.82      0.82      0.82       489\n",
            "weighted avg       0.82      0.82      0.82       489\n",
            "\n"
          ],
          "name": "stdout"
        }
      ]
    },
    {
      "metadata": {
        "id": "z0UIDZdxPz00",
        "colab_type": "code",
        "outputId": "f5d92c4e-9e20-4853-f186-3af35699dce9",
        "colab": {
          "base_uri": "https://localhost:8080/",
          "height": 235
        }
      },
      "cell_type": "code",
      "source": [
        "print(\"Accuracy on test set is : {}\".format(rfc.score(x_test, y_test)*100))\n",
        "y_test_pred = rfc.predict(x_test)\n",
        "print(classification_report(y_test, y_test_pred))"
      ],
      "execution_count": 0,
      "outputs": [
        {
          "output_type": "stream",
          "text": [
            "Accuracy on test set is : 66.46090534979425\n",
            "              precision    recall  f1-score   support\n",
            "\n",
            "         0.0       0.54      0.65      0.59       121\n",
            "         1.0       0.74      0.76      0.75       121\n",
            "         2.0       0.75      0.65      0.70       124\n",
            "         3.0       0.65      0.60      0.63       120\n",
            "\n",
            "   micro avg       0.66      0.66      0.66       486\n",
            "   macro avg       0.67      0.66      0.67       486\n",
            "weighted avg       0.67      0.66      0.67       486\n",
            "\n"
          ],
          "name": "stdout"
        }
      ]
    },
    {
      "metadata": {
        "id": "wfPn918Igcyk",
        "colab_type": "code",
        "colab": {}
      },
      "cell_type": "code",
      "source": [
        ""
      ],
      "execution_count": 0,
      "outputs": []
    }
  ]
}