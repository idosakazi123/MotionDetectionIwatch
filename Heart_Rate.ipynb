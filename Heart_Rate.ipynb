{
  "nbformat": 4,
  "nbformat_minor": 0,
  "metadata": {
    "colab": {
      "name": "shaysworkHR.ipynb",
      "version": "0.3.2",
      "provenance": [],
      "collapsed_sections": [
        "pjB52mCFKkvX",
        "5elfNI-v19Ij",
        "tTVtho5KM_wp",
        "AsofXveNN5JC",
        "2-MDjqbj0ALi",
        "l-iY5tMSPK6N",
        "B1FDppeJP9xj",
        "-FNo7dLgV-J5",
        "8KQLycKnXtSc"
      ]
    },
    "kernelspec": {
      "name": "python3",
      "display_name": "Python 3"
    },
    "accelerator": "GPU"
  },
  "cells": [
    {
      "cell_type": "markdown",
      "metadata": {
        "id": "cZpWp1O7FAHb",
        "colab_type": "text"
      },
      "source": [
        "# Imports and connect to google drive"
      ]
    },
    {
      "cell_type": "code",
      "metadata": {
        "id": "qPmiaRQjikg2",
        "colab_type": "code",
        "outputId": "e2a08e76-5310-4fde-a2b9-f0522127a928",
        "colab": {
          "base_uri": "https://localhost:8080/",
          "height": 36
        }
      },
      "source": [
        "import random\n",
        "import keras\n",
        "import numpy as np\n",
        "import pandas as pd\n",
        "import seaborn as sns\n",
        "import math\n",
        "import matplotlib.pyplot as plt\n",
        "%matplotlib inline\n",
        "\n",
        "from sklearn import metrics\n",
        "from sklearn import preprocessing\n",
        "from sklearn.metrics import classification_report, accuracy_score, confusion_matrix, log_loss\n",
        "\n",
        "from keras.utils import np_utils\n",
        "from keras.optimizers import Adam\n",
        "from keras.models import Sequential\n",
        "from keras.layers import Dense, Dropout, Flatten, Reshape, LSTM, BatchNormalization, Conv2D, MaxPooling2D, RNN\n",
        "\n",
        "from scipy import stats"
      ],
      "execution_count": 0,
      "outputs": [
        {
          "output_type": "stream",
          "text": [
            "Using TensorFlow backend.\n"
          ],
          "name": "stderr"
        }
      ]
    },
    {
      "cell_type": "code",
      "metadata": {
        "id": "hMItINKfitgb",
        "colab_type": "code",
        "outputId": "cafe9385-ca53-4ddf-942c-6a8431f75d63",
        "colab": {
          "base_uri": "https://localhost:8080/",
          "height": 130
        }
      },
      "source": [
        "#Get access to google drive\n",
        "from google.colab import drive\n",
        "drive.mount('/content/drive/')"
      ],
      "execution_count": 0,
      "outputs": [
        {
          "output_type": "stream",
          "text": [
            "Go to this URL in a browser: https://accounts.google.com/o/oauth2/auth?client_id=947318989803-6bn6qk8qdgf4n4g3pfee6491hc0brc4i.apps.googleusercontent.com&redirect_uri=urn%3Aietf%3Awg%3Aoauth%3A2.0%3Aoob&scope=email%20https%3A%2F%2Fwww.googleapis.com%2Fauth%2Fdocs.test%20https%3A%2F%2Fwww.googleapis.com%2Fauth%2Fdrive%20https%3A%2F%2Fwww.googleapis.com%2Fauth%2Fdrive.photos.readonly%20https%3A%2F%2Fwww.googleapis.com%2Fauth%2Fpeopleapi.readonly&response_type=code\n",
            "\n",
            "Enter your authorization code:\n",
            "··········\n",
            "Mounted at /content/drive/\n"
          ],
          "name": "stdout"
        }
      ]
    },
    {
      "cell_type": "markdown",
      "metadata": {
        "id": "V1xV0temJ6qy",
        "colab_type": "text"
      },
      "source": [
        "**All users names and activities**"
      ]
    },
    {
      "cell_type": "code",
      "metadata": {
        "id": "RF9lFl5PKTrG",
        "colab_type": "code",
        "colab": {}
      },
      "source": [
        "names = ['Shay', 'Ido','Idan','Asaf','Alon','Oren','Hila','Inbar','Alex','Max']\n",
        "activities = ['drinking', 'eating', 'on_computer', 'on_phone']\n",
        "\n",
        "data_map = {'training_map': {}, 'validation_map': {}, 'testing_map': {}}"
      ],
      "execution_count": 0,
      "outputs": []
    },
    {
      "cell_type": "markdown",
      "metadata": {
        "id": "JgGH8nSRKK8n",
        "colab_type": "text"
      },
      "source": [
        "**Creating training validation and testing sets**"
      ]
    },
    {
      "cell_type": "code",
      "metadata": {
        "id": "xH6x-LoTKExk",
        "colab_type": "code",
        "outputId": "2526efc0-8655-48ca-b799-d5d81e212830",
        "colab": {
          "base_uri": "https://localhost:8080/",
          "height": 73
        }
      },
      "source": [
        "#Get csv files from the drive\n",
        "for name in names:\n",
        "  for activity in activities:\n",
        "    data_map['training_map'][f'{name}_{activity}'] = list(map(lambda i: pd.read_csv(\n",
        "        f'drive/My Drive/Shared folder University/files_project/participates/{name}/{name}_is_{activity}/{i}/{name}_is_{activity}{i}.csv'), range(1,4)))\n",
        "       \n",
        "for name in names:\n",
        "  for activity in activities:\n",
        "    data_map['validation_map'][f'{name}_{activity}'] = list(map(lambda i: pd.read_csv(\n",
        "        f'drive/My Drive/Shared folder University/files_project/participates/{name}/{name}_is_{activity}/{i}/{name}_is_{activity}{i}.csv'), range(4,5)))\n",
        "       \n",
        "for name in names:\n",
        "  for activity in activities:\n",
        "    data_map['testing_map'][f'{name}_{activity}'] = list(map(lambda i: pd.read_csv(\n",
        "        f'drive/My Drive/Shared folder University/files_project/participates/{name}/{name}_is_{activity}/{i}/{name}_is_{activity}{i}.csv'), range(5,6)))\n",
        "    \n",
        "print('training_map containas: {}'.format(len(data_map['training_map']['Shay_drinking'])))\n",
        "print('validation_map containas: {}'.format(len(data_map['validation_map']['Shay_drinking'])))\n",
        "print('testing_map containas: {}'.format(len(data_map['testing_map']['Shay_drinking'])))"
      ],
      "execution_count": 0,
      "outputs": [
        {
          "output_type": "stream",
          "text": [
            "training_map containas: 3\n",
            "validation_map containas: 1\n",
            "testing_map containas: 1\n"
          ],
          "name": "stdout"
        }
      ]
    },
    {
      "cell_type": "markdown",
      "metadata": {
        "id": "pjB52mCFKkvX",
        "colab_type": "text"
      },
      "source": [
        "# Preprocessing"
      ]
    },
    {
      "cell_type": "markdown",
      "metadata": {
        "id": "Lg0PONSJLzZ_",
        "colab_type": "text"
      },
      "source": [
        "**Dealing with NA**"
      ]
    },
    {
      "cell_type": "code",
      "metadata": {
        "id": "Avv0_qzkAAT_",
        "colab_type": "code",
        "colab": {}
      },
      "source": [
        "for data_division_map in data_map:\n",
        "  for name_activity in data_map[data_division_map]:\n",
        "    for df in data_map[data_division_map][name_activity]:\n",
        "      number = round(float(df[\"Heart_Rate\"].mean()))\n",
        "      df.fillna(float(number), inplace=True)"
      ],
      "execution_count": 0,
      "outputs": []
    },
    {
      "cell_type": "markdown",
      "metadata": {
        "id": "Xcf1QqnVL71V",
        "colab_type": "text"
      },
      "source": [
        "**Shuffling activity data**"
      ]
    },
    {
      "cell_type": "code",
      "metadata": {
        "id": "sCBgUKrtzaLP",
        "colab_type": "code",
        "colab": {}
      },
      "source": [
        "def random_activity(l):\n",
        "    random.shuffle(l)\n",
        "    return iter(l)"
      ],
      "execution_count": 0,
      "outputs": []
    },
    {
      "cell_type": "code",
      "metadata": {
        "id": "Y5ycTgbbtZWt",
        "colab_type": "code",
        "colab": {}
      },
      "source": [
        "#concat all dataframes\n",
        "for name in names:\n",
        "  data_map['training_map'][name] = []\n",
        "  for i in range(0,3):\n",
        "    name_activity_index_list = list()\n",
        "    for activity in random_activity(activities):\n",
        "      name_activity_index_list.append(data_map['training_map'][f'{name}_{activity}'][i])\n",
        "    data_map['training_map'][name].append(pd.concat(name_activity_index_list))\n",
        "  data_map['training_map'][name] = pd.concat(data_map['training_map'][name])\n",
        "    \n",
        "for name in names:\n",
        "  data_map['validation_map'][name] = []\n",
        "  for i in range(0,1):\n",
        "    name_activity_index_list = list()\n",
        "    for activity in random_activity(activities):\n",
        "      name_activity_index_list.append(data_map['validation_map'][f'{name}_{activity}'][i])\n",
        "    data_map['validation_map'][name].append(pd.concat(name_activity_index_list))   \n",
        "  data_map['validation_map'][name] = pd.concat(data_map['validation_map'][name])\n",
        "    \n",
        "    \n",
        "for name in names:\n",
        "  data_map['testing_map'][name] = []\n",
        "  for i in range(0,1):\n",
        "    name_activity_index_list = list()\n",
        "    for activity in random_activity(activities):\n",
        "      name_activity_index_list.append(data_map['testing_map'][f'{name}_{activity}'][i])\n",
        "    data_map['testing_map'][name].append(pd.concat(name_activity_index_list))\n",
        "  data_map['testing_map'][name] = pd.concat(data_map['testing_map'][name])\n",
        "    "
      ],
      "execution_count": 0,
      "outputs": []
    },
    {
      "cell_type": "code",
      "metadata": {
        "colab_type": "code",
        "id": "_20qatqiEDKf",
        "colab": {}
      },
      "source": [
        "#concat inter dataframes\n",
        "for data_division_map in data_map:  \n",
        "  data_map[data_division_map] = pd.concat([value for key, value in data_map[data_division_map].items() if key in names])"
      ],
      "execution_count": 0,
      "outputs": []
    },
    {
      "cell_type": "code",
      "metadata": {
        "id": "efmo6jHTd2zw",
        "colab_type": "code",
        "colab": {}
      },
      "source": [
        "#copy data sets into variables\n",
        "training_set = data_map['training_map'].copy()\n",
        "validation_set = data_map['validation_map'].copy()\n",
        "testing_set = data_map['testing_map'].copy()\n",
        "\n",
        "del(data_map)"
      ],
      "execution_count": 0,
      "outputs": []
    },
    {
      "cell_type": "markdown",
      "metadata": {
        "id": "kO_cgWozM4lH",
        "colab_type": "text"
      },
      "source": [
        "**Data sets size**"
      ]
    },
    {
      "cell_type": "code",
      "metadata": {
        "id": "plhfLF1rcbAI",
        "colab_type": "code",
        "outputId": "99845e30-b909-42e8-d73d-ba4e1314a16b",
        "colab": {
          "base_uri": "https://localhost:8080/"
        }
      },
      "source": [
        "print('Training size is: {}'.format(len(training_set)))\n",
        "print(training_set.isnull().sum())\n",
        "\n",
        "print('validation size is: {}'.format(len(validation_set)))\n",
        "print(validation_set.isnull().sum())\n",
        "\n",
        "print('testing size is: {}'.format(len(testing_set)))\n",
        "print(testing_set.isnull().sum())"
      ],
      "execution_count": 0,
      "outputs": [
        {
          "output_type": "stream",
          "text": [
            "Training size is: 73885\n",
            "ID            0\n",
            "Time          0\n",
            "Acce_X        0\n",
            "Acce_Y        0\n",
            "Acce_Z        0\n",
            "Gyro_X        0\n",
            "Gyro_Y        0\n",
            "Gyro_Z        0\n",
            "Gravity_X     0\n",
            "Gravity_Y     0\n",
            "Gravity_Z     0\n",
            "Roll          0\n",
            "Pitch         0\n",
            "Yaw           0\n",
            "Heart_Rate    0\n",
            "Activity      0\n",
            "dtype: int64\n",
            "validation size is: 24560\n",
            "ID            0\n",
            "Time          0\n",
            "Acce_X        0\n",
            "Acce_Y        0\n",
            "Acce_Z        0\n",
            "Gyro_X        0\n",
            "Gyro_Y        0\n",
            "Gyro_Z        0\n",
            "Gravity_X     0\n",
            "Gravity_Y     0\n",
            "Gravity_Z     0\n",
            "Roll          0\n",
            "Pitch         0\n",
            "Yaw           0\n",
            "Heart_Rate    0\n",
            "Activity      0\n",
            "dtype: int64\n",
            "testing size is: 24547\n",
            "ID            0\n",
            "Time          0\n",
            "Acce_X        0\n",
            "Acce_Y        0\n",
            "Acce_Z        0\n",
            "Gyro_X        0\n",
            "Gyro_Y        0\n",
            "Gyro_Z        0\n",
            "Gravity_X     0\n",
            "Gravity_Y     0\n",
            "Gravity_Z     0\n",
            "Roll          0\n",
            "Pitch         0\n",
            "Yaw           0\n",
            "Heart_Rate    0\n",
            "Activity      0\n",
            "dtype: int64\n"
          ],
          "name": "stdout"
        }
      ]
    },
    {
      "cell_type": "code",
      "metadata": {
        "id": "6vtcuxMocpa6",
        "colab_type": "code",
        "outputId": "690ec840-7486-436f-ef5f-a06db817fac5",
        "colab": {
          "base_uri": "https://localhost:8080/"
        }
      },
      "source": [
        "training_set.head()"
      ],
      "execution_count": 0,
      "outputs": [
        {
          "output_type": "execute_result",
          "data": {
            "text/html": [
              "<div>\n",
              "<style scoped>\n",
              "    .dataframe tbody tr th:only-of-type {\n",
              "        vertical-align: middle;\n",
              "    }\n",
              "\n",
              "    .dataframe tbody tr th {\n",
              "        vertical-align: top;\n",
              "    }\n",
              "\n",
              "    .dataframe thead th {\n",
              "        text-align: right;\n",
              "    }\n",
              "</style>\n",
              "<table border=\"1\" class=\"dataframe\">\n",
              "  <thead>\n",
              "    <tr style=\"text-align: right;\">\n",
              "      <th></th>\n",
              "      <th>ID</th>\n",
              "      <th>Time</th>\n",
              "      <th>Acce_X</th>\n",
              "      <th>Acce_Y</th>\n",
              "      <th>Acce_Z</th>\n",
              "      <th>Gyro_X</th>\n",
              "      <th>Gyro_Y</th>\n",
              "      <th>Gyro_Z</th>\n",
              "      <th>Gravity_X</th>\n",
              "      <th>Gravity_Y</th>\n",
              "      <th>Gravity_Z</th>\n",
              "      <th>Roll</th>\n",
              "      <th>Pitch</th>\n",
              "      <th>Yaw</th>\n",
              "      <th>Heart_Rate</th>\n",
              "      <th>Activity</th>\n",
              "    </tr>\n",
              "  </thead>\n",
              "  <tbody>\n",
              "    <tr>\n",
              "      <th>0</th>\n",
              "      <td>1</td>\n",
              "      <td>16:30:01</td>\n",
              "      <td>0.020015</td>\n",
              "      <td>0.042676</td>\n",
              "      <td>0.002245</td>\n",
              "      <td>-0.292180</td>\n",
              "      <td>0.053346</td>\n",
              "      <td>-0.119537</td>\n",
              "      <td>-0.003338</td>\n",
              "      <td>-0.512356</td>\n",
              "      <td>-0.858766</td>\n",
              "      <td>-0.003886</td>\n",
              "      <td>0.537927</td>\n",
              "      <td>0.001991</td>\n",
              "      <td>78.0</td>\n",
              "      <td>On_Phone</td>\n",
              "    </tr>\n",
              "    <tr>\n",
              "      <th>1</th>\n",
              "      <td>1</td>\n",
              "      <td>16:30:01</td>\n",
              "      <td>0.030446</td>\n",
              "      <td>0.051427</td>\n",
              "      <td>0.014540</td>\n",
              "      <td>-0.289519</td>\n",
              "      <td>0.239283</td>\n",
              "      <td>-0.286981</td>\n",
              "      <td>0.018642</td>\n",
              "      <td>-0.477925</td>\n",
              "      <td>-0.878203</td>\n",
              "      <td>0.021224</td>\n",
              "      <td>0.498291</td>\n",
              "      <td>-0.024963</td>\n",
              "      <td>78.0</td>\n",
              "      <td>On_Phone</td>\n",
              "    </tr>\n",
              "    <tr>\n",
              "      <th>2</th>\n",
              "      <td>1</td>\n",
              "      <td>16:30:01</td>\n",
              "      <td>0.061171</td>\n",
              "      <td>0.119279</td>\n",
              "      <td>0.026618</td>\n",
              "      <td>-0.260106</td>\n",
              "      <td>0.212153</td>\n",
              "      <td>-0.207484</td>\n",
              "      <td>0.047762</td>\n",
              "      <td>-0.433962</td>\n",
              "      <td>-0.899664</td>\n",
              "      <td>0.053038</td>\n",
              "      <td>0.448885</td>\n",
              "      <td>-0.055818</td>\n",
              "      <td>78.0</td>\n",
              "      <td>On_Phone</td>\n",
              "    </tr>\n",
              "    <tr>\n",
              "      <th>3</th>\n",
              "      <td>1</td>\n",
              "      <td>16:30:01</td>\n",
              "      <td>0.035092</td>\n",
              "      <td>0.058898</td>\n",
              "      <td>0.030542</td>\n",
              "      <td>-0.078390</td>\n",
              "      <td>-0.004126</td>\n",
              "      <td>-0.025107</td>\n",
              "      <td>0.074466</td>\n",
              "      <td>-0.387741</td>\n",
              "      <td>-0.918756</td>\n",
              "      <td>0.080874</td>\n",
              "      <td>0.398180</td>\n",
              "      <td>-0.072152</td>\n",
              "      <td>78.0</td>\n",
              "      <td>On_Phone</td>\n",
              "    </tr>\n",
              "    <tr>\n",
              "      <th>4</th>\n",
              "      <td>1</td>\n",
              "      <td>16:30:01</td>\n",
              "      <td>-0.008887</td>\n",
              "      <td>0.014132</td>\n",
              "      <td>0.019267</td>\n",
              "      <td>-0.308298</td>\n",
              "      <td>-0.087261</td>\n",
              "      <td>-0.064895</td>\n",
              "      <td>0.090140</td>\n",
              "      <td>-0.359103</td>\n",
              "      <td>-0.928935</td>\n",
              "      <td>0.096733</td>\n",
              "      <td>0.367306</td>\n",
              "      <td>-0.079410</td>\n",
              "      <td>78.0</td>\n",
              "      <td>On_Phone</td>\n",
              "    </tr>\n",
              "  </tbody>\n",
              "</table>\n",
              "</div>"
            ],
            "text/plain": [
              "   ID      Time    Acce_X    Acce_Y  ...     Pitch       Yaw  Heart_Rate  Activity\n",
              "0   1  16:30:01  0.020015  0.042676  ...  0.537927  0.001991        78.0  On_Phone\n",
              "1   1  16:30:01  0.030446  0.051427  ...  0.498291 -0.024963        78.0  On_Phone\n",
              "2   1  16:30:01  0.061171  0.119279  ...  0.448885 -0.055818        78.0  On_Phone\n",
              "3   1  16:30:01  0.035092  0.058898  ...  0.398180 -0.072152        78.0  On_Phone\n",
              "4   1  16:30:01 -0.008887  0.014132  ...  0.367306 -0.079410        78.0  On_Phone\n",
              "\n",
              "[5 rows x 16 columns]"
            ]
          },
          "metadata": {
            "tags": []
          },
          "execution_count": 11
        }
      ]
    },
    {
      "cell_type": "markdown",
      "metadata": {
        "id": "5elfNI-v19Ij",
        "colab_type": "text"
      },
      "source": [
        "#Adding features extraction "
      ]
    },
    {
      "cell_type": "code",
      "metadata": {
        "id": "U6_bux48Eoh3",
        "colab_type": "code",
        "colab": {}
      },
      "source": [
        "training_set_eval = training_set.copy()\n",
        "validation_set_eval = validation_set.copy()\n",
        "testing_set_eval = testing_set.copy()"
      ],
      "execution_count": 0,
      "outputs": []
    },
    {
      "cell_type": "code",
      "metadata": {
        "id": "DlQFtbs8GzvC",
        "colab_type": "code",
        "outputId": "818181f4-cd66-4052-c602-663eee2eb3f7",
        "colab": {
          "base_uri": "https://localhost:8080/"
        }
      },
      "source": [
        "training_set_eval.shape[0]"
      ],
      "execution_count": 0,
      "outputs": [
        {
          "output_type": "execute_result",
          "data": {
            "text/plain": [
              "73885"
            ]
          },
          "metadata": {
            "tags": []
          },
          "execution_count": 13
        }
      ]
    },
    {
      "cell_type": "code",
      "metadata": {
        "id": "D0xABqx_3mAp",
        "colab_type": "code",
        "colab": {}
      },
      "source": [
        "def create_features(dataFrame):\n",
        "  #vector features\n",
        "  dataFrame['length_acce'] = dataFrame.apply(lambda row: math.sqrt(math.pow(row['Acce_X'], 2) + math.pow(row['Acce_Y'],2) + math.pow(row['Acce_Z'],2)) , axis = 1) \n",
        "\n",
        "  dataFrame['length_gyro'] = dataFrame.apply(lambda row: math.sqrt(math.pow(row['Gyro_X'], 2) + math.pow(row['Gyro_Y'],2) + math.pow(row['Gyro_Z'],2)) , axis = 1) \n",
        "\n",
        "  #dataFrame['length_gravity'] = dataFrame.apply(lambda row: math.sqrt(math.pow(row['Gravity_X'], 2) + math.pow(row['Gravity_Y'],2) + math.pow(row['Gravity_Z'],2)), axis = 1) \n",
        "\n",
        "  dataFrame['direction_acce'] = dataFrame.apply(lambda row: math.asin(row['Acce_Y']/row['length_acce']) , axis = 1) \n",
        "\n",
        "  dataFrame['direction_gyro'] = dataFrame.apply(lambda row: math.asin(row['Gyro_Y']/row['length_gyro']) , axis = 1) \n",
        "\n",
        "  dataFrame['direction_gravity'] = dataFrame.apply(lambda row: math.asin(row['Gravity_Y']) , axis = 1) \n",
        "  \n",
        "  dataFrame['gyro_along_gravity'] = dataFrame.apply(lambda row: (row['Gyro_X']*row['Gravity_X']) + (row['Gyro_Y']*row['Gravity_Y']) + (row['Gyro_Z']*row['Gravity_Z']) , axis = 1) \n",
        "  \n",
        "  #statistical features\n",
        "  dataFrame['mean_acce'] = dataFrame.apply(lambda row: np.mean([row['Acce_X'], row['Acce_Y'], row['Acce_Z']]), axis = 1) \n",
        "\n",
        "  dataFrame['std_acce'] = dataFrame.apply(lambda row: np.std([row['Acce_X'], row['Acce_Y'], row['Acce_Z']]), axis = 1) \n",
        "  \n",
        "  dataFrame['mean_gyro'] = dataFrame.apply(lambda row: np.mean([row['Gyro_X'], row['Gyro_Y'], row['Gyro_Z']]), axis = 1) \n",
        "\n",
        "  dataFrame['std_gyro'] = dataFrame.apply(lambda row: np.std([row['Gyro_X'], row['Gyro_Y'], row['Gyro_Z']]), axis = 1) \n",
        "  \n",
        "  dataFrame['mean_gravity'] = dataFrame.apply(lambda row: np.mean([row['Gravity_X'], row['Gravity_Y'], row['Gravity_Z']]), axis = 1) \n",
        "\n",
        "  dataFrame['std_gravity'] = dataFrame.apply(lambda row: np.std([row['Gravity_X'], row['Gravity_Y'], row['Gravity_Z']]), axis = 1) \n",
        "  \n",
        "  dataFrame['mean_rpy'] = dataFrame.apply(lambda row: np.mean([row['Roll'], row['Pitch'], row['Yaw']]), axis = 1) \n",
        "\n",
        "  dataFrame['std_rpy'] = dataFrame.apply(lambda row: np.std([row['Roll'], row['Pitch'], row['Yaw']]), axis = 1) \n",
        "  \n",
        "  return dataFrame"
      ],
      "execution_count": 0,
      "outputs": []
    },
    {
      "cell_type": "code",
      "metadata": {
        "id": "nU9llPmCbIBD",
        "colab_type": "code",
        "colab": {}
      },
      "source": [
        "training_set_eval = create_features(training_set_eval)\n",
        "\n",
        "validation_set_eval = create_features(validation_set_eval)\n",
        "\n",
        "testing_set_eval = create_features(testing_set_eval)"
      ],
      "execution_count": 0,
      "outputs": []
    },
    {
      "cell_type": "code",
      "metadata": {
        "id": "nUgIdTdjbbfj",
        "colab_type": "code",
        "outputId": "3a04ebc4-4724-4ebe-de01-0ebd9efae1b9",
        "colab": {
          "base_uri": "https://localhost:8080/"
        }
      },
      "source": [
        "training_set_eval.head()"
      ],
      "execution_count": 0,
      "outputs": [
        {
          "output_type": "execute_result",
          "data": {
            "text/html": [
              "<div>\n",
              "<style scoped>\n",
              "    .dataframe tbody tr th:only-of-type {\n",
              "        vertical-align: middle;\n",
              "    }\n",
              "\n",
              "    .dataframe tbody tr th {\n",
              "        vertical-align: top;\n",
              "    }\n",
              "\n",
              "    .dataframe thead th {\n",
              "        text-align: right;\n",
              "    }\n",
              "</style>\n",
              "<table border=\"1\" class=\"dataframe\">\n",
              "  <thead>\n",
              "    <tr style=\"text-align: right;\">\n",
              "      <th></th>\n",
              "      <th>ID</th>\n",
              "      <th>Time</th>\n",
              "      <th>Acce_X</th>\n",
              "      <th>Acce_Y</th>\n",
              "      <th>Acce_Z</th>\n",
              "      <th>Gyro_X</th>\n",
              "      <th>Gyro_Y</th>\n",
              "      <th>Gyro_Z</th>\n",
              "      <th>Gravity_X</th>\n",
              "      <th>Gravity_Y</th>\n",
              "      <th>Gravity_Z</th>\n",
              "      <th>Roll</th>\n",
              "      <th>Pitch</th>\n",
              "      <th>Yaw</th>\n",
              "      <th>Heart_Rate</th>\n",
              "      <th>Activity</th>\n",
              "      <th>length_acce</th>\n",
              "      <th>length_gyro</th>\n",
              "      <th>direction_acce</th>\n",
              "      <th>direction_gyro</th>\n",
              "      <th>direction_gravity</th>\n",
              "      <th>gyro_along_gravity</th>\n",
              "      <th>mean_acce</th>\n",
              "      <th>std_acce</th>\n",
              "      <th>mean_gyro</th>\n",
              "      <th>std_gyro</th>\n",
              "      <th>mean_gravity</th>\n",
              "      <th>std_gravity</th>\n",
              "      <th>mean_rpy</th>\n",
              "      <th>std_rpy</th>\n",
              "    </tr>\n",
              "  </thead>\n",
              "  <tbody>\n",
              "    <tr>\n",
              "      <th>0</th>\n",
              "      <td>1</td>\n",
              "      <td>16:30:01</td>\n",
              "      <td>0.020015</td>\n",
              "      <td>0.042676</td>\n",
              "      <td>0.002245</td>\n",
              "      <td>-0.292180</td>\n",
              "      <td>0.053346</td>\n",
              "      <td>-0.119537</td>\n",
              "      <td>-0.003338</td>\n",
              "      <td>-0.512356</td>\n",
              "      <td>-0.858766</td>\n",
              "      <td>-0.003886</td>\n",
              "      <td>0.537927</td>\n",
              "      <td>0.001991</td>\n",
              "      <td>78.0</td>\n",
              "      <td>On_Phone</td>\n",
              "      <td>0.047190</td>\n",
              "      <td>0.320162</td>\n",
              "      <td>1.129836</td>\n",
              "      <td>0.167403</td>\n",
              "      <td>-0.537927</td>\n",
              "      <td>0.076297</td>\n",
              "      <td>0.021645</td>\n",
              "      <td>0.016546</td>\n",
              "      <td>-0.119457</td>\n",
              "      <td>0.141060</td>\n",
              "      <td>-0.458153</td>\n",
              "      <td>0.351324</td>\n",
              "      <td>0.178677</td>\n",
              "      <td>0.254039</td>\n",
              "    </tr>\n",
              "    <tr>\n",
              "      <th>1</th>\n",
              "      <td>1</td>\n",
              "      <td>16:30:01</td>\n",
              "      <td>0.030446</td>\n",
              "      <td>0.051427</td>\n",
              "      <td>0.014540</td>\n",
              "      <td>-0.289519</td>\n",
              "      <td>0.239283</td>\n",
              "      <td>-0.286981</td>\n",
              "      <td>0.018642</td>\n",
              "      <td>-0.477925</td>\n",
              "      <td>-0.878203</td>\n",
              "      <td>0.021224</td>\n",
              "      <td>0.498291</td>\n",
              "      <td>-0.024963</td>\n",
              "      <td>78.0</td>\n",
              "      <td>On_Phone</td>\n",
              "      <td>0.061507</td>\n",
              "      <td>0.472689</td>\n",
              "      <td>0.990164</td>\n",
              "      <td>0.530791</td>\n",
              "      <td>-0.498291</td>\n",
              "      <td>0.132271</td>\n",
              "      <td>0.032138</td>\n",
              "      <td>0.015106</td>\n",
              "      <td>-0.112406</td>\n",
              "      <td>0.248683</td>\n",
              "      <td>-0.445829</td>\n",
              "      <td>0.366838</td>\n",
              "      <td>0.164851</td>\n",
              "      <td>0.236531</td>\n",
              "    </tr>\n",
              "    <tr>\n",
              "      <th>2</th>\n",
              "      <td>1</td>\n",
              "      <td>16:30:01</td>\n",
              "      <td>0.061171</td>\n",
              "      <td>0.119279</td>\n",
              "      <td>0.026618</td>\n",
              "      <td>-0.260106</td>\n",
              "      <td>0.212153</td>\n",
              "      <td>-0.207484</td>\n",
              "      <td>0.047762</td>\n",
              "      <td>-0.433962</td>\n",
              "      <td>-0.899664</td>\n",
              "      <td>0.053038</td>\n",
              "      <td>0.448885</td>\n",
              "      <td>-0.055818</td>\n",
              "      <td>78.0</td>\n",
              "      <td>On_Phone</td>\n",
              "      <td>0.136667</td>\n",
              "      <td>0.394606</td>\n",
              "      <td>1.060853</td>\n",
              "      <td>0.567628</td>\n",
              "      <td>-0.448885</td>\n",
              "      <td>0.082176</td>\n",
              "      <td>0.069023</td>\n",
              "      <td>0.038234</td>\n",
              "      <td>-0.085146</td>\n",
              "      <td>0.211317</td>\n",
              "      <td>-0.428621</td>\n",
              "      <td>0.386803</td>\n",
              "      <td>0.148702</td>\n",
              "      <td>0.216864</td>\n",
              "    </tr>\n",
              "    <tr>\n",
              "      <th>3</th>\n",
              "      <td>1</td>\n",
              "      <td>16:30:01</td>\n",
              "      <td>0.035092</td>\n",
              "      <td>0.058898</td>\n",
              "      <td>0.030542</td>\n",
              "      <td>-0.078390</td>\n",
              "      <td>-0.004126</td>\n",
              "      <td>-0.025107</td>\n",
              "      <td>0.074466</td>\n",
              "      <td>-0.387741</td>\n",
              "      <td>-0.918756</td>\n",
              "      <td>0.080874</td>\n",
              "      <td>0.398180</td>\n",
              "      <td>-0.072152</td>\n",
              "      <td>78.0</td>\n",
              "      <td>On_Phone</td>\n",
              "      <td>0.075055</td>\n",
              "      <td>0.082416</td>\n",
              "      <td>0.902268</td>\n",
              "      <td>-0.050079</td>\n",
              "      <td>-0.398180</td>\n",
              "      <td>0.018830</td>\n",
              "      <td>0.041511</td>\n",
              "      <td>0.012435</td>\n",
              "      <td>-0.035874</td>\n",
              "      <td>0.031259</td>\n",
              "      <td>-0.410677</td>\n",
              "      <td>0.405805</td>\n",
              "      <td>0.135634</td>\n",
              "      <td>0.195877</td>\n",
              "    </tr>\n",
              "    <tr>\n",
              "      <th>4</th>\n",
              "      <td>1</td>\n",
              "      <td>16:30:01</td>\n",
              "      <td>-0.008887</td>\n",
              "      <td>0.014132</td>\n",
              "      <td>0.019267</td>\n",
              "      <td>-0.308298</td>\n",
              "      <td>-0.087261</td>\n",
              "      <td>-0.064895</td>\n",
              "      <td>0.090140</td>\n",
              "      <td>-0.359103</td>\n",
              "      <td>-0.928935</td>\n",
              "      <td>0.096733</td>\n",
              "      <td>0.367306</td>\n",
              "      <td>-0.079410</td>\n",
              "      <td>78.0</td>\n",
              "      <td>On_Phone</td>\n",
              "      <td>0.025493</td>\n",
              "      <td>0.326915</td>\n",
              "      <td>0.587558</td>\n",
              "      <td>-0.270197</td>\n",
              "      <td>-0.367306</td>\n",
              "      <td>0.063829</td>\n",
              "      <td>0.008171</td>\n",
              "      <td>0.012242</td>\n",
              "      <td>-0.153485</td>\n",
              "      <td>0.109850</td>\n",
              "      <td>-0.399299</td>\n",
              "      <td>0.417005</td>\n",
              "      <td>0.128210</td>\n",
              "      <td>0.183724</td>\n",
              "    </tr>\n",
              "  </tbody>\n",
              "</table>\n",
              "</div>"
            ],
            "text/plain": [
              "   ID      Time    Acce_X  ...  std_gravity  mean_rpy   std_rpy\n",
              "0   1  16:30:01  0.020015  ...     0.351324  0.178677  0.254039\n",
              "1   1  16:30:01  0.030446  ...     0.366838  0.164851  0.236531\n",
              "2   1  16:30:01  0.061171  ...     0.386803  0.148702  0.216864\n",
              "3   1  16:30:01  0.035092  ...     0.405805  0.135634  0.195877\n",
              "4   1  16:30:01 -0.008887  ...     0.417005  0.128210  0.183724\n",
              "\n",
              "[5 rows x 30 columns]"
            ]
          },
          "metadata": {
            "tags": []
          },
          "execution_count": 16
        }
      ]
    },
    {
      "cell_type": "code",
      "metadata": {
        "id": "FpHPPqQK2-1Q",
        "colab_type": "code",
        "colab": {}
      },
      "source": [
        "#copy data sets into variables\n",
        "training_set = training_set_eval.copy()\n",
        "validation_set = validation_set_eval.copy()\n",
        "testing_set = testing_set_eval.copy()\n",
        "\n",
        "del(training_set_eval)\n",
        "del(validation_set_eval)\n",
        "del(testing_set_eval)"
      ],
      "execution_count": 0,
      "outputs": []
    },
    {
      "cell_type": "code",
      "metadata": {
        "id": "N08EUzVhHoPn",
        "colab_type": "code",
        "colab": {}
      },
      "source": [
        "#training_set.to_csv('drive/My Drive/Shared folder University/files_project/training_set.csv',index=False)"
      ],
      "execution_count": 0,
      "outputs": []
    },
    {
      "cell_type": "markdown",
      "metadata": {
        "id": "tTVtho5KM_wp",
        "colab_type": "text"
      },
      "source": [
        "#Data visualization"
      ]
    },
    {
      "cell_type": "code",
      "metadata": {
        "id": "oc7oZl2Eco-l",
        "colab_type": "code",
        "outputId": "ad418494-9aff-43e8-a6d0-58557699ff7e",
        "colab": {
          "base_uri": "https://localhost:8080/"
        }
      },
      "source": [
        "# Show how many training examples exist for each of the six activities\n",
        "training_set['Activity'].value_counts().plot(kind='bar', title='Training Examples by Activity Type')\n",
        "plt.show()\n",
        "\n",
        "# Better understand how the recordings are spread across the different\n",
        "# users who participated in the study\n",
        "training_set['ID'].value_counts().plot(kind='bar', title='Training Examples by User')\n",
        "plt.show()"
      ],
      "execution_count": 0,
      "outputs": [
        {
          "output_type": "display_data",
          "data": {
            "image/png": "[encoded data removed]",
            "text/plain": [
              "<Figure size 432x288 with 1 Axes>"
            ]
          },
          "metadata": {
            "tags": []
          }
        },
        {
          "output_type": "display_data",
          "data": {
            "image/png": "[encoded data removed]",
            "text/plain": [
              "<Figure size 432x288 with 1 Axes>"
            ]
          },
          "metadata": {
            "tags": []
          }
        }
      ]
    },
    {
      "cell_type": "code",
      "metadata": {
        "id": "fVsefq54UQm5",
        "colab_type": "code",
        "colab": {}
      },
      "source": [
        "def plot_activity(activity, data):\n",
        "    fig, (ax0,ax1,ax2,ax3,ax4,ax5,ax6) = plt.subplots(nrows=7,\n",
        "         figsize=(15, 10),\n",
        "         sharex=True)\n",
        "    plot_axis(ax0, data['Time'], data['Acce_X'], 'Acc-X-Axis')\n",
        "    plot_axis(ax1, data['Time'], data['Acce_Y'], 'Acc-Y-Axis')\n",
        "    plot_axis(ax2, data['Time'], data['Acce_Z'], 'Acc-Z-Axis')\n",
        "    plot_axis(ax3, data['Time'], data['Gyro_X'], 'Gyro-X-Axis')\n",
        "    plot_axis(ax4, data['Time'], data['Gyro_Y'], 'Gyro-Y-Axis')\n",
        "    plot_axis(ax5, data['Time'], data['Gyro_Z'], 'Gyro-Z-Axis')\n",
        "    plot_axis(ax6, data['Time'], data['Heart_Rate'], 'Heart Rate')\n",
        "    plt.subplots_adjust(hspace=0.2)\n",
        "    fig.suptitle(activity)\n",
        "    plt.subplots_adjust(top=0.9)\n",
        "    plt.show()"
      ],
      "execution_count": 0,
      "outputs": []
    },
    {
      "cell_type": "code",
      "metadata": {
        "id": "Ws1AE5hhmQfn",
        "colab_type": "code",
        "colab": {}
      },
      "source": [
        "def plot_axis(ax, x, y, title):\n",
        "    ax.plot(x, y, 'r')\n",
        "    ax.set_title(title)\n",
        "    ax.xaxis.set_visible(False)\n",
        "    ax.set_ylim([min(y) - np.std(y), max(y) + np.std(y)])\n",
        "    ax.set_xlim([min(x), max(x)])\n",
        "    ax.grid(True)"
      ],
      "execution_count": 0,
      "outputs": []
    },
    {
      "cell_type": "code",
      "metadata": {
        "id": "RxFlpGKemTog",
        "colab_type": "code",
        "outputId": "cbe98dec-a533-4d2f-bc12-4ae58e62b3f6",
        "colab": {
          "base_uri": "https://localhost:8080/"
        }
      },
      "source": [
        "subset = training_set[:6000]\n",
        "plot_activity('activity', subset)"
      ],
      "execution_count": 0,
      "outputs": [
        {
          "output_type": "display_data",
          "data": {
            "image/png": "[encoded data removed]",
            "text/plain": [
              "<Figure size 1080x720 with 7 Axes>"
            ]
          },
          "metadata": {
            "tags": []
          }
        }
      ]
    },
    {
      "cell_type": "markdown",
      "metadata": {
        "id": "AsofXveNN5JC",
        "colab_type": "text"
      },
      "source": [
        "#Activity Encoder"
      ]
    },
    {
      "cell_type": "code",
      "metadata": {
        "id": "CzaotmlpjdYI",
        "colab_type": "code",
        "colab": {}
      },
      "source": [
        "def create_activity_encoded(data_set, le_set):\n",
        "    # Define column name of the label vector\n",
        "    LABEL = 'ActivityEncoded'\n",
        "    # Add a new column to the existing DataFrame with the encoded values\n",
        "    data_set[LABEL] = le_set.fit_transform(data_set['Activity'].values.ravel())\n",
        "    data_set.drop('Activity', axis=1,inplace = True)\n",
        "    data_set.drop('Time', axis=1,inplace = True)\n",
        "\n",
        "    '''\n",
        "    #You need this to get back the real label\n",
        "    analyze_data[LABEL] = le_set.inverse_transform(analyze_data[LABEL].values.ravel())\n",
        "    print(analyze_data)\n",
        "    '''"
      ],
      "execution_count": 0,
      "outputs": []
    },
    {
      "cell_type": "code",
      "metadata": {
        "id": "qfjmdSetjx4G",
        "colab_type": "code",
        "colab": {}
      },
      "source": [
        "# Transform the labels from String to Integer via LabelEncoder\n",
        "le_activity = preprocessing.LabelEncoder()\n",
        "#le_validation_activity = preprocessing.LabelEncoder()\n",
        "#le_testing_activity = preprocessing.LabelEncoder()\n",
        "\n",
        "\n",
        "create_activity_encoded(training_set, le_activity)\n",
        "create_activity_encoded(validation_set, le_activity)\n",
        "create_activity_encoded(testing_set, le_activity)"
      ],
      "execution_count": 0,
      "outputs": []
    },
    {
      "cell_type": "code",
      "metadata": {
        "id": "XPFgrKmJlTL_",
        "colab_type": "code",
        "outputId": "c8ebdd17-bc4f-4235-a12d-96936905d70a",
        "colab": {
          "base_uri": "https://localhost:8080/"
        }
      },
      "source": [
        "'''\n",
        "def create_time_encoded(data_set, le_set):\n",
        "    # Add a new column to the existing DataFrame with the encoded values\n",
        "    data_set['Time_Stamp'] = le_set.fit_transform(data_set['Time'].values.ravel())\n",
        "    data_set = data_set.drop('Time', axis=1, inplace = True)\n",
        "\n",
        "    \n",
        "    #You need this to get back the real label\n",
        "    data_set[LABEL] = le_set.inverse_transform(data_set[LABEL].values.ravel())\n",
        "    print(data_set)\n",
        "    \n",
        "'''"
      ],
      "execution_count": 0,
      "outputs": [
        {
          "output_type": "execute_result",
          "data": {
            "text/plain": [
              "\"\\ndef create_time_encoded(data_set, le_set):\\n    # Add a new column to the existing DataFrame with the encoded values\\n    data_set['Time_Stamp'] = le_set.fit_transform(data_set['Time'].values.ravel())\\n    data_set = data_set.drop('Time', axis=1, inplace = True)\\n\\n    \\n    #You need this to get back the real label\\n    data_set[LABEL] = le_set.inverse_transform(data_set[LABEL].values.ravel())\\n    print(data_set)\\n    \\n\""
            ]
          },
          "metadata": {
            "tags": []
          },
          "execution_count": 25
        }
      ]
    },
    {
      "cell_type": "code",
      "metadata": {
        "id": "Dk35SjaClTFV",
        "colab_type": "code",
        "outputId": "deb9b2c7-7e3b-493a-e1e4-5131356874fa",
        "colab": {
          "base_uri": "https://localhost:8080/"
        }
      },
      "source": [
        "'''\n",
        "# Transform the time from String to Integer via LabelEncoder\n",
        "#le_training_time = preprocessing.LabelEncoder()\n",
        "#le_validation_time = preprocessing.LabelEncoder()\n",
        "#le_testing_time = preprocessing.LabelEncoder()\n",
        "le_time = preprocessing.LabelEncoder()\n",
        "\n",
        "create_time_encoded(training_set,le_time)\n",
        "create_time_encoded(validation_set,le_time)\n",
        "create_time_encoded(testing_set,le_time)\n",
        "'''"
      ],
      "execution_count": 0,
      "outputs": [
        {
          "output_type": "execute_result",
          "data": {
            "text/plain": [
              "'\\n# Transform the time from String to Integer via LabelEncoder\\n#le_training_time = preprocessing.LabelEncoder()\\n#le_validation_time = preprocessing.LabelEncoder()\\n#le_testing_time = preprocessing.LabelEncoder()\\nle_time = preprocessing.LabelEncoder()\\n\\ncreate_time_encoded(training_set,le_time)\\ncreate_time_encoded(validation_set,le_time)\\ncreate_time_encoded(testing_set,le_time)\\n'"
            ]
          },
          "metadata": {
            "tags": []
          },
          "execution_count": 26
        }
      ]
    },
    {
      "cell_type": "markdown",
      "metadata": {
        "id": "2-MDjqbj0ALi",
        "colab_type": "text"
      },
      "source": [
        "#Normalize And Standardize Time Series Data\n",
        "\n"
      ]
    },
    {
      "cell_type": "markdown",
      "metadata": {
        "id": "xciXJEWZXMAn",
        "colab_type": "text"
      },
      "source": [
        "we rescaling the data from original so the vaules are within range of 0 to 1\n",
        "\n",
        "y  = (x - mean) / std\n",
        "\n",
        "y = ( x - min) / (max - min)"
      ]
    },
    {
      "cell_type": "code",
      "metadata": {
        "id": "wFypmi9YuCel",
        "colab_type": "code",
        "outputId": "dadcb435-b505-49f0-be12-ebfbf74d37d3",
        "colab": {
          "base_uri": "https://localhost:8080/"
        }
      },
      "source": [
        "for column in training_set.columns[1:28]:\n",
        "    print(column)"
      ],
      "execution_count": 0,
      "outputs": [
        {
          "output_type": "stream",
          "text": [
            "Acce_X\n",
            "Acce_Y\n",
            "Acce_Z\n",
            "Gyro_X\n",
            "Gyro_Y\n",
            "Gyro_Z\n",
            "Gravity_X\n",
            "Gravity_Y\n",
            "Gravity_Z\n",
            "Roll\n",
            "Pitch\n",
            "Yaw\n",
            "Heart_Rate\n",
            "length_acce\n",
            "length_gyro\n",
            "direction_acce\n",
            "direction_gyro\n",
            "direction_gravity\n",
            "gyro_along_gravity\n",
            "mean_acce\n",
            "std_acce\n",
            "mean_gyro\n",
            "std_gyro\n",
            "mean_gravity\n",
            "std_gravity\n",
            "mean_rpy\n",
            "std_rpy\n"
          ],
          "name": "stdout"
        }
      ]
    },
    {
      "cell_type": "code",
      "metadata": {
        "id": "btdi95zxocLh",
        "colab_type": "code",
        "colab": {}
      },
      "source": [
        "\n",
        "#go over the colunms in pd and do normalization and standardiztion\n",
        "for column in training_set.columns[1:28]:\n",
        "  training_set[column] = (training_set[column] - np.mean(training_set[column]))/(np.std(training_set[column]))\n",
        "  #training_set[column] = (training_set[column] - min(training_set[column])) / (max(training_set[column]) - min(training_set[column]))\n",
        "  #3 digits in decimal\n",
        "  #training_set = round(training_set,3)\n"
      ],
      "execution_count": 0,
      "outputs": []
    },
    {
      "cell_type": "code",
      "metadata": {
        "id": "iu-33mtGocDa",
        "colab_type": "code",
        "colab": {}
      },
      "source": [
        "\n",
        "#go over the colunms in pd and do normalization and standardiztion\n",
        "for column in validation_set.columns[1:28]:\n",
        "  validation_set[column] = (validation_set[column] - np.mean(validation_set[column]))/(np.std(validation_set[column]))\n",
        "  #validation_set[column] = (validation_set[column] - min(validation_set[column])) / (max(validation_set[column]) - min(validation_set[column]))\n",
        "  #3 digits in decimal\n",
        "  #validation_set = round(validation_set,3)\n"
      ],
      "execution_count": 0,
      "outputs": []
    },
    {
      "cell_type": "code",
      "metadata": {
        "id": "KMO8nnDaob59",
        "colab_type": "code",
        "colab": {}
      },
      "source": [
        "\n",
        "#go over the colunms in pd and do normalization and standardiztion\n",
        "for column in testing_set.columns[1:28]:\n",
        "  testing_set[column] = (testing_set[column] - np.mean(testing_set[column]))/(np.std(testing_set[column]))\n",
        "  #testing_set[column] = (testing_set[column] - min(testing_set[column])) / (max(testing_set[column]) - min(testing_set[column]))\n",
        "  #3 digits in decimal\n",
        "  #testing_set = round(testing_set,3)\n"
      ],
      "execution_count": 0,
      "outputs": []
    },
    {
      "cell_type": "markdown",
      "metadata": {
        "id": "l-iY5tMSPK6N",
        "colab_type": "text"
      },
      "source": [
        "#Divide into segments"
      ]
    },
    {
      "cell_type": "markdown",
      "metadata": {
        "id": "xspB8s5I53y7",
        "colab_type": "text"
      },
      "source": [
        "This function will create segments and for each segment will attaced the most significant label \n",
        "\n",
        "the size of the segment is SEGMANT_SIZE\n",
        "the size of which we moving from sgement to segment is STEP_DISTANCE\n",
        "\n"
      ]
    },
    {
      "cell_type": "code",
      "metadata": {
        "id": "pOQ74U2D7J2a",
        "colab_type": "code",
        "colab": {}
      },
      "source": [
        "def create_segments_and_labels(df, segmant_size, step, label_name):\n",
        "    # sensors as features\n",
        "    N_FEATURES = 27\n",
        "    # Number of steps to advance in each iteration (for me, it should always\n",
        "    # be equal to the segmant_size in order to have no overlap between segments)\n",
        "    # step = segmant_size\n",
        "    segments = []\n",
        "    labels = []\n",
        "    for i in range(0, len(df) - segmant_size, step):\n",
        "      append_segments = list(map(lambda row: df.iloc[row].values[1:28],range(i, i+segmant_size)))\n",
        "      segments.append(append_segments)\n",
        "      label = stats.mode(df[label_name][i: i + segmant_size])[0][0]\n",
        "      labels.append(label)\n",
        "    \n",
        "    np_segments = np.asarray(segments, dtype= np.float32).reshape(-1, segmant_size, N_FEATURES)\n",
        "    np_labels = np.asarray(labels)\n",
        "    return np_segments, np_labels"
      ],
      "execution_count": 0,
      "outputs": []
    },
    {
      "cell_type": "code",
      "metadata": {
        "id": "HcYzhba04a3e",
        "colab_type": "code",
        "colab": {}
      },
      "source": [
        "SEGMANT_SIZE = 40\n",
        "STEP_DISTANCE = 10\n",
        "LABEL = 'ActivityEncoded'\n",
        "\n",
        "x_train, y_train = create_segments_and_labels(training_set, SEGMANT_SIZE, STEP_DISTANCE, LABEL)\n",
        "x_validation, y_validation =  create_segments_and_labels(validation_set, SEGMANT_SIZE, STEP_DISTANCE, LABEL)"
      ],
      "execution_count": 0,
      "outputs": []
    },
    {
      "cell_type": "markdown",
      "metadata": {
        "id": "B1FDppeJP9xj",
        "colab_type": "text"
      },
      "source": [
        "#Training and validation data after divided into segments"
      ]
    },
    {
      "cell_type": "code",
      "metadata": {
        "id": "5OKu34Xs0rkK",
        "colab_type": "code",
        "outputId": "83c84645-42d4-4b42-e85d-8ec4f3de8455",
        "colab": {
          "base_uri": "https://localhost:8080/"
        }
      },
      "source": [
        "print(len(training_set))\n",
        "print('x_train shape: ', x_train.shape)\n",
        "print(x_train.shape[0], 'training samples')\n",
        "print('y_train shape: ', y_train.shape)"
      ],
      "execution_count": 0,
      "outputs": [
        {
          "output_type": "stream",
          "text": [
            "73885\n",
            "x_train shape:  (7385, 40, 27)\n",
            "7385 training samples\n",
            "y_train shape:  (7385,)\n"
          ],
          "name": "stdout"
        }
      ]
    },
    {
      "cell_type": "code",
      "metadata": {
        "id": "QJcBasUCqVmS",
        "colab_type": "code",
        "outputId": "39f26f98-c48d-48d1-bf7c-a3a33fc64833",
        "colab": {
          "base_uri": "https://localhost:8080/"
        }
      },
      "source": [
        "print(len(validation_set))\n",
        "print('x_validation shape: ', x_validation.shape)\n",
        "print(x_validation.shape[0], 'training samples')\n",
        "print('y_validation shape: ', y_validation.shape)"
      ],
      "execution_count": 0,
      "outputs": [
        {
          "output_type": "stream",
          "text": [
            "24560\n",
            "x_validation shape:  (2452, 40, 27)\n",
            "2452 training samples\n",
            "y_validation shape:  (2452,)\n"
          ],
          "name": "stdout"
        }
      ]
    },
    {
      "cell_type": "code",
      "metadata": {
        "id": "OVWvMXgR19tR",
        "colab_type": "code",
        "outputId": "5cfd6cee-98c8-478b-b864-1dd6f0c2f86b",
        "colab": {
          "base_uri": "https://localhost:8080/"
        }
      },
      "source": [
        "# Set input & output dimensions\n",
        "num_time_periods, num_sensors = x_train.shape[1], x_train.shape[2]\n",
        "num_classes = le_activity.classes_.size\n",
        "print(list(le_activity.classes_))"
      ],
      "execution_count": 0,
      "outputs": [
        {
          "output_type": "stream",
          "text": [
            "['Drinking', 'Eating', 'On_Computer', 'On_Phone']\n"
          ],
          "name": "stdout"
        }
      ]
    },
    {
      "cell_type": "code",
      "metadata": {
        "id": "D0pkufxC-hLM",
        "colab_type": "code",
        "outputId": "5943c905-c399-4635-b6c7-6983eb11625c",
        "colab": {
          "base_uri": "https://localhost:8080/"
        }
      },
      "source": [
        "input_shape = (num_time_periods*num_sensors)\n",
        "x_train = x_train.reshape(x_train.shape[0], input_shape)\n",
        "print('x_train shape:', x_train.shape)\n",
        "print('input_shape:', input_shape)"
      ],
      "execution_count": 0,
      "outputs": [
        {
          "output_type": "stream",
          "text": [
            "x_train shape: (7385, 1080)\n",
            "input_shape: 1080\n"
          ],
          "name": "stdout"
        }
      ]
    },
    {
      "cell_type": "code",
      "metadata": {
        "id": "RYVInCUrqqxM",
        "colab_type": "code",
        "outputId": "dc3edf3b-237c-4e5d-bb36-26ced2667d17",
        "colab": {
          "base_uri": "https://localhost:8080/"
        }
      },
      "source": [
        "x_validation = x_validation.reshape(x_validation.shape[0], input_shape)\n",
        "print('x_validation shape:', x_validation.shape)\n",
        "print('input_shape_validation:', input_shape)"
      ],
      "execution_count": 0,
      "outputs": [
        {
          "output_type": "stream",
          "text": [
            "x_validation shape: (2452, 1080)\n",
            "input_shape_validation: 1080\n"
          ],
          "name": "stdout"
        }
      ]
    },
    {
      "cell_type": "code",
      "metadata": {
        "id": "q74kCnYe_J2L",
        "colab_type": "code",
        "colab": {}
      },
      "source": [
        "x_train = x_train.astype('float32')\n",
        "y_train = y_train.astype('float32')\n",
        "x_validation = x_validation.astype('float32')\n",
        "y_validation = y_validation.astype('float32')"
      ],
      "execution_count": 0,
      "outputs": []
    },
    {
      "cell_type": "code",
      "metadata": {
        "id": "H-pnZaBz_XVI",
        "colab_type": "code",
        "outputId": "03486862-e596-4941-90ea-513423368055",
        "colab": {
          "base_uri": "https://localhost:8080/"
        }
      },
      "source": [
        "y_train_hot_encoding = np_utils.to_categorical(y_train, num_classes)\n",
        "print('New y_train shape: ', y_train_hot_encoding.shape)"
      ],
      "execution_count": 0,
      "outputs": [
        {
          "output_type": "stream",
          "text": [
            "New y_train shape:  (7385, 4)\n"
          ],
          "name": "stdout"
        }
      ]
    },
    {
      "cell_type": "code",
      "metadata": {
        "id": "RFtQE_c_rMvE",
        "colab_type": "code",
        "outputId": "75525ff8-fce8-413a-d938-784434d576d7",
        "colab": {
          "base_uri": "https://localhost:8080/"
        }
      },
      "source": [
        "y_validation_hot_encoding = np_utils.to_categorical(y_validation, num_classes)\n",
        "print('New y_validation shape: ', y_validation_hot_encoding.shape)"
      ],
      "execution_count": 0,
      "outputs": [
        {
          "output_type": "stream",
          "text": [
            "New y_validation shape:  (2452, 4)\n"
          ],
          "name": "stdout"
        }
      ]
    },
    {
      "cell_type": "markdown",
      "metadata": {
        "id": "-FNo7dLgV-J5",
        "colab_type": "text"
      },
      "source": [
        "#Divide test data into segments"
      ]
    },
    {
      "cell_type": "code",
      "metadata": {
        "id": "bhYY33cJWKX1",
        "colab_type": "code",
        "colab": {}
      },
      "source": [
        "x_test, y_test = create_segments_and_labels(testing_set, SEGMANT_SIZE, STEP_DISTANCE, LABEL)"
      ],
      "execution_count": 0,
      "outputs": []
    },
    {
      "cell_type": "code",
      "metadata": {
        "id": "JckJ6SQBWOG_",
        "colab_type": "code",
        "outputId": "58224ca4-e404-44fb-81da-7c7f0a5ae97e",
        "colab": {
          "base_uri": "https://localhost:8080/"
        }
      },
      "source": [
        "print(len(testing_set))\n",
        "print('x_test shape: ', x_test.shape)\n",
        "print(x_test.shape[0], 'training samples')\n",
        "print('y_test shape: ', y_test.shape)"
      ],
      "execution_count": 0,
      "outputs": [
        {
          "output_type": "stream",
          "text": [
            "24547\n",
            "x_test shape:  (2451, 40, 27)\n",
            "2451 training samples\n",
            "y_test shape:  (2451,)\n"
          ],
          "name": "stdout"
        }
      ]
    },
    {
      "cell_type": "code",
      "metadata": {
        "id": "I56Rc0-RWPZi",
        "colab_type": "code",
        "outputId": "db5a7bbc-a471-4575-9d6c-1904ddf3720e",
        "colab": {
          "base_uri": "https://localhost:8080/"
        }
      },
      "source": [
        "x_test = x_test.reshape(x_test.shape[0], input_shape)\n",
        "print('x_test shape:', x_test.shape)\n",
        "print('input_shape_test:', input_shape)"
      ],
      "execution_count": 0,
      "outputs": [
        {
          "output_type": "stream",
          "text": [
            "x_test shape: (2451, 1080)\n",
            "input_shape_test: 1080\n"
          ],
          "name": "stdout"
        }
      ]
    },
    {
      "cell_type": "code",
      "metadata": {
        "id": "nZyLzjtIWRNK",
        "colab_type": "code",
        "colab": {}
      },
      "source": [
        "x_test = x_test.astype('float32')\n",
        "y_test = y_test.astype('float32')"
      ],
      "execution_count": 0,
      "outputs": []
    },
    {
      "cell_type": "code",
      "metadata": {
        "id": "F3TY_qjWWSuw",
        "colab_type": "code",
        "colab": {}
      },
      "source": [
        "#y_test_hot_encoding = np_utils.to_categorical(y_test, num_classes)\n",
        "#print('New y_test shape: ', y_test_hot_encoding.shape)"
      ],
      "execution_count": 0,
      "outputs": []
    },
    {
      "cell_type": "markdown",
      "metadata": {
        "id": "8KQLycKnXtSc",
        "colab_type": "text"
      },
      "source": [
        "#ML approch"
      ]
    },
    {
      "cell_type": "code",
      "metadata": {
        "id": "JJ7tPt3gQkDo",
        "colab_type": "code",
        "colab": {}
      },
      "source": [
        "# spot check ml algorithms on engineered-features from the har dataset\n",
        "from pandas import read_csv\n",
        "from sklearn.ensemble import RandomForestClassifier\n",
        "from xgboost import XGBClassifier"
      ],
      "execution_count": 0,
      "outputs": []
    },
    {
      "cell_type": "markdown",
      "metadata": {
        "id": "slFliZ53YJID",
        "colab_type": "text"
      },
      "source": [
        "#Random Forest Classifier"
      ]
    },
    {
      "cell_type": "code",
      "metadata": {
        "id": "J4m1zbVHir76",
        "colab_type": "code",
        "outputId": "f4241b17-f513-46d5-f100-79cdda5ba28d",
        "colab": {
          "base_uri": "https://localhost:8080/",
          "height": 147
        }
      },
      "source": [
        "rf_model = RandomForestClassifier(n_estimators=100)\n",
        "rf_model.fit(x_train, y_train)"
      ],
      "execution_count": 0,
      "outputs": [
        {
          "output_type": "execute_result",
          "data": {
            "text/plain": [
              "RandomForestClassifier(bootstrap=True, class_weight=None, criterion='gini',\n",
              "                       max_depth=None, max_features='auto', max_leaf_nodes=None,\n",
              "                       min_impurity_decrease=0.0, min_impurity_split=None,\n",
              "                       min_samples_leaf=1, min_samples_split=2,\n",
              "                       min_weight_fraction_leaf=0.0, n_estimators=100,\n",
              "                       n_jobs=None, oob_score=False, random_state=None,\n",
              "                       verbose=0, warm_start=False)"
            ]
          },
          "metadata": {
            "tags": []
          },
          "execution_count": 47
        }
      ]
    },
    {
      "cell_type": "code",
      "metadata": {
        "id": "uwp3-EiK6P3l",
        "colab_type": "code",
        "outputId": "dfbd1a6f-a9fa-4d98-ec50-6da0674a39f6",
        "colab": {
          "base_uri": "https://localhost:8080/",
          "height": 241
        }
      },
      "source": [
        "print(\"Random Forest Classifier model accuracy on test set is : {0:.3f}%\".format(rf_model.score(x_test, y_test)*100))\n",
        "rf_model_y_test_pred = rf_model.predict(x_test)\n",
        "print(classification_report(y_test, rf_model_y_test_pred))"
      ],
      "execution_count": 0,
      "outputs": [
        {
          "output_type": "stream",
          "text": [
            "Random Forest Classifier model accuracy on test set is : 70.012%\n",
            "              precision    recall  f1-score   support\n",
            "\n",
            "         0.0       0.64      0.62      0.63       617\n",
            "         1.0       0.77      0.81      0.79       612\n",
            "         2.0       0.78      0.75      0.76       612\n",
            "         3.0       0.61      0.62      0.62       610\n",
            "\n",
            "    accuracy                           0.70      2451\n",
            "   macro avg       0.70      0.70      0.70      2451\n",
            "weighted avg       0.70      0.70      0.70      2451\n",
            "\n"
          ],
          "name": "stdout"
        }
      ]
    },
    {
      "cell_type": "code",
      "metadata": {
        "id": "t3bHvfvwkKsh",
        "colab_type": "code",
        "outputId": "377eb497-2e11-43cb-df3c-1ddf0c71aa5e",
        "colab": {
          "base_uri": "https://localhost:8080/",
          "height": 315
        }
      },
      "source": [
        "sns.heatmap(confusion_matrix(y_test, rf_model_y_test_pred),cmap='Greens',annot=True, fmt='d',\n",
        "           xticklabels=list(le_activity.classes_), yticklabels=list(le_activity.classes_))\n",
        "plt.xlabel('Prediction')\n",
        "plt.ylabel('True label')\n",
        "plt.title('Random Forest Classifier model classification results on validation set')"
      ],
      "execution_count": 0,
      "outputs": [
        {
          "output_type": "execute_result",
          "data": {
            "text/plain": [
              "Text(0.5, 1.0, 'Random Forest Classifier model classification results on validation set')"
            ]
          },
          "metadata": {
            "tags": []
          },
          "execution_count": 49
        },
        {
          "output_type": "display_data",
          "data": {
            "image/png": "[encoded data removed]",
            "text/plain": [
              "<Figure size 432x288 with 2 Axes>"
            ]
          },
          "metadata": {
            "tags": []
          }
        }
      ]
    },
    {
      "cell_type": "markdown",
      "metadata": {
        "id": "B5m0RxqHQFtr",
        "colab_type": "text"
      },
      "source": [
        "#XGBoost Classifier"
      ]
    },
    {
      "cell_type": "code",
      "metadata": {
        "id": "ffoiUD1fP13J",
        "colab_type": "code",
        "outputId": "4da913b2-5f30-4971-e0ae-6655538addb9",
        "colab": {
          "base_uri": "https://localhost:8080/",
          "height": 147
        }
      },
      "source": [
        "# fit model no training data\n",
        "xgboost_model = XGBClassifier()\n",
        "xgboost_model.fit(x_train, y_train)"
      ],
      "execution_count": 0,
      "outputs": [
        {
          "output_type": "execute_result",
          "data": {
            "text/plain": [
              "XGBClassifier(base_score=0.5, booster='gbtree', colsample_bylevel=1,\n",
              "              colsample_bynode=1, colsample_bytree=1, gamma=0,\n",
              "              learning_rate=0.1, max_delta_step=0, max_depth=3,\n",
              "              min_child_weight=1, missing=None, n_estimators=100, n_jobs=1,\n",
              "              nthread=None, objective='multi:softprob', random_state=0,\n",
              "              reg_alpha=0, reg_lambda=1, scale_pos_weight=1, seed=None,\n",
              "              silent=None, subsample=1, verbosity=1)"
            ]
          },
          "metadata": {
            "tags": []
          },
          "execution_count": 50
        }
      ]
    },
    {
      "cell_type": "code",
      "metadata": {
        "id": "ws_pJ-uxQSJA",
        "colab_type": "code",
        "outputId": "8cf6c7ef-0b56-46c2-85d6-a6f7b958e199",
        "colab": {
          "base_uri": "https://localhost:8080/",
          "height": 241
        }
      },
      "source": [
        "print(\"XGBoost Classifier model accuracy on test set is : {0:.3f}%\".format(xgboost_model.score(x_test, y_test)*100))\n",
        "xgboost_model_y_test_pred = xgboost_model.predict(x_test)\n",
        "print(classification_report(y_test, xgboost_model_y_test_pred))"
      ],
      "execution_count": 0,
      "outputs": [
        {
          "output_type": "stream",
          "text": [
            "XGBoost Classifier model accuracy on test set is : 69.319%\n",
            "              precision    recall  f1-score   support\n",
            "\n",
            "         0.0       0.59      0.55      0.57       617\n",
            "         1.0       0.78      0.79      0.79       612\n",
            "         2.0       0.83      0.79      0.81       612\n",
            "         3.0       0.58      0.64      0.61       610\n",
            "\n",
            "    accuracy                           0.69      2451\n",
            "   macro avg       0.70      0.69      0.69      2451\n",
            "weighted avg       0.70      0.69      0.69      2451\n",
            "\n"
          ],
          "name": "stdout"
        }
      ]
    },
    {
      "cell_type": "code",
      "metadata": {
        "id": "J7Jk36yoQSDP",
        "colab_type": "code",
        "outputId": "002eae27-01b1-4cc3-b629-2796af72020d",
        "colab": {
          "base_uri": "https://localhost:8080/",
          "height": 315
        }
      },
      "source": [
        "sns.heatmap(confusion_matrix(y_test, xgboost_model_y_test_pred),cmap='Greens',annot=True, fmt='d',\n",
        "           xticklabels=list(le_activity.classes_), yticklabels=list(le_activity.classes_))\n",
        "plt.xlabel('Prediction')\n",
        "plt.ylabel('True label')\n",
        "plt.title('XGBoost Classifier model classification results on validation set')"
      ],
      "execution_count": 0,
      "outputs": [
        {
          "output_type": "execute_result",
          "data": {
            "text/plain": [
              "Text(0.5, 1.0, 'XGBoost Classifier model classification results on validation set')"
            ]
          },
          "metadata": {
            "tags": []
          },
          "execution_count": 90
        },
        {
          "output_type": "display_data",
          "data": {
            "image/png": "[encoded data removed]",
            "text/plain": [
              "<Figure size 432x288 with 2 Axes>"
            ]
          },
          "metadata": {
            "tags": []
          }
        }
      ]
    },
    {
      "cell_type": "markdown",
      "metadata": {
        "id": "ByB7OnW6X0X0",
        "colab_type": "text"
      },
      "source": [
        "#DL approch"
      ]
    },
    {
      "cell_type": "markdown",
      "metadata": {
        "id": "Sa1zlHpJSMiZ",
        "colab_type": "text"
      },
      "source": [
        "#LSTM model"
      ]
    },
    {
      "cell_type": "code",
      "metadata": {
        "id": "ZgP17VABAjay",
        "colab_type": "code",
        "colab": {}
      },
      "source": [
        "# fit and evaluate a model\n",
        "def evaluate_lstm_model(trainX, trainy, valX, valy):\n",
        "  verbose, epochs, batch_size = 1, 200, 128\n",
        "  n_features, n_outputs = 27, 4\n",
        "  model = Sequential()  \n",
        "  model.add(Reshape((SEGMANT_SIZE, n_features), input_shape=(input_shape,)))\n",
        "  model.add(BatchNormalization())\n",
        "  model.add(LSTM(10, recurrent_dropout=0.15, activation='relu'))  \n",
        "  model.add(BatchNormalization())\n",
        "  model.add(Dropout(0.25))\n",
        "  model.add(Dense(10, activation='relu'))\n",
        "  model.add(BatchNormalization())\n",
        "  model.add(Dropout(0.2))\n",
        "  model.add(Dense(num_classes, activation='softmax'))\n",
        "  print(model.summary())\n",
        "  model.compile(loss='categorical_crossentropy', optimizer='adam', metrics=['accuracy'])\n",
        "  # fit network\n",
        "  history = model.fit(trainX, trainy, validation_data=(valX, valy), epochs=epochs, batch_size=batch_size, verbose=verbose)\n",
        "  return model, history"
      ],
      "execution_count": 0,
      "outputs": []
    },
    {
      "cell_type": "code",
      "metadata": {
        "id": "7Ef7JTlJt_Sv",
        "colab_type": "code",
        "outputId": "ad2125cd-cf8e-4bb2-c464-0aa609d0e60a",
        "colab": {
          "base_uri": "https://localhost:8080/",
          "height": 7924
        }
      },
      "source": [
        "lstm_model, lstm_history = evaluate_lstm_model(x_train, y_train_hot_encoding, x_validation, y_validation_hot_encoding)"
      ],
      "execution_count": 0,
      "outputs": [
        {
          "output_type": "stream",
          "text": [
            "_________________________________________________________________\n",
            "Layer (type)                 Output Shape              Param #   \n",
            "=================================================================\n",
            "reshape_4 (Reshape)          (None, 40, 27)            0         \n",
            "_________________________________________________________________\n",
            "batch_normalization_9 (Batch (None, 40, 27)            108       \n",
            "_________________________________________________________________\n",
            "lstm_4 (LSTM)                (None, 10)                1520      \n",
            "_________________________________________________________________\n",
            "batch_normalization_10 (Batc (None, 10)                40        \n",
            "_________________________________________________________________\n",
            "dropout_7 (Dropout)          (None, 10)                0         \n",
            "_________________________________________________________________\n",
            "dense_7 (Dense)              (None, 10)                110       \n",
            "_________________________________________________________________\n",
            "batch_normalization_11 (Batc (None, 10)                40        \n",
            "_________________________________________________________________\n",
            "dropout_8 (Dropout)          (None, 10)                0         \n",
            "_________________________________________________________________\n",
            "dense_8 (Dense)              (None, 4)                 44        \n",
            "=================================================================\n",
            "Total params: 1,862\n",
            "Trainable params: 1,768\n",
            "Non-trainable params: 94\n",
            "_________________________________________________________________\n",
            "None\n",
            "Train on 7385 samples, validate on 2452 samples\n",
            "Epoch 1/200\n",
            "7385/7385 [==============================] - 12s 2ms/step - loss: 1.5752 - acc: 0.2947 - val_loss: 1.2770 - val_acc: 0.3679\n",
            "Epoch 2/200\n",
            "7385/7385 [==============================] - 8s 1ms/step - loss: 1.3558 - acc: 0.3881 - val_loss: 1.1723 - val_acc: 0.5049\n",
            "Epoch 3/200\n",
            "7385/7385 [==============================] - 9s 1ms/step - loss: 1.2379 - acc: 0.4508 - val_loss: 1.0966 - val_acc: 0.5583\n",
            "Epoch 4/200\n",
            "7385/7385 [==============================] - 9s 1ms/step - loss: 1.1468 - acc: 0.4994 - val_loss: 1.0385 - val_acc: 0.5832\n",
            "Epoch 5/200\n",
            "7385/7385 [==============================] - 9s 1ms/step - loss: 1.0907 - acc: 0.5301 - val_loss: 0.9753 - val_acc: 0.6187\n",
            "Epoch 6/200\n",
            "7385/7385 [==============================] - 9s 1ms/step - loss: 1.0430 - acc: 0.5655 - val_loss: 0.9487 - val_acc: 0.6374\n",
            "Epoch 7/200\n",
            "7385/7385 [==============================] - 9s 1ms/step - loss: 0.9772 - acc: 0.5984 - val_loss: 0.8981 - val_acc: 0.6529\n",
            "Epoch 8/200\n",
            "7385/7385 [==============================] - 8s 1ms/step - loss: 0.9401 - acc: 0.6131 - val_loss: 0.8773 - val_acc: 0.6550\n",
            "Epoch 9/200\n",
            "7385/7385 [==============================] - 8s 1ms/step - loss: 0.9073 - acc: 0.6206 - val_loss: 0.8728 - val_acc: 0.6595\n",
            "Epoch 10/200\n",
            "7385/7385 [==============================] - 8s 1ms/step - loss: 0.8878 - acc: 0.6379 - val_loss: 0.8260 - val_acc: 0.6737\n",
            "Epoch 11/200\n",
            "7385/7385 [==============================] - 8s 1ms/step - loss: 0.8578 - acc: 0.6512 - val_loss: 0.8088 - val_acc: 0.6790\n",
            "Epoch 12/200\n",
            "7385/7385 [==============================] - 9s 1ms/step - loss: 0.8354 - acc: 0.6661 - val_loss: 0.7924 - val_acc: 0.6864\n",
            "Epoch 13/200\n",
            "7385/7385 [==============================] - 9s 1ms/step - loss: 0.8240 - acc: 0.6685 - val_loss: 0.7892 - val_acc: 0.6909\n",
            "Epoch 14/200\n",
            "7385/7385 [==============================] - 8s 1ms/step - loss: 0.8126 - acc: 0.6775 - val_loss: 0.7672 - val_acc: 0.6954\n",
            "Epoch 15/200\n",
            "7385/7385 [==============================] - 8s 1ms/step - loss: 0.7880 - acc: 0.6871 - val_loss: 0.7722 - val_acc: 0.6929\n",
            "Epoch 16/200\n",
            "7385/7385 [==============================] - 8s 1ms/step - loss: 0.7868 - acc: 0.6890 - val_loss: 0.7739 - val_acc: 0.6962\n",
            "Epoch 17/200\n",
            "7385/7385 [==============================] - 9s 1ms/step - loss: 0.7766 - acc: 0.6925 - val_loss: 0.7520 - val_acc: 0.7019\n",
            "Epoch 18/200\n",
            "7385/7385 [==============================] - 8s 1ms/step - loss: 0.7624 - acc: 0.6980 - val_loss: 0.7749 - val_acc: 0.6982\n",
            "Epoch 19/200\n",
            "7385/7385 [==============================] - 8s 1ms/step - loss: 0.7606 - acc: 0.6951 - val_loss: 0.7521 - val_acc: 0.7023\n",
            "Epoch 20/200\n",
            "7385/7385 [==============================] - 8s 1ms/step - loss: 0.7507 - acc: 0.7090 - val_loss: 0.7531 - val_acc: 0.7007\n",
            "Epoch 21/200\n",
            "7385/7385 [==============================] - 8s 1ms/step - loss: 0.7310 - acc: 0.7070 - val_loss: 0.7495 - val_acc: 0.7084\n",
            "Epoch 22/200\n",
            "7385/7385 [==============================] - 8s 1ms/step - loss: 0.7257 - acc: 0.7194 - val_loss: 0.7552 - val_acc: 0.7084\n",
            "Epoch 23/200\n",
            "7385/7385 [==============================] - 8s 1ms/step - loss: 0.7168 - acc: 0.7220 - val_loss: 0.7382 - val_acc: 0.7100\n",
            "Epoch 24/200\n",
            "7385/7385 [==============================] - 4s 609us/step - loss: 0.7056 - acc: 0.7151 - val_loss: 0.7269 - val_acc: 0.7194\n",
            "Epoch 25/200\n",
            "7385/7385 [==============================] - 4s 601us/step - loss: 0.7054 - acc: 0.7255 - val_loss: 0.7357 - val_acc: 0.7182\n",
            "Epoch 26/200\n",
            "7385/7385 [==============================] - 5s 624us/step - loss: 0.6906 - acc: 0.7351 - val_loss: 0.7414 - val_acc: 0.7092\n",
            "Epoch 27/200\n",
            "7385/7385 [==============================] - 5s 619us/step - loss: 0.6933 - acc: 0.7282 - val_loss: 0.7277 - val_acc: 0.7194\n",
            "Epoch 28/200\n",
            "7385/7385 [==============================] - 4s 606us/step - loss: 0.6800 - acc: 0.7351 - val_loss: 0.7148 - val_acc: 0.7268\n",
            "Epoch 29/200\n",
            "7385/7385 [==============================] - 4s 602us/step - loss: 0.6823 - acc: 0.7429 - val_loss: 0.7174 - val_acc: 0.7243\n",
            "Epoch 30/200\n",
            "7385/7385 [==============================] - 4s 601us/step - loss: 0.6781 - acc: 0.7376 - val_loss: 0.6940 - val_acc: 0.7361\n",
            "Epoch 31/200\n",
            "7385/7385 [==============================] - 4s 601us/step - loss: 0.6492 - acc: 0.7525 - val_loss: 0.7049 - val_acc: 0.7333\n",
            "Epoch 32/200\n",
            "7385/7385 [==============================] - 4s 602us/step - loss: 0.6460 - acc: 0.7537 - val_loss: 0.6873 - val_acc: 0.7374\n",
            "Epoch 33/200\n",
            "7385/7385 [==============================] - 6s 776us/step - loss: 0.6412 - acc: 0.7544 - val_loss: 0.6797 - val_acc: 0.7402\n",
            "Epoch 34/200\n",
            "7385/7385 [==============================] - 4s 604us/step - loss: 0.6555 - acc: 0.7531 - val_loss: 0.6844 - val_acc: 0.7386\n",
            "Epoch 35/200\n",
            "7385/7385 [==============================] - 5s 659us/step - loss: 0.6205 - acc: 0.7629 - val_loss: 0.6726 - val_acc: 0.7418\n",
            "Epoch 36/200\n",
            "7385/7385 [==============================] - 4s 604us/step - loss: 0.6260 - acc: 0.7587 - val_loss: 0.6720 - val_acc: 0.7451\n",
            "Epoch 37/200\n",
            "7385/7385 [==============================] - 4s 603us/step - loss: 0.6169 - acc: 0.7606 - val_loss: 0.6780 - val_acc: 0.7427\n",
            "Epoch 38/200\n",
            "7385/7385 [==============================] - 4s 602us/step - loss: 0.6159 - acc: 0.7598 - val_loss: 0.6685 - val_acc: 0.7439\n",
            "Epoch 39/200\n",
            "7385/7385 [==============================] - 5s 693us/step - loss: 0.6186 - acc: 0.7619 - val_loss: 0.6697 - val_acc: 0.7443\n",
            "Epoch 40/200\n",
            "7385/7385 [==============================] - 4s 607us/step - loss: 0.5966 - acc: 0.7756 - val_loss: 0.6672 - val_acc: 0.7496\n",
            "Epoch 41/200\n",
            "7385/7385 [==============================] - 5s 715us/step - loss: 0.5969 - acc: 0.7726 - val_loss: 0.6703 - val_acc: 0.7447\n",
            "Epoch 42/200\n",
            "7385/7385 [==============================] - 5s 733us/step - loss: 0.5740 - acc: 0.7783 - val_loss: 0.6494 - val_acc: 0.7541\n",
            "Epoch 43/200\n",
            "7385/7385 [==============================] - 4s 605us/step - loss: 0.5866 - acc: 0.7796 - val_loss: 0.6777 - val_acc: 0.7500\n",
            "Epoch 44/200\n",
            "7385/7385 [==============================] - 4s 600us/step - loss: 0.5762 - acc: 0.7825 - val_loss: 0.6419 - val_acc: 0.7496\n",
            "Epoch 45/200\n",
            "7385/7385 [==============================] - 4s 595us/step - loss: 0.5709 - acc: 0.7783 - val_loss: 0.6390 - val_acc: 0.7541\n",
            "Epoch 46/200\n",
            "7385/7385 [==============================] - 4s 597us/step - loss: 0.5715 - acc: 0.7846 - val_loss: 0.6495 - val_acc: 0.7610\n",
            "Epoch 47/200\n",
            "7385/7385 [==============================] - 4s 599us/step - loss: 0.5661 - acc: 0.7810 - val_loss: 0.6435 - val_acc: 0.7557\n",
            "Epoch 48/200\n",
            "7385/7385 [==============================] - 4s 602us/step - loss: 0.5578 - acc: 0.7867 - val_loss: 0.6544 - val_acc: 0.7635\n",
            "Epoch 49/200\n",
            "7385/7385 [==============================] - 5s 631us/step - loss: 0.5549 - acc: 0.7875 - val_loss: 0.6383 - val_acc: 0.7598\n",
            "Epoch 50/200\n",
            "7385/7385 [==============================] - 5s 643us/step - loss: 0.5544 - acc: 0.7846 - val_loss: 0.6400 - val_acc: 0.7582\n",
            "Epoch 51/200\n",
            "7385/7385 [==============================] - 6s 746us/step - loss: 0.5560 - acc: 0.7892 - val_loss: 0.6502 - val_acc: 0.7553\n",
            "Epoch 52/200\n",
            "7385/7385 [==============================] - 4s 608us/step - loss: 0.5401 - acc: 0.7966 - val_loss: 0.6457 - val_acc: 0.7655\n",
            "Epoch 53/200\n",
            "7385/7385 [==============================] - 6s 806us/step - loss: 0.5384 - acc: 0.7947 - val_loss: 0.6355 - val_acc: 0.7667\n",
            "Epoch 54/200\n",
            "7385/7385 [==============================] - 5s 674us/step - loss: 0.5388 - acc: 0.7982 - val_loss: 0.6386 - val_acc: 0.7533\n",
            "Epoch 55/200\n",
            "7385/7385 [==============================] - 6s 779us/step - loss: 0.5364 - acc: 0.7953 - val_loss: 0.6543 - val_acc: 0.7631\n",
            "Epoch 56/200\n",
            "7385/7385 [==============================] - 5s 625us/step - loss: 0.5264 - acc: 0.7969 - val_loss: 0.6849 - val_acc: 0.7492\n",
            "Epoch 57/200\n",
            "7385/7385 [==============================] - 5s 737us/step - loss: 0.5201 - acc: 0.8031 - val_loss: 0.6535 - val_acc: 0.7586\n",
            "Epoch 58/200\n",
            "7385/7385 [==============================] - 4s 601us/step - loss: 0.5354 - acc: 0.8012 - val_loss: 0.6441 - val_acc: 0.7667\n",
            "Epoch 59/200\n",
            "7385/7385 [==============================] - 4s 601us/step - loss: 0.5046 - acc: 0.8096 - val_loss: 0.6616 - val_acc: 0.7537\n",
            "Epoch 60/200\n",
            "7385/7385 [==============================] - 4s 602us/step - loss: 0.5228 - acc: 0.8079 - val_loss: 0.6495 - val_acc: 0.7622\n",
            "Epoch 61/200\n",
            "7385/7385 [==============================] - 5s 616us/step - loss: 0.5148 - acc: 0.8079 - val_loss: 0.6534 - val_acc: 0.7590\n",
            "Epoch 62/200\n",
            "7385/7385 [==============================] - 4s 601us/step - loss: 0.5064 - acc: 0.8138 - val_loss: 0.6393 - val_acc: 0.7643\n",
            "Epoch 63/200\n",
            "7385/7385 [==============================] - 4s 598us/step - loss: 0.5123 - acc: 0.8131 - val_loss: 0.6533 - val_acc: 0.7614\n",
            "Epoch 64/200\n",
            "7385/7385 [==============================] - 5s 709us/step - loss: 0.5055 - acc: 0.8133 - val_loss: 0.6482 - val_acc: 0.7692\n",
            "Epoch 65/200\n",
            "7385/7385 [==============================] - 6s 828us/step - loss: 0.4964 - acc: 0.8175 - val_loss: 0.7020 - val_acc: 0.7524\n",
            "Epoch 66/200\n",
            "7385/7385 [==============================] - 6s 822us/step - loss: 0.4967 - acc: 0.8150 - val_loss: 0.6434 - val_acc: 0.7749\n",
            "Epoch 67/200\n",
            "7385/7385 [==============================] - 6s 827us/step - loss: 0.4931 - acc: 0.8142 - val_loss: 0.6498 - val_acc: 0.7757\n",
            "Epoch 68/200\n",
            "7385/7385 [==============================] - 6s 825us/step - loss: 0.5084 - acc: 0.8115 - val_loss: 0.6460 - val_acc: 0.7700\n",
            "Epoch 69/200\n",
            "7385/7385 [==============================] - 6s 829us/step - loss: 0.4998 - acc: 0.8130 - val_loss: 0.6641 - val_acc: 0.7598\n",
            "Epoch 70/200\n",
            "7385/7385 [==============================] - 6s 837us/step - loss: 0.4886 - acc: 0.8199 - val_loss: 0.6704 - val_acc: 0.7684\n",
            "Epoch 71/200\n",
            "7385/7385 [==============================] - 6s 839us/step - loss: 0.4863 - acc: 0.8203 - val_loss: 0.6968 - val_acc: 0.7606\n",
            "Epoch 72/200\n",
            "7385/7385 [==============================] - 6s 841us/step - loss: 0.4911 - acc: 0.8131 - val_loss: 0.6671 - val_acc: 0.7631\n",
            "Epoch 73/200\n",
            "7385/7385 [==============================] - 6s 865us/step - loss: 0.4934 - acc: 0.8192 - val_loss: 0.6637 - val_acc: 0.7720\n",
            "Epoch 74/200\n",
            "7385/7385 [==============================] - 6s 850us/step - loss: 0.4823 - acc: 0.8246 - val_loss: 0.6449 - val_acc: 0.7704\n",
            "Epoch 75/200\n",
            "7385/7385 [==============================] - 6s 843us/step - loss: 0.4809 - acc: 0.8284 - val_loss: 0.6513 - val_acc: 0.7675\n",
            "Epoch 76/200\n",
            "7385/7385 [==============================] - 6s 862us/step - loss: 0.4877 - acc: 0.8190 - val_loss: 0.7026 - val_acc: 0.7594\n",
            "Epoch 77/200\n",
            "7385/7385 [==============================] - 6s 824us/step - loss: 0.4820 - acc: 0.8204 - val_loss: 0.6601 - val_acc: 0.7614\n",
            "Epoch 78/200\n",
            "7385/7385 [==============================] - 6s 827us/step - loss: 0.4758 - acc: 0.8267 - val_loss: 0.6430 - val_acc: 0.7785\n",
            "Epoch 79/200\n",
            "7385/7385 [==============================] - 6s 842us/step - loss: 0.4797 - acc: 0.8259 - val_loss: 0.6336 - val_acc: 0.7745\n",
            "Epoch 80/200\n",
            "7385/7385 [==============================] - 6s 813us/step - loss: 0.4768 - acc: 0.8264 - val_loss: 0.6833 - val_acc: 0.7602\n",
            "Epoch 81/200\n",
            "7385/7385 [==============================] - 6s 829us/step - loss: 0.4681 - acc: 0.8280 - val_loss: 0.6591 - val_acc: 0.7651\n",
            "Epoch 82/200\n",
            "7385/7385 [==============================] - 6s 799us/step - loss: 0.4708 - acc: 0.8303 - val_loss: 0.6697 - val_acc: 0.7732\n",
            "Epoch 83/200\n",
            "7385/7385 [==============================] - 4s 608us/step - loss: 0.4607 - acc: 0.8314 - val_loss: 0.6579 - val_acc: 0.7728\n",
            "Epoch 84/200\n",
            "7385/7385 [==============================] - 4s 602us/step - loss: 0.4695 - acc: 0.8310 - val_loss: 0.6414 - val_acc: 0.7794\n",
            "Epoch 85/200\n",
            "7385/7385 [==============================] - 4s 606us/step - loss: 0.4691 - acc: 0.8295 - val_loss: 0.6652 - val_acc: 0.7598\n",
            "Epoch 86/200\n",
            "7385/7385 [==============================] - 5s 613us/step - loss: 0.4485 - acc: 0.8343 - val_loss: 0.6663 - val_acc: 0.7610\n",
            "Epoch 87/200\n",
            "7385/7385 [==============================] - 5s 614us/step - loss: 0.4572 - acc: 0.8314 - val_loss: 0.6736 - val_acc: 0.7586\n",
            "Epoch 88/200\n",
            "7385/7385 [==============================] - 5s 610us/step - loss: 0.4680 - acc: 0.8286 - val_loss: 0.6505 - val_acc: 0.7732\n",
            "Epoch 89/200\n",
            "7385/7385 [==============================] - 6s 759us/step - loss: 0.4629 - acc: 0.8306 - val_loss: 0.6967 - val_acc: 0.7618\n",
            "Epoch 90/200\n",
            "7385/7385 [==============================] - 5s 668us/step - loss: 0.4513 - acc: 0.8330 - val_loss: 0.6600 - val_acc: 0.7704\n",
            "Epoch 91/200\n",
            "7385/7385 [==============================] - 4s 596us/step - loss: 0.4519 - acc: 0.8367 - val_loss: 0.6932 - val_acc: 0.7590\n",
            "Epoch 92/200\n",
            "7385/7385 [==============================] - 5s 638us/step - loss: 0.4390 - acc: 0.8385 - val_loss: 0.6447 - val_acc: 0.7843\n",
            "Epoch 93/200\n",
            "7385/7385 [==============================] - 6s 825us/step - loss: 0.4527 - acc: 0.8416 - val_loss: 0.6736 - val_acc: 0.7598\n",
            "Epoch 94/200\n",
            "7385/7385 [==============================] - 6s 810us/step - loss: 0.4513 - acc: 0.8341 - val_loss: 0.6914 - val_acc: 0.7557\n",
            "Epoch 95/200\n",
            "7385/7385 [==============================] - 6s 837us/step - loss: 0.4533 - acc: 0.8343 - val_loss: 0.6878 - val_acc: 0.7655\n",
            "Epoch 96/200\n",
            "7385/7385 [==============================] - 6s 851us/step - loss: 0.4435 - acc: 0.8393 - val_loss: 0.7180 - val_acc: 0.7781\n",
            "Epoch 97/200\n",
            "7385/7385 [==============================] - 6s 838us/step - loss: 0.4391 - acc: 0.8432 - val_loss: 0.6684 - val_acc: 0.7704\n",
            "Epoch 98/200\n",
            "7385/7385 [==============================] - 6s 849us/step - loss: 0.4539 - acc: 0.8324 - val_loss: 0.6520 - val_acc: 0.7643\n",
            "Epoch 99/200\n",
            "7385/7385 [==============================] - 5s 640us/step - loss: 0.4416 - acc: 0.8413 - val_loss: 0.6902 - val_acc: 0.7610\n",
            "Epoch 100/200\n",
            "7385/7385 [==============================] - 5s 619us/step - loss: 0.4532 - acc: 0.8351 - val_loss: 0.6678 - val_acc: 0.7643\n",
            "Epoch 101/200\n",
            "7385/7385 [==============================] - 4s 597us/step - loss: 0.4502 - acc: 0.8349 - val_loss: 0.6615 - val_acc: 0.7679\n",
            "Epoch 102/200\n",
            "7385/7385 [==============================] - 4s 601us/step - loss: 0.4437 - acc: 0.8359 - val_loss: 0.6733 - val_acc: 0.7724\n",
            "Epoch 103/200\n",
            "7385/7385 [==============================] - 5s 614us/step - loss: 0.4327 - acc: 0.8410 - val_loss: 0.6914 - val_acc: 0.7700\n",
            "Epoch 104/200\n",
            "7385/7385 [==============================] - 5s 630us/step - loss: 0.4223 - acc: 0.8487 - val_loss: 0.6874 - val_acc: 0.7712\n",
            "Epoch 105/200\n",
            "7385/7385 [==============================] - 4s 600us/step - loss: 0.4342 - acc: 0.8416 - val_loss: 0.7058 - val_acc: 0.7594\n",
            "Epoch 106/200\n",
            "7385/7385 [==============================] - 4s 602us/step - loss: 0.4464 - acc: 0.8408 - val_loss: 0.6541 - val_acc: 0.7614\n",
            "Epoch 107/200\n",
            "7385/7385 [==============================] - 4s 606us/step - loss: 0.4333 - acc: 0.8425 - val_loss: 0.6738 - val_acc: 0.7679\n",
            "Epoch 108/200\n",
            "7385/7385 [==============================] - 4s 604us/step - loss: 0.4382 - acc: 0.8410 - val_loss: 0.6946 - val_acc: 0.7720\n",
            "Epoch 109/200\n",
            "7385/7385 [==============================] - 4s 599us/step - loss: 0.4253 - acc: 0.8458 - val_loss: 0.6761 - val_acc: 0.7704\n",
            "Epoch 110/200\n",
            "7385/7385 [==============================] - 5s 615us/step - loss: 0.4231 - acc: 0.8452 - val_loss: 0.7239 - val_acc: 0.7704\n",
            "Epoch 111/200\n",
            "7385/7385 [==============================] - 5s 617us/step - loss: 0.4357 - acc: 0.8398 - val_loss: 0.7127 - val_acc: 0.7663\n",
            "Epoch 112/200\n",
            "7385/7385 [==============================] - 4s 608us/step - loss: 0.4273 - acc: 0.8437 - val_loss: 0.7148 - val_acc: 0.7643\n",
            "Epoch 113/200\n",
            "7385/7385 [==============================] - 4s 605us/step - loss: 0.4240 - acc: 0.8441 - val_loss: 0.7048 - val_acc: 0.7606\n",
            "Epoch 114/200\n",
            "7385/7385 [==============================] - 5s 634us/step - loss: 0.4373 - acc: 0.8428 - val_loss: 0.6983 - val_acc: 0.7704\n",
            "Epoch 115/200\n",
            "7385/7385 [==============================] - 4s 605us/step - loss: 0.4306 - acc: 0.8459 - val_loss: 0.6937 - val_acc: 0.7692\n",
            "Epoch 116/200\n",
            "7385/7385 [==============================] - 5s 611us/step - loss: 0.4292 - acc: 0.8456 - val_loss: 0.6919 - val_acc: 0.7745\n",
            "Epoch 117/200\n",
            "7385/7385 [==============================] - 5s 730us/step - loss: 0.4339 - acc: 0.8409 - val_loss: 0.6761 - val_acc: 0.7753\n",
            "Epoch 118/200\n",
            "7385/7385 [==============================] - 5s 663us/step - loss: 0.4194 - acc: 0.8474 - val_loss: 0.6902 - val_acc: 0.7708\n",
            "Epoch 119/200\n",
            "7385/7385 [==============================] - 5s 682us/step - loss: 0.4233 - acc: 0.8443 - val_loss: 0.7069 - val_acc: 0.7777\n",
            "Epoch 120/200\n",
            "7385/7385 [==============================] - 4s 600us/step - loss: 0.4227 - acc: 0.8429 - val_loss: 0.7156 - val_acc: 0.7631\n",
            "Epoch 121/200\n",
            "7385/7385 [==============================] - 4s 601us/step - loss: 0.4267 - acc: 0.8508 - val_loss: 0.6999 - val_acc: 0.7655\n",
            "Epoch 122/200\n",
            "7385/7385 [==============================] - 4s 598us/step - loss: 0.4138 - acc: 0.8501 - val_loss: 0.7276 - val_acc: 0.7586\n",
            "Epoch 123/200\n",
            "7385/7385 [==============================] - 5s 612us/step - loss: 0.4278 - acc: 0.8464 - val_loss: 0.7108 - val_acc: 0.7732\n",
            "Epoch 124/200\n",
            "7385/7385 [==============================] - 4s 604us/step - loss: 0.4052 - acc: 0.8551 - val_loss: 0.7296 - val_acc: 0.7508\n",
            "Epoch 125/200\n",
            "7385/7385 [==============================] - 4s 597us/step - loss: 0.4155 - acc: 0.8509 - val_loss: 0.7131 - val_acc: 0.7679\n",
            "Epoch 126/200\n",
            "7385/7385 [==============================] - 4s 598us/step - loss: 0.4135 - acc: 0.8510 - val_loss: 0.7395 - val_acc: 0.7602\n",
            "Epoch 127/200\n",
            "7385/7385 [==============================] - 4s 598us/step - loss: 0.4126 - acc: 0.8517 - val_loss: 0.7311 - val_acc: 0.7586\n",
            "Epoch 128/200\n",
            "7385/7385 [==============================] - 4s 600us/step - loss: 0.4035 - acc: 0.8539 - val_loss: 0.7269 - val_acc: 0.7610\n",
            "Epoch 129/200\n",
            "7385/7385 [==============================] - 4s 597us/step - loss: 0.4205 - acc: 0.8489 - val_loss: 0.7374 - val_acc: 0.7594\n",
            "Epoch 130/200\n",
            "7385/7385 [==============================] - 4s 604us/step - loss: 0.4037 - acc: 0.8505 - val_loss: 0.7332 - val_acc: 0.7712\n",
            "Epoch 131/200\n",
            "7385/7385 [==============================] - 4s 599us/step - loss: 0.4112 - acc: 0.8520 - val_loss: 0.7128 - val_acc: 0.7667\n",
            "Epoch 132/200\n",
            "7385/7385 [==============================] - 4s 602us/step - loss: 0.4170 - acc: 0.8517 - val_loss: 0.7282 - val_acc: 0.7606\n",
            "Epoch 133/200\n",
            "7385/7385 [==============================] - 4s 603us/step - loss: 0.4161 - acc: 0.8452 - val_loss: 0.7364 - val_acc: 0.7716\n",
            "Epoch 134/200\n",
            "7385/7385 [==============================] - 4s 605us/step - loss: 0.4030 - acc: 0.8559 - val_loss: 0.7350 - val_acc: 0.7541\n",
            "Epoch 135/200\n",
            "7385/7385 [==============================] - 4s 608us/step - loss: 0.3947 - acc: 0.8582 - val_loss: 0.7260 - val_acc: 0.7533\n",
            "Epoch 136/200\n",
            "7385/7385 [==============================] - 4s 605us/step - loss: 0.3952 - acc: 0.8603 - val_loss: 0.7432 - val_acc: 0.7549\n",
            "Epoch 137/200\n",
            "7385/7385 [==============================] - 4s 604us/step - loss: 0.3959 - acc: 0.8569 - val_loss: 0.7246 - val_acc: 0.7618\n",
            "Epoch 138/200\n",
            "7385/7385 [==============================] - 5s 613us/step - loss: 0.4012 - acc: 0.8573 - val_loss: 0.7357 - val_acc: 0.7663\n",
            "Epoch 139/200\n",
            "7385/7385 [==============================] - 5s 612us/step - loss: 0.4006 - acc: 0.8544 - val_loss: 0.7461 - val_acc: 0.7635\n",
            "Epoch 140/200\n",
            "7385/7385 [==============================] - 4s 598us/step - loss: 0.3952 - acc: 0.8563 - val_loss: 0.7511 - val_acc: 0.7529\n",
            "Epoch 141/200\n",
            "7385/7385 [==============================] - 4s 601us/step - loss: 0.3912 - acc: 0.8601 - val_loss: 0.7453 - val_acc: 0.7602\n",
            "Epoch 142/200\n",
            "7385/7385 [==============================] - 4s 604us/step - loss: 0.3990 - acc: 0.8611 - val_loss: 0.7461 - val_acc: 0.7651\n",
            "Epoch 143/200\n",
            "7385/7385 [==============================] - 4s 607us/step - loss: 0.4050 - acc: 0.8548 - val_loss: 0.7554 - val_acc: 0.7598\n",
            "Epoch 144/200\n",
            "7385/7385 [==============================] - 4s 607us/step - loss: 0.3967 - acc: 0.8565 - val_loss: 0.7540 - val_acc: 0.7561\n",
            "Epoch 145/200\n",
            "7385/7385 [==============================] - 4s 606us/step - loss: 0.4147 - acc: 0.8516 - val_loss: 0.7388 - val_acc: 0.7598\n",
            "Epoch 146/200\n",
            "7385/7385 [==============================] - 4s 609us/step - loss: 0.3971 - acc: 0.8558 - val_loss: 0.7542 - val_acc: 0.7569\n",
            "Epoch 147/200\n",
            "7385/7385 [==============================] - 5s 632us/step - loss: 0.4048 - acc: 0.8558 - val_loss: 0.7597 - val_acc: 0.7553\n",
            "Epoch 148/200\n",
            "7385/7385 [==============================] - 5s 637us/step - loss: 0.4037 - acc: 0.8559 - val_loss: 0.7497 - val_acc: 0.7553\n",
            "Epoch 149/200\n",
            "7385/7385 [==============================] - 5s 628us/step - loss: 0.3917 - acc: 0.8611 - val_loss: 0.7615 - val_acc: 0.7459\n",
            "Epoch 150/200\n",
            "7385/7385 [==============================] - 5s 619us/step - loss: 0.3999 - acc: 0.8601 - val_loss: 0.7302 - val_acc: 0.7635\n",
            "Epoch 151/200\n",
            "7385/7385 [==============================] - 5s 619us/step - loss: 0.3970 - acc: 0.8574 - val_loss: 0.7439 - val_acc: 0.7635\n",
            "Epoch 152/200\n",
            "7385/7385 [==============================] - 5s 653us/step - loss: 0.3758 - acc: 0.8664 - val_loss: 0.7130 - val_acc: 0.7667\n",
            "Epoch 153/200\n",
            "7385/7385 [==============================] - 5s 630us/step - loss: 0.3958 - acc: 0.8620 - val_loss: 0.7643 - val_acc: 0.7590\n",
            "Epoch 154/200\n",
            "7385/7385 [==============================] - 5s 619us/step - loss: 0.4032 - acc: 0.8596 - val_loss: 0.7387 - val_acc: 0.7614\n",
            "Epoch 155/200\n",
            "7385/7385 [==============================] - 4s 604us/step - loss: 0.3886 - acc: 0.8581 - val_loss: 0.7459 - val_acc: 0.7651\n",
            "Epoch 156/200\n",
            "7385/7385 [==============================] - 5s 624us/step - loss: 0.3913 - acc: 0.8619 - val_loss: 0.7300 - val_acc: 0.7586\n",
            "Epoch 157/200\n",
            "7385/7385 [==============================] - 5s 648us/step - loss: 0.3900 - acc: 0.8584 - val_loss: 0.7414 - val_acc: 0.7667\n",
            "Epoch 158/200\n",
            "7385/7385 [==============================] - 4s 606us/step - loss: 0.4036 - acc: 0.8580 - val_loss: 0.7770 - val_acc: 0.7516\n",
            "Epoch 159/200\n",
            "7385/7385 [==============================] - 4s 606us/step - loss: 0.3956 - acc: 0.8552 - val_loss: 0.7195 - val_acc: 0.7708\n",
            "Epoch 160/200\n",
            "7385/7385 [==============================] - 4s 601us/step - loss: 0.3916 - acc: 0.8630 - val_loss: 0.7070 - val_acc: 0.7704\n",
            "Epoch 161/200\n",
            "7385/7385 [==============================] - 4s 606us/step - loss: 0.3799 - acc: 0.8626 - val_loss: 0.7667 - val_acc: 0.7557\n",
            "Epoch 162/200\n",
            "7385/7385 [==============================] - 4s 602us/step - loss: 0.3836 - acc: 0.8655 - val_loss: 0.7923 - val_acc: 0.7484\n",
            "Epoch 163/200\n",
            "7385/7385 [==============================] - 4s 599us/step - loss: 0.3887 - acc: 0.8590 - val_loss: 0.7603 - val_acc: 0.7541\n",
            "Epoch 164/200\n",
            "7385/7385 [==============================] - 5s 614us/step - loss: 0.3794 - acc: 0.8630 - val_loss: 0.7604 - val_acc: 0.7626\n",
            "Epoch 165/200\n",
            "7385/7385 [==============================] - 4s 601us/step - loss: 0.3920 - acc: 0.8615 - val_loss: 0.7642 - val_acc: 0.7537\n",
            "Epoch 166/200\n",
            "7385/7385 [==============================] - 4s 604us/step - loss: 0.3833 - acc: 0.8628 - val_loss: 0.7641 - val_acc: 0.7610\n",
            "Epoch 167/200\n",
            "7385/7385 [==============================] - 4s 604us/step - loss: 0.3936 - acc: 0.8555 - val_loss: 0.7640 - val_acc: 0.7512\n",
            "Epoch 168/200\n",
            "7385/7385 [==============================] - 4s 604us/step - loss: 0.3824 - acc: 0.8586 - val_loss: 0.7694 - val_acc: 0.7496\n",
            "Epoch 169/200\n",
            "7385/7385 [==============================] - 4s 605us/step - loss: 0.3951 - acc: 0.8624 - val_loss: 0.7556 - val_acc: 0.7541\n",
            "Epoch 170/200\n",
            "7385/7385 [==============================] - 5s 613us/step - loss: 0.3826 - acc: 0.8673 - val_loss: 0.7485 - val_acc: 0.7675\n",
            "Epoch 171/200\n",
            "7385/7385 [==============================] - 5s 626us/step - loss: 0.3919 - acc: 0.8594 - val_loss: 0.7663 - val_acc: 0.7529\n",
            "Epoch 172/200\n",
            "7385/7385 [==============================] - 5s 612us/step - loss: 0.3764 - acc: 0.8653 - val_loss: 0.8017 - val_acc: 0.7423\n",
            "Epoch 173/200\n",
            "7385/7385 [==============================] - 4s 605us/step - loss: 0.3702 - acc: 0.8672 - val_loss: 0.7558 - val_acc: 0.7582\n",
            "Epoch 174/200\n",
            "7385/7385 [==============================] - 4s 604us/step - loss: 0.3839 - acc: 0.8628 - val_loss: 0.7798 - val_acc: 0.7533\n",
            "Epoch 175/200\n",
            "7385/7385 [==============================] - 4s 608us/step - loss: 0.3793 - acc: 0.8649 - val_loss: 0.7448 - val_acc: 0.7602\n",
            "Epoch 176/200\n",
            "7385/7385 [==============================] - 4s 604us/step - loss: 0.3840 - acc: 0.8613 - val_loss: 0.7481 - val_acc: 0.7667\n",
            "Epoch 177/200\n",
            "7385/7385 [==============================] - 4s 608us/step - loss: 0.3917 - acc: 0.8599 - val_loss: 0.7691 - val_acc: 0.7508\n",
            "Epoch 178/200\n",
            "7385/7385 [==============================] - 5s 615us/step - loss: 0.3854 - acc: 0.8635 - val_loss: 0.7506 - val_acc: 0.7610\n",
            "Epoch 179/200\n",
            "7385/7385 [==============================] - 4s 594us/step - loss: 0.3775 - acc: 0.8596 - val_loss: 0.7544 - val_acc: 0.7569\n",
            "Epoch 180/200\n",
            "7385/7385 [==============================] - 4s 599us/step - loss: 0.3676 - acc: 0.8712 - val_loss: 0.7902 - val_acc: 0.7467\n",
            "Epoch 181/200\n",
            "7385/7385 [==============================] - 4s 599us/step - loss: 0.3749 - acc: 0.8687 - val_loss: 0.7835 - val_acc: 0.7549\n",
            "Epoch 182/200\n",
            "7385/7385 [==============================] - 4s 600us/step - loss: 0.3579 - acc: 0.8714 - val_loss: 0.7963 - val_acc: 0.7520\n",
            "Epoch 183/200\n",
            "7385/7385 [==============================] - 4s 604us/step - loss: 0.3882 - acc: 0.8622 - val_loss: 0.7887 - val_acc: 0.7537\n",
            "Epoch 184/200\n",
            "7385/7385 [==============================] - 4s 604us/step - loss: 0.3852 - acc: 0.8622 - val_loss: 0.7862 - val_acc: 0.7447\n",
            "Epoch 185/200\n",
            "7385/7385 [==============================] - 5s 615us/step - loss: 0.3742 - acc: 0.8691 - val_loss: 0.7816 - val_acc: 0.7545\n",
            "Epoch 186/200\n",
            "7385/7385 [==============================] - 5s 610us/step - loss: 0.3853 - acc: 0.8613 - val_loss: 0.7842 - val_acc: 0.7508\n",
            "Epoch 187/200\n",
            "7385/7385 [==============================] - 5s 612us/step - loss: 0.3744 - acc: 0.8659 - val_loss: 0.7662 - val_acc: 0.7614\n",
            "Epoch 188/200\n",
            "7385/7385 [==============================] - 5s 612us/step - loss: 0.3699 - acc: 0.8669 - val_loss: 0.7668 - val_acc: 0.7561\n",
            "Epoch 189/200\n",
            "7385/7385 [==============================] - 5s 615us/step - loss: 0.3721 - acc: 0.8646 - val_loss: 0.7847 - val_acc: 0.7573\n",
            "Epoch 190/200\n",
            "7385/7385 [==============================] - 5s 613us/step - loss: 0.3752 - acc: 0.8628 - val_loss: 0.7692 - val_acc: 0.7594\n",
            "Epoch 191/200\n",
            "7385/7385 [==============================] - 4s 606us/step - loss: 0.3762 - acc: 0.8665 - val_loss: 0.7969 - val_acc: 0.7423\n",
            "Epoch 192/200\n",
            "7385/7385 [==============================] - 4s 608us/step - loss: 0.3759 - acc: 0.8682 - val_loss: 0.7779 - val_acc: 0.7549\n",
            "Epoch 193/200\n",
            "7385/7385 [==============================] - 5s 610us/step - loss: 0.3665 - acc: 0.8658 - val_loss: 0.7620 - val_acc: 0.7626\n",
            "Epoch 194/200\n",
            "7385/7385 [==============================] - 4s 603us/step - loss: 0.3707 - acc: 0.8704 - val_loss: 0.7734 - val_acc: 0.7561\n",
            "Epoch 195/200\n",
            "7385/7385 [==============================] - 4s 602us/step - loss: 0.3776 - acc: 0.8632 - val_loss: 0.7841 - val_acc: 0.7524\n",
            "Epoch 196/200\n",
            "7385/7385 [==============================] - 5s 614us/step - loss: 0.3748 - acc: 0.8707 - val_loss: 0.8037 - val_acc: 0.7512\n",
            "Epoch 197/200\n",
            "7385/7385 [==============================] - 4s 604us/step - loss: 0.3661 - acc: 0.8696 - val_loss: 0.7798 - val_acc: 0.7549\n",
            "Epoch 198/200\n",
            "7385/7385 [==============================] - 5s 613us/step - loss: 0.3715 - acc: 0.8612 - val_loss: 0.7964 - val_acc: 0.7504\n",
            "Epoch 199/200\n",
            "7385/7385 [==============================] - 5s 615us/step - loss: 0.3675 - acc: 0.8692 - val_loss: 0.7742 - val_acc: 0.7618\n",
            "Epoch 200/200\n",
            "7385/7385 [==============================] - 4s 599us/step - loss: 0.3728 - acc: 0.8685 - val_loss: 0.7964 - val_acc: 0.7516\n"
          ],
          "name": "stdout"
        }
      ]
    },
    {
      "cell_type": "code",
      "metadata": {
        "id": "-EYQHOHfVXL2",
        "colab_type": "code",
        "colab": {}
      },
      "source": [
        "  '''\n",
        "# Save the weights\n",
        "lstm_model.save_weights('drive/My Drive/files_project/model_files/model_weights.h5')\n",
        "\n",
        "# Save the model architecture\n",
        "with open('drive/My Drive/files_project/model_files/model_architecture.json', 'w') as f:\n",
        "    f.write(lstm_model.to_json())\n",
        "'''"
      ],
      "execution_count": 0,
      "outputs": []
    },
    {
      "cell_type": "code",
      "metadata": {
        "id": "1CGAAlCnt_M_",
        "colab_type": "code",
        "outputId": "7c7e4207-fa22-4a0c-fd40-27b880502cda",
        "colab": {
          "base_uri": "https://localhost:8080/",
          "height": 295
        }
      },
      "source": [
        "plt.plot(lstm_history.history['loss'])\n",
        "plt.plot(lstm_history.history['val_loss'])\n",
        "plt.title('LSTM model loss')\n",
        "plt.ylabel('loss')\n",
        "plt.xlabel('epoch')\n",
        "plt.legend(['train', 'validation'], loc='upper left')\n",
        "plt.show()"
      ],
      "execution_count": 0,
      "outputs": [
        {
          "output_type": "display_data",
          "data": {
            "image/png": "[encoded data removed]",
            "text/plain": [
              "<Figure size 432x288 with 1 Axes>"
            ]
          },
          "metadata": {
            "tags": []
          }
        }
      ]
    },
    {
      "cell_type": "code",
      "metadata": {
        "id": "3x6tf7mhyrWT",
        "colab_type": "code",
        "outputId": "6d91e012-3dd5-4bc6-9a29-dadd7445ac14",
        "colab": {
          "base_uri": "https://localhost:8080/",
          "height": 295
        }
      },
      "source": [
        "plt.plot(lstm_history.history['acc'])\n",
        "plt.plot(lstm_history.history['val_acc'])\n",
        "plt.title('LSTM model accuracy')\n",
        "plt.ylabel('accuracy')\n",
        "plt.xlabel('epoch')\n",
        "plt.legend(['train', 'validation'], loc='upper left')\n",
        "plt.show()"
      ],
      "execution_count": 0,
      "outputs": [
        {
          "output_type": "display_data",
          "data": {
            "image/png": "[encoded data removed]",
            "text/plain": [
              "<Figure size 432x288 with 1 Axes>"
            ]
          },
          "metadata": {
            "tags": []
          }
        }
      ]
    },
    {
      "cell_type": "code",
      "metadata": {
        "id": "_U_IqIuhz6S4",
        "colab_type": "code",
        "colab": {}
      },
      "source": [
        "lstm_preds_train = lstm_model.predict(x_train[:len(y_train)])\n",
        "lstm_pred_cat_train = np.argmax(lstm_preds_train,axis=1)\n",
        "\n",
        "lstm_preds_val = lstm_model.predict(x_validation[:len(y_validation)])\n",
        "lstm_pred_cat_val = np.argmax(lstm_preds_val,axis=1)\n",
        "\n",
        "lstm_preds_test = lstm_model.predict(x_test[:len(y_test)])\n",
        "lstm_pred_cat_test = np.argmax(lstm_preds_test,axis=1)"
      ],
      "execution_count": 0,
      "outputs": []
    },
    {
      "cell_type": "code",
      "metadata": {
        "id": "VKsPu2koz8Dq",
        "colab_type": "code",
        "outputId": "dc74db43-3566-4e83-d131-25665a0bf0ce",
        "colab": {
          "base_uri": "https://localhost:8080/",
          "height": 36
        }
      },
      "source": [
        "len(y_test)\n",
        "len(lstm_preds_test)"
      ],
      "execution_count": 0,
      "outputs": [
        {
          "output_type": "execute_result",
          "data": {
            "text/plain": [
              "2451"
            ]
          },
          "metadata": {
            "tags": []
          },
          "execution_count": 81
        }
      ]
    },
    {
      "cell_type": "code",
      "metadata": {
        "id": "24P-roh-2VTr",
        "colab_type": "code",
        "outputId": "ec9d81f2-ac3c-486b-d0db-eb162a7ae5d8",
        "colab": {
          "base_uri": "https://localhost:8080/",
          "height": 333
        }
      },
      "source": [
        "print('LSTM model accuracy on traning set is: {}%'.format(accuracy_score(y_train[:len(lstm_pred_cat_train)],lstm_pred_cat_train)*100))\n",
        "sns.heatmap(confusion_matrix(y_train[:len(lstm_pred_cat_train)],lstm_pred_cat_train),cmap='Greens',annot=True, fmt='d',\n",
        "           xticklabels=list(le_activity.classes_), yticklabels=list(le_activity.classes_))\n",
        "\n",
        "plt.xlabel('Prediction')\n",
        "plt.ylabel('True label')\n",
        "plt.title('LSTM model classification results on traning set')"
      ],
      "execution_count": 0,
      "outputs": [
        {
          "output_type": "stream",
          "text": [
            "LSTM model accuracy on traning set is: 91.41503046716318%\n"
          ],
          "name": "stdout"
        },
        {
          "output_type": "execute_result",
          "data": {
            "text/plain": [
              "Text(0.5, 1.0, 'LSTM model classification results on traning set')"
            ]
          },
          "metadata": {
            "tags": []
          },
          "execution_count": 82
        },
        {
          "output_type": "display_data",
          "data": {
            "image/png": "[encoded data removed]",
            "text/plain": [
              "<Figure size 432x288 with 2 Axes>"
            ]
          },
          "metadata": {
            "tags": []
          }
        }
      ]
    },
    {
      "cell_type": "code",
      "metadata": {
        "id": "fRgVwLOFRXz3",
        "colab_type": "code",
        "outputId": "9cf7d90f-d3eb-42e5-f36b-4203a8fd4e02",
        "colab": {
          "base_uri": "https://localhost:8080/",
          "height": 333
        }
      },
      "source": [
        "print('LSTM model accuracy on validation set is: {}%'.format(accuracy_score(y_validation[:len(lstm_pred_cat_val)],lstm_pred_cat_val)*100))\n",
        "sns.heatmap(confusion_matrix(y_validation[:len(lstm_pred_cat_val)],lstm_pred_cat_val),cmap='Greens',annot=True, fmt='d',\n",
        "           xticklabels=list(le_activity.classes_), yticklabels=list(le_activity.classes_))\n",
        "\n",
        "plt.xlabel('Prediction')\n",
        "plt.ylabel('True label')\n",
        "plt.title('LSTM model classification results on validation set')"
      ],
      "execution_count": 0,
      "outputs": [
        {
          "output_type": "stream",
          "text": [
            "LSTM model accuracy on validation set is: 75.163132137031%\n"
          ],
          "name": "stdout"
        },
        {
          "output_type": "execute_result",
          "data": {
            "text/plain": [
              "Text(0.5, 1.0, 'LSTM model classification results on validation set')"
            ]
          },
          "metadata": {
            "tags": []
          },
          "execution_count": 83
        },
        {
          "output_type": "display_data",
          "data": {
            "image/png": "[encoded data removed]",
            "text/plain": [
              "<Figure size 432x288 with 2 Axes>"
            ]
          },
          "metadata": {
            "tags": []
          }
        }
      ]
    },
    {
      "cell_type": "code",
      "metadata": {
        "id": "N-dx0DDlJZ-T",
        "colab_type": "code",
        "outputId": "38f1d75c-b4d1-47e3-f8e3-4975882a10b9",
        "colab": {
          "base_uri": "https://localhost:8080/",
          "height": 333
        }
      },
      "source": [
        "print('LSTM model accuracy on test set is: {}%'.format(accuracy_score(y_test[:len(lstm_pred_cat_test)],lstm_pred_cat_test)*100))\n",
        "sns.heatmap(confusion_matrix(y_test[:len(lstm_pred_cat_test)],lstm_pred_cat_test),cmap='Greens',annot=True, fmt='d',\n",
        "            xticklabels=list(le_activity.classes_), yticklabels=list(le_activity.classes_))\n",
        "\n",
        "plt.xlabel('Prediction') \n",
        "plt.ylabel('True label')\n",
        "plt.title('LSTM model classification results on test set')"
      ],
      "execution_count": 0,
      "outputs": [
        {
          "output_type": "stream",
          "text": [
            "LSTM model accuracy on test set is: 73.96980824153407%\n"
          ],
          "name": "stdout"
        },
        {
          "output_type": "execute_result",
          "data": {
            "text/plain": [
              "Text(0.5, 1.0, 'LSTM model classification results on test set')"
            ]
          },
          "metadata": {
            "tags": []
          },
          "execution_count": 84
        },
        {
          "output_type": "display_data",
          "data": {
            "image/png": "[encoded data removed]",
            "text/plain": [
              "<Figure size 432x288 with 2 Axes>"
            ]
          },
          "metadata": {
            "tags": []
          }
        }
      ]
    },
    {
      "cell_type": "code",
      "metadata": {
        "id": "NeU7IBr536Bb",
        "colab_type": "code",
        "colab": {}
      },
      "source": [
        "asdadasdasda"
      ],
      "execution_count": 0,
      "outputs": []
    },
    {
      "cell_type": "markdown",
      "metadata": {
        "id": "vbNz2hiVYarp",
        "colab_type": "text"
      },
      "source": [
        "#Final result metric"
      ]
    },
    {
      "cell_type": "markdown",
      "metadata": {
        "id": "6Q6lOAYaddUP",
        "colab_type": "text"
      },
      "source": [
        "#Convert Into CoreML"
      ]
    },
    {
      "cell_type": "code",
      "metadata": {
        "id": "aEA09aD3fw3q",
        "colab_type": "code",
        "colab": {}
      },
      "source": [
        "'''\n",
        "from keras.models import model_from_json\n",
        "\n",
        "# Model reconstruction from JSON file\n",
        "with open('drive/My Drive/Shared folder University/files_project/model_files/model_architecture.json', 'r') as f:\n",
        "    lstm_model = model_from_json(f.read())\n",
        "\n",
        "# Load weights into the new model\n",
        "lstm_model.load_weights('model_weights.h5')\n",
        "'''"
      ],
      "execution_count": 0,
      "outputs": []
    },
    {
      "cell_type": "code",
      "metadata": {
        "id": "eV01xCdNjMae",
        "colab_type": "code",
        "colab": {}
      },
      "source": [
        "!pip install coremltools"
      ],
      "execution_count": 0,
      "outputs": []
    },
    {
      "cell_type": "code",
      "metadata": {
        "id": "SvDfgnFSdg_k",
        "colab_type": "code",
        "colab": {}
      },
      "source": [
        "import coremltools\n",
        "\n",
        "coreml_model = coremltools.converters.keras.convert(ann_model, input_names=['acceleration'], output_names=['output'], class_labels=list(le_activity.classes_))\n",
        "\n",
        "print(coreml_model)\n",
        "coreml_model.author = 'ido sakazi'\n",
        "coreml_model.license = 'N/A'\n",
        "coreml_model.short_description = 'Activity based recognition based on dataset'\n",
        "coreml_model.output_description['output'] = 'Probability of each activity'\n",
        "coreml_model.output_description['classLabel'] = 'Labels of activity'\n",
        "\n",
        "#coreml_model.save('drive/My Drive/Shared folder University/files_project/model_files/HARClassifier.mlmodel')\n",
        "#coreml_model.save('HARClassifier.mlmodel')"
      ],
      "execution_count": 0,
      "outputs": []
    },
    {
      "cell_type": "code",
      "metadata": {
        "id": "nmC17Op8k2-h",
        "colab_type": "code",
        "colab": {}
      },
      "source": [
        "#coreml_model.save('ANNHARClassifier.mlmodel')"
      ],
      "execution_count": 0,
      "outputs": []
    }
  ]
}