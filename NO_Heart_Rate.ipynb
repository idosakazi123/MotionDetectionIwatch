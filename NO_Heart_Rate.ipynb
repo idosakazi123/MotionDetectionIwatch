{
  "nbformat": 4,
  "nbformat_minor": 0,
  "metadata": {
    "colab": {
      "name": "shaysworkNOHR.ipynb",
      "version": "0.3.2",
      "provenance": [],
      "collapsed_sections": []
    },
    "kernelspec": {
      "name": "python3",
      "display_name": "Python 3"
    },
    "accelerator": "GPU"
  },
  "cells": [
    {
      "cell_type": "markdown",
      "metadata": {
        "id": "cZpWp1O7FAHb",
        "colab_type": "text"
      },
      "source": [
        "# Imports and connect to google drive"
      ]
    },
    {
      "cell_type": "code",
      "metadata": {
        "id": "qPmiaRQjikg2",
        "colab_type": "code",
        "outputId": "0a29c641-16a1-4440-bd2c-e8a1269ada3b",
        "colab": {
          "base_uri": "https://localhost:8080/",
          "height": 36
        }
      },
      "source": [
        "import random\n",
        "import keras\n",
        "import numpy as np\n",
        "import pandas as pd\n",
        "import seaborn as sns\n",
        "import math\n",
        "import matplotlib.pyplot as plt\n",
        "%matplotlib inline\n",
        "\n",
        "from sklearn import metrics\n",
        "from sklearn import preprocessing\n",
        "from sklearn.metrics import classification_report, accuracy_score, confusion_matrix, log_loss\n",
        "\n",
        "from keras.utils import np_utils\n",
        "from keras.optimizers import Adam\n",
        "from keras.models import Sequential\n",
        "from keras.layers import Dense, Dropout, Flatten, Reshape, LSTM, BatchNormalization, Conv2D, MaxPooling2D, RNN\n",
        "\n",
        "from scipy import stats"
      ],
      "execution_count": 0,
      "outputs": [
        {
          "output_type": "stream",
          "text": [
            "Using TensorFlow backend.\n"
          ],
          "name": "stderr"
        }
      ]
    },
    {
      "cell_type": "code",
      "metadata": {
        "id": "hMItINKfitgb",
        "colab_type": "code",
        "outputId": "30a85801-929b-4fa9-d67a-de425d2591a9",
        "colab": {
          "base_uri": "https://localhost:8080/",
          "height": 36
        }
      },
      "source": [
        "#Get access to google drive\n",
        "from google.colab import drive\n",
        "drive.mount('/content/drive/')"
      ],
      "execution_count": 0,
      "outputs": [
        {
          "output_type": "stream",
          "text": [
            "Drive already mounted at /content/drive/; to attempt to forcibly remount, call drive.mount(\"/content/drive/\", force_remount=True).\n"
          ],
          "name": "stdout"
        }
      ]
    },
    {
      "cell_type": "markdown",
      "metadata": {
        "id": "V1xV0temJ6qy",
        "colab_type": "text"
      },
      "source": [
        "**All users names and activities**"
      ]
    },
    {
      "cell_type": "code",
      "metadata": {
        "id": "RF9lFl5PKTrG",
        "colab_type": "code",
        "colab": {}
      },
      "source": [
        "names = ['Shay', 'Ido','Idan','Asaf','Alon','Oren','Hila','Inbar','Alex','Max']\n",
        "activities = ['drinking', 'eating', 'on_computer', 'on_phone']\n",
        "\n",
        "data_map = {'training_map': {}, 'validation_map': {}, 'testing_map': {}}"
      ],
      "execution_count": 0,
      "outputs": []
    },
    {
      "cell_type": "markdown",
      "metadata": {
        "id": "JgGH8nSRKK8n",
        "colab_type": "text"
      },
      "source": [
        "**Creating training validation and testing sets**"
      ]
    },
    {
      "cell_type": "code",
      "metadata": {
        "id": "xH6x-LoTKExk",
        "colab_type": "code",
        "outputId": "1a2e0cd6-d240-4f98-c30e-d6cbdfe9779f",
        "colab": {
          "base_uri": "https://localhost:8080/",
          "height": 73
        }
      },
      "source": [
        "#Get csv files from the drive\n",
        "for name in names:\n",
        "  for activity in activities:\n",
        "    data_map['training_map'][f'{name}_{activity}'] = list(map(lambda i: pd.read_csv(\n",
        "        f'drive/My Drive/Shared folder University/files_project/participates/{name}/{name}_is_{activity}/{i}/{name}_is_{activity}{i}.csv'), range(1,4)))\n",
        "       \n",
        "for name in names:\n",
        "  for activity in activities:\n",
        "    data_map['validation_map'][f'{name}_{activity}'] = list(map(lambda i: pd.read_csv(\n",
        "        f'drive/My Drive/Shared folder University/files_project/participates/{name}/{name}_is_{activity}/{i}/{name}_is_{activity}{i}.csv'), range(4,5)))\n",
        "       \n",
        "for name in names:\n",
        "  for activity in activities:\n",
        "    data_map['testing_map'][f'{name}_{activity}'] = list(map(lambda i: pd.read_csv(\n",
        "        f'drive/My Drive/Shared folder University/files_project/participates/{name}/{name}_is_{activity}/{i}/{name}_is_{activity}{i}.csv'), range(5,6)))\n",
        "    \n",
        "print('training_map containas: {}'.format(len(data_map['training_map']['Shay_drinking'])))\n",
        "print('validation_map containas: {}'.format(len(data_map['validation_map']['Shay_drinking'])))\n",
        "print('testing_map containas: {}'.format(len(data_map['testing_map']['Shay_drinking'])))"
      ],
      "execution_count": 0,
      "outputs": [
        {
          "output_type": "stream",
          "text": [
            "training_map containas: 3\n",
            "validation_map containas: 1\n",
            "testing_map containas: 1\n"
          ],
          "name": "stdout"
        }
      ]
    },
    {
      "cell_type": "markdown",
      "metadata": {
        "id": "pjB52mCFKkvX",
        "colab_type": "text"
      },
      "source": [
        "# Preprocessing"
      ]
    },
    {
      "cell_type": "markdown",
      "metadata": {
        "id": "Lg0PONSJLzZ_",
        "colab_type": "text"
      },
      "source": [
        "**Dealing with NA**"
      ]
    },
    {
      "cell_type": "code",
      "metadata": {
        "id": "Avv0_qzkAAT_",
        "colab_type": "code",
        "colab": {}
      },
      "source": [
        "for data_division_map in data_map:\n",
        "  for name_activity in data_map[data_division_map]:\n",
        "    for df in data_map[data_division_map][name_activity]:\n",
        "      number = round(float(df[\"Heart_Rate\"].mean()))\n",
        "      df.fillna(float(number), inplace=True)"
      ],
      "execution_count": 0,
      "outputs": []
    },
    {
      "cell_type": "markdown",
      "metadata": {
        "id": "Xcf1QqnVL71V",
        "colab_type": "text"
      },
      "source": [
        "**Shuffling activity data**"
      ]
    },
    {
      "cell_type": "code",
      "metadata": {
        "id": "sCBgUKrtzaLP",
        "colab_type": "code",
        "colab": {}
      },
      "source": [
        "def random_activity(l):\n",
        "    random.shuffle(l)\n",
        "    return iter(l)"
      ],
      "execution_count": 0,
      "outputs": []
    },
    {
      "cell_type": "code",
      "metadata": {
        "id": "Y5ycTgbbtZWt",
        "colab_type": "code",
        "colab": {}
      },
      "source": [
        "#concat all dataframes\n",
        "for name in names:\n",
        "  data_map['training_map'][name] = []\n",
        "  for i in range(0,3):\n",
        "    name_activity_index_list = list()\n",
        "    for activity in random_activity(activities):\n",
        "      name_activity_index_list.append(data_map['training_map'][f'{name}_{activity}'][i])\n",
        "    data_map['training_map'][name].append(pd.concat(name_activity_index_list))\n",
        "  data_map['training_map'][name] = pd.concat(data_map['training_map'][name])\n",
        "    \n",
        "for name in names:\n",
        "  data_map['validation_map'][name] = []\n",
        "  for i in range(0,1):\n",
        "    name_activity_index_list = list()\n",
        "    for activity in random_activity(activities):\n",
        "      name_activity_index_list.append(data_map['validation_map'][f'{name}_{activity}'][i])\n",
        "    data_map['validation_map'][name].append(pd.concat(name_activity_index_list))   \n",
        "  data_map['validation_map'][name] = pd.concat(data_map['validation_map'][name])\n",
        "    \n",
        "    \n",
        "for name in names:\n",
        "  data_map['testing_map'][name] = []\n",
        "  for i in range(0,1):\n",
        "    name_activity_index_list = list()\n",
        "    for activity in random_activity(activities):\n",
        "      name_activity_index_list.append(data_map['testing_map'][f'{name}_{activity}'][i])\n",
        "    data_map['testing_map'][name].append(pd.concat(name_activity_index_list))\n",
        "  data_map['testing_map'][name] = pd.concat(data_map['testing_map'][name])\n",
        "    "
      ],
      "execution_count": 0,
      "outputs": []
    },
    {
      "cell_type": "code",
      "metadata": {
        "colab_type": "code",
        "id": "_20qatqiEDKf",
        "colab": {}
      },
      "source": [
        "#concat inter dataframes\n",
        "for data_division_map in data_map:  \n",
        "  data_map[data_division_map] = pd.concat([value for key, value in data_map[data_division_map].items() if key in names])"
      ],
      "execution_count": 0,
      "outputs": []
    },
    {
      "cell_type": "code",
      "metadata": {
        "id": "efmo6jHTd2zw",
        "colab_type": "code",
        "colab": {}
      },
      "source": [
        "#copy data sets into variables\n",
        "training_set = data_map['training_map'].copy()\n",
        "validation_set = data_map['validation_map'].copy()\n",
        "testing_set = data_map['testing_map'].copy()\n",
        "\n",
        "del(data_map)"
      ],
      "execution_count": 0,
      "outputs": []
    },
    {
      "cell_type": "markdown",
      "metadata": {
        "id": "kO_cgWozM4lH",
        "colab_type": "text"
      },
      "source": [
        "**Data sets size**"
      ]
    },
    {
      "cell_type": "code",
      "metadata": {
        "id": "plhfLF1rcbAI",
        "colab_type": "code",
        "outputId": "a316b219-2dfb-4a31-94ae-89589122b7ef",
        "colab": {
          "base_uri": "https://localhost:8080/",
          "height": 1017
        }
      },
      "source": [
        "print('Training size is: {}'.format(len(training_set)))\n",
        "print(training_set.isnull().sum())\n",
        "\n",
        "print('validation size is: {}'.format(len(validation_set)))\n",
        "print(validation_set.isnull().sum())\n",
        "\n",
        "print('testing size is: {}'.format(len(testing_set)))\n",
        "print(testing_set.isnull().sum())"
      ],
      "execution_count": 0,
      "outputs": [
        {
          "output_type": "stream",
          "text": [
            "Training size is: 73885\n",
            "ID            0\n",
            "Time          0\n",
            "Acce_X        0\n",
            "Acce_Y        0\n",
            "Acce_Z        0\n",
            "Gyro_X        0\n",
            "Gyro_Y        0\n",
            "Gyro_Z        0\n",
            "Gravity_X     0\n",
            "Gravity_Y     0\n",
            "Gravity_Z     0\n",
            "Roll          0\n",
            "Pitch         0\n",
            "Yaw           0\n",
            "Heart_Rate    0\n",
            "Activity      0\n",
            "dtype: int64\n",
            "validation size is: 24560\n",
            "ID            0\n",
            "Time          0\n",
            "Acce_X        0\n",
            "Acce_Y        0\n",
            "Acce_Z        0\n",
            "Gyro_X        0\n",
            "Gyro_Y        0\n",
            "Gyro_Z        0\n",
            "Gravity_X     0\n",
            "Gravity_Y     0\n",
            "Gravity_Z     0\n",
            "Roll          0\n",
            "Pitch         0\n",
            "Yaw           0\n",
            "Heart_Rate    0\n",
            "Activity      0\n",
            "dtype: int64\n",
            "testing size is: 24547\n",
            "ID            0\n",
            "Time          0\n",
            "Acce_X        0\n",
            "Acce_Y        0\n",
            "Acce_Z        0\n",
            "Gyro_X        0\n",
            "Gyro_Y        0\n",
            "Gyro_Z        0\n",
            "Gravity_X     0\n",
            "Gravity_Y     0\n",
            "Gravity_Z     0\n",
            "Roll          0\n",
            "Pitch         0\n",
            "Yaw           0\n",
            "Heart_Rate    0\n",
            "Activity      0\n",
            "dtype: int64\n"
          ],
          "name": "stdout"
        }
      ]
    },
    {
      "cell_type": "code",
      "metadata": {
        "id": "6vtcuxMocpa6",
        "colab_type": "code",
        "outputId": "4ffe8a92-9c62-4210-b937-1471cf344862",
        "colab": {
          "base_uri": "https://localhost:8080/",
          "height": 206
        }
      },
      "source": [
        "training_set.head()"
      ],
      "execution_count": 0,
      "outputs": [
        {
          "output_type": "execute_result",
          "data": {
            "text/html": [
              "<div>\n",
              "<style scoped>\n",
              "    .dataframe tbody tr th:only-of-type {\n",
              "        vertical-align: middle;\n",
              "    }\n",
              "\n",
              "    .dataframe tbody tr th {\n",
              "        vertical-align: top;\n",
              "    }\n",
              "\n",
              "    .dataframe thead th {\n",
              "        text-align: right;\n",
              "    }\n",
              "</style>\n",
              "<table border=\"1\" class=\"dataframe\">\n",
              "  <thead>\n",
              "    <tr style=\"text-align: right;\">\n",
              "      <th></th>\n",
              "      <th>ID</th>\n",
              "      <th>Time</th>\n",
              "      <th>Acce_X</th>\n",
              "      <th>Acce_Y</th>\n",
              "      <th>Acce_Z</th>\n",
              "      <th>Gyro_X</th>\n",
              "      <th>Gyro_Y</th>\n",
              "      <th>Gyro_Z</th>\n",
              "      <th>Gravity_X</th>\n",
              "      <th>Gravity_Y</th>\n",
              "      <th>Gravity_Z</th>\n",
              "      <th>Roll</th>\n",
              "      <th>Pitch</th>\n",
              "      <th>Yaw</th>\n",
              "      <th>Heart_Rate</th>\n",
              "      <th>Activity</th>\n",
              "    </tr>\n",
              "  </thead>\n",
              "  <tbody>\n",
              "    <tr>\n",
              "      <th>0</th>\n",
              "      <td>1</td>\n",
              "      <td>23:43:20</td>\n",
              "      <td>-0.005302</td>\n",
              "      <td>0.069434</td>\n",
              "      <td>-0.006347</td>\n",
              "      <td>-0.013547</td>\n",
              "      <td>0.068892</td>\n",
              "      <td>0.047487</td>\n",
              "      <td>-0.033394</td>\n",
              "      <td>-0.466575</td>\n",
              "      <td>-0.883851</td>\n",
              "      <td>-0.037764</td>\n",
              "      <td>0.485414</td>\n",
              "      <td>0.023731</td>\n",
              "      <td>97.0</td>\n",
              "      <td>Eating</td>\n",
              "    </tr>\n",
              "    <tr>\n",
              "      <th>1</th>\n",
              "      <td>1</td>\n",
              "      <td>23:43:20</td>\n",
              "      <td>-0.017203</td>\n",
              "      <td>-0.026889</td>\n",
              "      <td>0.032106</td>\n",
              "      <td>-0.271205</td>\n",
              "      <td>0.053302</td>\n",
              "      <td>-0.096806</td>\n",
              "      <td>-0.036737</td>\n",
              "      <td>-0.407544</td>\n",
              "      <td>-0.912446</td>\n",
              "      <td>-0.040240</td>\n",
              "      <td>0.419763</td>\n",
              "      <td>0.027608</td>\n",
              "      <td>97.0</td>\n",
              "      <td>Eating</td>\n",
              "    </tr>\n",
              "    <tr>\n",
              "      <th>2</th>\n",
              "      <td>1</td>\n",
              "      <td>23:43:20</td>\n",
              "      <td>0.029220</td>\n",
              "      <td>-0.004958</td>\n",
              "      <td>0.023766</td>\n",
              "      <td>-0.494237</td>\n",
              "      <td>0.182189</td>\n",
              "      <td>-0.150301</td>\n",
              "      <td>-0.023696</td>\n",
              "      <td>-0.410737</td>\n",
              "      <td>-0.911446</td>\n",
              "      <td>-0.025993</td>\n",
              "      <td>0.423262</td>\n",
              "      <td>0.018149</td>\n",
              "      <td>97.0</td>\n",
              "      <td>Eating</td>\n",
              "    </tr>\n",
              "    <tr>\n",
              "      <th>3</th>\n",
              "      <td>1</td>\n",
              "      <td>23:43:20</td>\n",
              "      <td>-0.004877</td>\n",
              "      <td>-0.041613</td>\n",
              "      <td>0.114092</td>\n",
              "      <td>-2.864770</td>\n",
              "      <td>0.324890</td>\n",
              "      <td>-0.245656</td>\n",
              "      <td>-0.003317</td>\n",
              "      <td>-0.272840</td>\n",
              "      <td>-0.962054</td>\n",
              "      <td>-0.003447</td>\n",
              "      <td>0.276344</td>\n",
              "      <td>-0.005113</td>\n",
              "      <td>97.0</td>\n",
              "      <td>Eating</td>\n",
              "    </tr>\n",
              "    <tr>\n",
              "      <th>4</th>\n",
              "      <td>1</td>\n",
              "      <td>23:43:20</td>\n",
              "      <td>0.052879</td>\n",
              "      <td>0.175582</td>\n",
              "      <td>0.079380</td>\n",
              "      <td>-3.977975</td>\n",
              "      <td>0.447533</td>\n",
              "      <td>0.117153</td>\n",
              "      <td>0.031776</td>\n",
              "      <td>0.111878</td>\n",
              "      <td>-0.993214</td>\n",
              "      <td>0.031982</td>\n",
              "      <td>-0.112113</td>\n",
              "      <td>0.002616</td>\n",
              "      <td>97.0</td>\n",
              "      <td>Eating</td>\n",
              "    </tr>\n",
              "  </tbody>\n",
              "</table>\n",
              "</div>"
            ],
            "text/plain": [
              "   ID      Time    Acce_X    Acce_Y  ...     Pitch       Yaw  Heart_Rate  Activity\n",
              "0   1  23:43:20 -0.005302  0.069434  ...  0.485414  0.023731        97.0    Eating\n",
              "1   1  23:43:20 -0.017203 -0.026889  ...  0.419763  0.027608        97.0    Eating\n",
              "2   1  23:43:20  0.029220 -0.004958  ...  0.423262  0.018149        97.0    Eating\n",
              "3   1  23:43:20 -0.004877 -0.041613  ...  0.276344 -0.005113        97.0    Eating\n",
              "4   1  23:43:20  0.052879  0.175582  ... -0.112113  0.002616        97.0    Eating\n",
              "\n",
              "[5 rows x 16 columns]"
            ]
          },
          "metadata": {
            "tags": []
          },
          "execution_count": 11
        }
      ]
    },
    {
      "cell_type": "markdown",
      "metadata": {
        "id": "5elfNI-v19Ij",
        "colab_type": "text"
      },
      "source": [
        "#Adding features extraction "
      ]
    },
    {
      "cell_type": "code",
      "metadata": {
        "id": "U6_bux48Eoh3",
        "colab_type": "code",
        "colab": {}
      },
      "source": [
        "training_set_eval = training_set.copy()\n",
        "validation_set_eval = validation_set.copy()\n",
        "testing_set_eval = testing_set.copy()"
      ],
      "execution_count": 0,
      "outputs": []
    },
    {
      "cell_type": "code",
      "metadata": {
        "id": "DlQFtbs8GzvC",
        "colab_type": "code",
        "outputId": "1733a773-82be-4003-a15f-60b00661e4ec",
        "colab": {
          "base_uri": "https://localhost:8080/",
          "height": 36
        }
      },
      "source": [
        "training_set_eval.shape[0]"
      ],
      "execution_count": 0,
      "outputs": [
        {
          "output_type": "execute_result",
          "data": {
            "text/plain": [
              "73885"
            ]
          },
          "metadata": {
            "tags": []
          },
          "execution_count": 13
        }
      ]
    },
    {
      "cell_type": "code",
      "metadata": {
        "id": "D0xABqx_3mAp",
        "colab_type": "code",
        "colab": {}
      },
      "source": [
        "def create_features(dataFrame):\n",
        "  #vector features\n",
        "  dataFrame['length_acce'] = dataFrame.apply(lambda row: math.sqrt(math.pow(row['Acce_X'], 2) + math.pow(row['Acce_Y'],2) + math.pow(row['Acce_Z'],2)) , axis = 1) \n",
        "\n",
        "  dataFrame['length_gyro'] = dataFrame.apply(lambda row: math.sqrt(math.pow(row['Gyro_X'], 2) + math.pow(row['Gyro_Y'],2) + math.pow(row['Gyro_Z'],2)) , axis = 1) \n",
        "\n",
        "  #dataFrame['length_gravity'] = dataFrame.apply(lambda row: math.sqrt(math.pow(row['Gravity_X'], 2) + math.pow(row['Gravity_Y'],2) + math.pow(row['Gravity_Z'],2)), axis = 1) \n",
        "\n",
        "  dataFrame['direction_acce'] = dataFrame.apply(lambda row: math.asin(row['Acce_Y']/row['length_acce']) , axis = 1) \n",
        "\n",
        "  dataFrame['direction_gyro'] = dataFrame.apply(lambda row: math.asin(row['Gyro_Y']/row['length_gyro']) , axis = 1) \n",
        "\n",
        "  dataFrame['direction_gravity'] = dataFrame.apply(lambda row: math.asin(row['Gravity_Y']) , axis = 1) \n",
        "  \n",
        "  dataFrame['gyro_along_gravity'] = dataFrame.apply(lambda row: (row['Gyro_X']*row['Gravity_X']) + (row['Gyro_Y']*row['Gravity_Y']) + (row['Gyro_Z']*row['Gravity_Z']) , axis = 1) \n",
        "  \n",
        "  #statistical features\n",
        "  dataFrame['mean_acce'] = dataFrame.apply(lambda row: np.mean([row['Acce_X'], row['Acce_Y'], row['Acce_Z']]), axis = 1) \n",
        "\n",
        "  dataFrame['std_acce'] = dataFrame.apply(lambda row: np.std([row['Acce_X'], row['Acce_Y'], row['Acce_Z']]), axis = 1) \n",
        "  \n",
        "  dataFrame['mean_gyro'] = dataFrame.apply(lambda row: np.mean([row['Gyro_X'], row['Gyro_Y'], row['Gyro_Z']]), axis = 1) \n",
        "\n",
        "  dataFrame['std_gyro'] = dataFrame.apply(lambda row: np.std([row['Gyro_X'], row['Gyro_Y'], row['Gyro_Z']]), axis = 1) \n",
        "  \n",
        "  dataFrame['mean_gravity'] = dataFrame.apply(lambda row: np.mean([row['Gravity_X'], row['Gravity_Y'], row['Gravity_Z']]), axis = 1) \n",
        "\n",
        "  dataFrame['std_gravity'] = dataFrame.apply(lambda row: np.std([row['Gravity_X'], row['Gravity_Y'], row['Gravity_Z']]), axis = 1) \n",
        "  \n",
        "  dataFrame['mean_rpy'] = dataFrame.apply(lambda row: np.mean([row['Roll'], row['Pitch'], row['Yaw']]), axis = 1) \n",
        "\n",
        "  dataFrame['std_rpy'] = dataFrame.apply(lambda row: np.std([row['Roll'], row['Pitch'], row['Yaw']]), axis = 1) \n",
        "  \n",
        "  dataFrame.drop(['Heart_Rate'],axis=1, inplace=True)  \n",
        "  \n",
        "  return dataFrame"
      ],
      "execution_count": 0,
      "outputs": []
    },
    {
      "cell_type": "code",
      "metadata": {
        "id": "nU9llPmCbIBD",
        "colab_type": "code",
        "colab": {}
      },
      "source": [
        "training_set_eval = create_features(training_set_eval)\n",
        "\n",
        "validation_set_eval = create_features(validation_set_eval)\n",
        "\n",
        "testing_set_eval = create_features(testing_set_eval)"
      ],
      "execution_count": 0,
      "outputs": []
    },
    {
      "cell_type": "code",
      "metadata": {
        "id": "nUgIdTdjbbfj",
        "colab_type": "code",
        "outputId": "1797dd8a-e78c-4a96-d804-b5b26456352a",
        "colab": {
          "base_uri": "https://localhost:8080/",
          "height": 226
        }
      },
      "source": [
        "training_set_eval.head()"
      ],
      "execution_count": 0,
      "outputs": [
        {
          "output_type": "execute_result",
          "data": {
            "text/html": [
              "<div>\n",
              "<style scoped>\n",
              "    .dataframe tbody tr th:only-of-type {\n",
              "        vertical-align: middle;\n",
              "    }\n",
              "\n",
              "    .dataframe tbody tr th {\n",
              "        vertical-align: top;\n",
              "    }\n",
              "\n",
              "    .dataframe thead th {\n",
              "        text-align: right;\n",
              "    }\n",
              "</style>\n",
              "<table border=\"1\" class=\"dataframe\">\n",
              "  <thead>\n",
              "    <tr style=\"text-align: right;\">\n",
              "      <th></th>\n",
              "      <th>ID</th>\n",
              "      <th>Time</th>\n",
              "      <th>Acce_X</th>\n",
              "      <th>Acce_Y</th>\n",
              "      <th>Acce_Z</th>\n",
              "      <th>Gyro_X</th>\n",
              "      <th>Gyro_Y</th>\n",
              "      <th>Gyro_Z</th>\n",
              "      <th>Gravity_X</th>\n",
              "      <th>Gravity_Y</th>\n",
              "      <th>Gravity_Z</th>\n",
              "      <th>Roll</th>\n",
              "      <th>Pitch</th>\n",
              "      <th>Yaw</th>\n",
              "      <th>Activity</th>\n",
              "      <th>length_acce</th>\n",
              "      <th>length_gyro</th>\n",
              "      <th>direction_acce</th>\n",
              "      <th>direction_gyro</th>\n",
              "      <th>direction_gravity</th>\n",
              "      <th>gyro_along_gravity</th>\n",
              "      <th>mean_acce</th>\n",
              "      <th>std_acce</th>\n",
              "      <th>mean_gyro</th>\n",
              "      <th>std_gyro</th>\n",
              "      <th>mean_gravity</th>\n",
              "      <th>std_gravity</th>\n",
              "      <th>mean_rpy</th>\n",
              "      <th>std_rpy</th>\n",
              "    </tr>\n",
              "  </thead>\n",
              "  <tbody>\n",
              "    <tr>\n",
              "      <th>0</th>\n",
              "      <td>1</td>\n",
              "      <td>23:43:20</td>\n",
              "      <td>-0.005302</td>\n",
              "      <td>0.069434</td>\n",
              "      <td>-0.006347</td>\n",
              "      <td>-0.013547</td>\n",
              "      <td>0.068892</td>\n",
              "      <td>0.047487</td>\n",
              "      <td>-0.033394</td>\n",
              "      <td>-0.466575</td>\n",
              "      <td>-0.883851</td>\n",
              "      <td>-0.037764</td>\n",
              "      <td>0.485414</td>\n",
              "      <td>0.023731</td>\n",
              "      <td>Eating</td>\n",
              "      <td>0.069925</td>\n",
              "      <td>0.084763</td>\n",
              "      <td>1.452248</td>\n",
              "      <td>0.948887</td>\n",
              "      <td>-0.485414</td>\n",
              "      <td>-0.073663</td>\n",
              "      <td>0.019262</td>\n",
              "      <td>0.035480</td>\n",
              "      <td>0.034277</td>\n",
              "      <td>0.034928</td>\n",
              "      <td>-0.461273</td>\n",
              "      <td>0.347218</td>\n",
              "      <td>0.157127</td>\n",
              "      <td>0.233488</td>\n",
              "    </tr>\n",
              "    <tr>\n",
              "      <th>1</th>\n",
              "      <td>1</td>\n",
              "      <td>23:43:20</td>\n",
              "      <td>-0.017203</td>\n",
              "      <td>-0.026889</td>\n",
              "      <td>0.032106</td>\n",
              "      <td>-0.271205</td>\n",
              "      <td>0.053302</td>\n",
              "      <td>-0.096806</td>\n",
              "      <td>-0.036737</td>\n",
              "      <td>-0.407544</td>\n",
              "      <td>-0.912446</td>\n",
              "      <td>-0.040240</td>\n",
              "      <td>0.419763</td>\n",
              "      <td>0.027608</td>\n",
              "      <td>Eating</td>\n",
              "      <td>0.045274</td>\n",
              "      <td>0.292856</td>\n",
              "      <td>-0.635913</td>\n",
              "      <td>0.183029</td>\n",
              "      <td>-0.419763</td>\n",
              "      <td>0.076571</td>\n",
              "      <td>-0.003995</td>\n",
              "      <td>0.025832</td>\n",
              "      <td>-0.104903</td>\n",
              "      <td>0.132603</td>\n",
              "      <td>-0.452242</td>\n",
              "      <td>0.358901</td>\n",
              "      <td>0.135710</td>\n",
              "      <td>0.202756</td>\n",
              "    </tr>\n",
              "    <tr>\n",
              "      <th>2</th>\n",
              "      <td>1</td>\n",
              "      <td>23:43:20</td>\n",
              "      <td>0.029220</td>\n",
              "      <td>-0.004958</td>\n",
              "      <td>0.023766</td>\n",
              "      <td>-0.494237</td>\n",
              "      <td>0.182189</td>\n",
              "      <td>-0.150301</td>\n",
              "      <td>-0.023696</td>\n",
              "      <td>-0.410737</td>\n",
              "      <td>-0.911446</td>\n",
              "      <td>-0.025993</td>\n",
              "      <td>0.423262</td>\n",
              "      <td>0.018149</td>\n",
              "      <td>Eating</td>\n",
              "      <td>0.037990</td>\n",
              "      <td>0.547771</td>\n",
              "      <td>-0.130889</td>\n",
              "      <td>0.339060</td>\n",
              "      <td>-0.423262</td>\n",
              "      <td>0.073871</td>\n",
              "      <td>0.016009</td>\n",
              "      <td>0.014993</td>\n",
              "      <td>-0.154116</td>\n",
              "      <td>0.276163</td>\n",
              "      <td>-0.448626</td>\n",
              "      <td>0.363411</td>\n",
              "      <td>0.138473</td>\n",
              "      <td>0.202181</td>\n",
              "    </tr>\n",
              "    <tr>\n",
              "      <th>3</th>\n",
              "      <td>1</td>\n",
              "      <td>23:43:20</td>\n",
              "      <td>-0.004877</td>\n",
              "      <td>-0.041613</td>\n",
              "      <td>0.114092</td>\n",
              "      <td>-2.864770</td>\n",
              "      <td>0.324890</td>\n",
              "      <td>-0.245656</td>\n",
              "      <td>-0.003317</td>\n",
              "      <td>-0.272840</td>\n",
              "      <td>-0.962054</td>\n",
              "      <td>-0.003447</td>\n",
              "      <td>0.276344</td>\n",
              "      <td>-0.005113</td>\n",
              "      <td>Eating</td>\n",
              "      <td>0.121542</td>\n",
              "      <td>2.893580</td>\n",
              "      <td>-0.349444</td>\n",
              "      <td>0.112517</td>\n",
              "      <td>-0.276344</td>\n",
              "      <td>0.157193</td>\n",
              "      <td>0.022534</td>\n",
              "      <td>0.066456</td>\n",
              "      <td>-0.928512</td>\n",
              "      <td>1.388813</td>\n",
              "      <td>-0.412737</td>\n",
              "      <td>0.403710</td>\n",
              "      <td>0.089261</td>\n",
              "      <td>0.132289</td>\n",
              "    </tr>\n",
              "    <tr>\n",
              "      <th>4</th>\n",
              "      <td>1</td>\n",
              "      <td>23:43:20</td>\n",
              "      <td>0.052879</td>\n",
              "      <td>0.175582</td>\n",
              "      <td>0.079380</td>\n",
              "      <td>-3.977975</td>\n",
              "      <td>0.447533</td>\n",
              "      <td>0.117153</td>\n",
              "      <td>0.031776</td>\n",
              "      <td>0.111878</td>\n",
              "      <td>-0.993214</td>\n",
              "      <td>0.031982</td>\n",
              "      <td>-0.112113</td>\n",
              "      <td>0.002616</td>\n",
              "      <td>Eating</td>\n",
              "      <td>0.199817</td>\n",
              "      <td>4.004784</td>\n",
              "      <td>1.073171</td>\n",
              "      <td>0.111983</td>\n",
              "      <td>0.112112</td>\n",
              "      <td>-0.192694</td>\n",
              "      <td>0.102614</td>\n",
              "      <td>0.052719</td>\n",
              "      <td>-1.137763</td>\n",
              "      <td>2.012857</td>\n",
              "      <td>-0.283187</td>\n",
              "      <td>0.503129</td>\n",
              "      <td>-0.025838</td>\n",
              "      <td>0.062172</td>\n",
              "    </tr>\n",
              "  </tbody>\n",
              "</table>\n",
              "</div>"
            ],
            "text/plain": [
              "   ID      Time    Acce_X  ...  std_gravity  mean_rpy   std_rpy\n",
              "0   1  23:43:20 -0.005302  ...     0.347218  0.157127  0.233488\n",
              "1   1  23:43:20 -0.017203  ...     0.358901  0.135710  0.202756\n",
              "2   1  23:43:20  0.029220  ...     0.363411  0.138473  0.202181\n",
              "3   1  23:43:20 -0.004877  ...     0.403710  0.089261  0.132289\n",
              "4   1  23:43:20  0.052879  ...     0.503129 -0.025838  0.062172\n",
              "\n",
              "[5 rows x 29 columns]"
            ]
          },
          "metadata": {
            "tags": []
          },
          "execution_count": 16
        }
      ]
    },
    {
      "cell_type": "code",
      "metadata": {
        "id": "FpHPPqQK2-1Q",
        "colab_type": "code",
        "colab": {}
      },
      "source": [
        "#copy data sets into variables\n",
        "training_set = training_set_eval.copy()\n",
        "validation_set = validation_set_eval.copy()\n",
        "testing_set = testing_set_eval.copy()\n",
        "\n",
        "del(training_set_eval)\n",
        "del(validation_set_eval)\n",
        "del(testing_set_eval)"
      ],
      "execution_count": 0,
      "outputs": []
    },
    {
      "cell_type": "code",
      "metadata": {
        "id": "N08EUzVhHoPn",
        "colab_type": "code",
        "colab": {}
      },
      "source": [
        "#training_set.to_csv('drive/My Drive/Shared folder University/files_project/training_set.csv',index=False)"
      ],
      "execution_count": 0,
      "outputs": []
    },
    {
      "cell_type": "markdown",
      "metadata": {
        "id": "tTVtho5KM_wp",
        "colab_type": "text"
      },
      "source": [
        "#Data visualization"
      ]
    },
    {
      "cell_type": "code",
      "metadata": {
        "id": "oc7oZl2Eco-l",
        "colab_type": "code",
        "outputId": "1e850c52-027c-49f0-fda1-15a078cf6102",
        "colab": {
          "base_uri": "https://localhost:8080/",
          "height": 607
        }
      },
      "source": [
        "# Show how many training examples exist for each of the six activities\n",
        "training_set['Activity'].value_counts().plot(kind='bar', title='Training Examples by Activity Type')\n",
        "plt.show()\n",
        "\n",
        "# Better understand how the recordings are spread across the different\n",
        "# users who participated in the study\n",
        "training_set['ID'].value_counts().plot(kind='bar', title='Training Examples by User')\n",
        "plt.show()"
      ],
      "execution_count": 0,
      "outputs": [
        {
          "output_type": "display_data",
          "data": {
            "image/png": "[encoded data removed]",
            "text/plain": [
              "<Figure size 432x288 with 1 Axes>"
            ]
          },
          "metadata": {
            "tags": []
          }
        },
        {
          "output_type": "display_data",
          "data": {
            "image/png": "[encoded data removed]",
            "text/plain": [
              "<Figure size 432x288 with 1 Axes>"
            ]
          },
          "metadata": {
            "tags": []
          }
        }
      ]
    },
    {
      "cell_type": "code",
      "metadata": {
        "id": "fVsefq54UQm5",
        "colab_type": "code",
        "colab": {}
      },
      "source": [
        "def plot_activity(activity, data):\n",
        "    fig, (ax0,ax1,ax2,ax3,ax4,ax5) = plt.subplots(nrows=6,\n",
        "         figsize=(15, 10),\n",
        "         sharex=True)\n",
        "    plot_axis(ax0, data['Time'], data['Acce_X'], 'Acc-X-Axis')\n",
        "    plot_axis(ax1, data['Time'], data['Acce_Y'], 'Acc-Y-Axis')\n",
        "    plot_axis(ax2, data['Time'], data['Acce_Z'], 'Acc-Z-Axis')\n",
        "    plot_axis(ax3, data['Time'], data['Gyro_X'], 'Gyro-X-Axis')\n",
        "    plot_axis(ax4, data['Time'], data['Gyro_Y'], 'Gyro-Y-Axis')\n",
        "    plot_axis(ax5, data['Time'], data['Gyro_Z'], 'Gyro-Z-Axis')\n",
        "    plt.subplots_adjust(hspace=0.2)\n",
        "    fig.suptitle(activity)\n",
        "    plt.subplots_adjust(top=0.9)\n",
        "    plt.show()"
      ],
      "execution_count": 0,
      "outputs": []
    },
    {
      "cell_type": "code",
      "metadata": {
        "id": "Ws1AE5hhmQfn",
        "colab_type": "code",
        "colab": {}
      },
      "source": [
        "def plot_axis(ax, x, y, title):\n",
        "    ax.plot(x, y, 'r')\n",
        "    ax.set_title(title)\n",
        "    ax.xaxis.set_visible(False)\n",
        "    ax.set_ylim([min(y) - np.std(y), max(y) + np.std(y)])\n",
        "    ax.set_xlim([min(x), max(x)])\n",
        "    ax.grid(True)"
      ],
      "execution_count": 0,
      "outputs": []
    },
    {
      "cell_type": "code",
      "metadata": {
        "id": "RxFlpGKemTog",
        "colab_type": "code",
        "outputId": "979943cf-c34e-4812-9145-b101b0957547",
        "colab": {
          "base_uri": "https://localhost:8080/",
          "height": 650
        }
      },
      "source": [
        "subset = training_set[:6000]\n",
        "plot_activity('activity', subset)"
      ],
      "execution_count": 0,
      "outputs": [
        {
          "output_type": "display_data",
          "data": {
            "image/png": "[encoded data removed]",
            "text/plain": [
              "<Figure size 1080x720 with 6 Axes>"
            ]
          },
          "metadata": {
            "tags": []
          }
        }
      ]
    },
    {
      "cell_type": "markdown",
      "metadata": {
        "id": "AsofXveNN5JC",
        "colab_type": "text"
      },
      "source": [
        "#Activity Encoder"
      ]
    },
    {
      "cell_type": "code",
      "metadata": {
        "id": "CzaotmlpjdYI",
        "colab_type": "code",
        "colab": {}
      },
      "source": [
        "def create_activity_encoded(data_set, le_set):\n",
        "    # Define column name of the label vector\n",
        "    LABEL = 'ActivityEncoded'\n",
        "    # Add a new column to the existing DataFrame with the encoded values\n",
        "    data_set[LABEL] = le_set.fit_transform(data_set['Activity'].values.ravel())\n",
        "    data_set.drop('Activity', axis=1,inplace = True)\n",
        "    data_set.drop('Time', axis=1,inplace = True)\n",
        "\n",
        "    '''\n",
        "    #You need this to get back the real label\n",
        "    analyze_data[LABEL] = le_set.inverse_transform(analyze_data[LABEL].values.ravel())\n",
        "    print(analyze_data)\n",
        "    '''"
      ],
      "execution_count": 0,
      "outputs": []
    },
    {
      "cell_type": "code",
      "metadata": {
        "id": "qfjmdSetjx4G",
        "colab_type": "code",
        "colab": {}
      },
      "source": [
        "# Transform the labels from String to Integer via LabelEncoder\n",
        "le_activity = preprocessing.LabelEncoder()\n",
        "#le_validation_activity = preprocessing.LabelEncoder()\n",
        "#le_testing_activity = preprocessing.LabelEncoder()\n",
        "\n",
        "\n",
        "create_activity_encoded(training_set, le_activity)\n",
        "create_activity_encoded(validation_set, le_activity)\n",
        "create_activity_encoded(testing_set, le_activity)"
      ],
      "execution_count": 0,
      "outputs": []
    },
    {
      "cell_type": "code",
      "metadata": {
        "id": "XPFgrKmJlTL_",
        "colab_type": "code",
        "outputId": "4aaaed0e-e144-4006-e10f-afce91bf0fae",
        "colab": {
          "base_uri": "https://localhost:8080/",
          "height": 56
        }
      },
      "source": [
        "'''\n",
        "def create_time_encoded(data_set, le_set):\n",
        "    # Add a new column to the existing DataFrame with the encoded values\n",
        "    data_set['Time_Stamp'] = le_set.fit_transform(data_set['Time'].values.ravel())\n",
        "    data_set = data_set.drop('Time', axis=1, inplace = True)\n",
        "\n",
        "    \n",
        "    #You need this to get back the real label\n",
        "    data_set[LABEL] = le_set.inverse_transform(data_set[LABEL].values.ravel())\n",
        "    print(data_set)\n",
        "    \n",
        "'''"
      ],
      "execution_count": 0,
      "outputs": [
        {
          "output_type": "execute_result",
          "data": {
            "text/plain": [
              "\"\\ndef create_time_encoded(data_set, le_set):\\n    # Add a new column to the existing DataFrame with the encoded values\\n    data_set['Time_Stamp'] = le_set.fit_transform(data_set['Time'].values.ravel())\\n    data_set = data_set.drop('Time', axis=1, inplace = True)\\n\\n    \\n    #You need this to get back the real label\\n    data_set[LABEL] = le_set.inverse_transform(data_set[LABEL].values.ravel())\\n    print(data_set)\\n    \\n\""
            ]
          },
          "metadata": {
            "tags": []
          },
          "execution_count": 25
        }
      ]
    },
    {
      "cell_type": "code",
      "metadata": {
        "id": "Dk35SjaClTFV",
        "colab_type": "code",
        "outputId": "4b6f7204-2a24-4e1e-ab81-ab4f09b27e31",
        "colab": {
          "base_uri": "https://localhost:8080/",
          "height": 56
        }
      },
      "source": [
        "'''\n",
        "# Transform the time from String to Integer via LabelEncoder\n",
        "#le_training_time = preprocessing.LabelEncoder()\n",
        "#le_validation_time = preprocessing.LabelEncoder()\n",
        "#le_testing_time = preprocessing.LabelEncoder()\n",
        "le_time = preprocessing.LabelEncoder()\n",
        "\n",
        "create_time_encoded(training_set,le_time)\n",
        "create_time_encoded(validation_set,le_time)\n",
        "create_time_encoded(testing_set,le_time)\n",
        "'''"
      ],
      "execution_count": 0,
      "outputs": [
        {
          "output_type": "execute_result",
          "data": {
            "text/plain": [
              "'\\n# Transform the time from String to Integer via LabelEncoder\\n#le_training_time = preprocessing.LabelEncoder()\\n#le_validation_time = preprocessing.LabelEncoder()\\n#le_testing_time = preprocessing.LabelEncoder()\\nle_time = preprocessing.LabelEncoder()\\n\\ncreate_time_encoded(training_set,le_time)\\ncreate_time_encoded(validation_set,le_time)\\ncreate_time_encoded(testing_set,le_time)\\n'"
            ]
          },
          "metadata": {
            "tags": []
          },
          "execution_count": 26
        }
      ]
    },
    {
      "cell_type": "markdown",
      "metadata": {
        "id": "2-MDjqbj0ALi",
        "colab_type": "text"
      },
      "source": [
        "#Normalize And Standardize Time Series Data\n",
        "\n"
      ]
    },
    {
      "cell_type": "markdown",
      "metadata": {
        "id": "xciXJEWZXMAn",
        "colab_type": "text"
      },
      "source": [
        "we rescaling the data from original so the vaules are within range of 0 to 1\n",
        "\n",
        "y  = (x - mean) / std\n",
        "\n",
        "y = ( x - min) / (max - min)"
      ]
    },
    {
      "cell_type": "code",
      "metadata": {
        "id": "wFypmi9YuCel",
        "colab_type": "code",
        "outputId": "36544fb8-1f71-4c59-8ee6-223708026c0f",
        "colab": {
          "base_uri": "https://localhost:8080/",
          "height": 498
        }
      },
      "source": [
        "for column in training_set.columns[1:27]:\n",
        "    print(column)"
      ],
      "execution_count": 0,
      "outputs": [
        {
          "output_type": "stream",
          "text": [
            "Acce_X\n",
            "Acce_Y\n",
            "Acce_Z\n",
            "Gyro_X\n",
            "Gyro_Y\n",
            "Gyro_Z\n",
            "Gravity_X\n",
            "Gravity_Y\n",
            "Gravity_Z\n",
            "Roll\n",
            "Pitch\n",
            "Yaw\n",
            "length_acce\n",
            "length_gyro\n",
            "direction_acce\n",
            "direction_gyro\n",
            "direction_gravity\n",
            "gyro_along_gravity\n",
            "mean_acce\n",
            "std_acce\n",
            "mean_gyro\n",
            "std_gyro\n",
            "mean_gravity\n",
            "std_gravity\n",
            "mean_rpy\n",
            "std_rpy\n"
          ],
          "name": "stdout"
        }
      ]
    },
    {
      "cell_type": "code",
      "metadata": {
        "id": "btdi95zxocLh",
        "colab_type": "code",
        "colab": {}
      },
      "source": [
        "\n",
        "#go over the colunms in pd and do normalization and standardiztion\n",
        "for column in training_set.columns[1:27]:\n",
        "  training_set[column] = (training_set[column] - np.mean(training_set[column]))/(np.std(training_set[column]))\n",
        "  #training_set[column] = (training_set[column] - min(training_set[column])) / (max(training_set[column]) - min(training_set[column]))\n",
        "  #3 digits in decimal\n",
        "  #training_set = round(training_set,3)\n"
      ],
      "execution_count": 0,
      "outputs": []
    },
    {
      "cell_type": "code",
      "metadata": {
        "id": "iu-33mtGocDa",
        "colab_type": "code",
        "colab": {}
      },
      "source": [
        "\n",
        "#go over the colunms in pd and do normalization and standardiztion\n",
        "for column in validation_set.columns[1:27]:\n",
        "  validation_set[column] = (validation_set[column] - np.mean(validation_set[column]))/(np.std(validation_set[column]))\n",
        "  #validation_set[column] = (validation_set[column] - min(validation_set[column])) / (max(validation_set[column]) - min(validation_set[column]))\n",
        "  #3 digits in decimal\n",
        "  #validation_set = round(validation_set,3)\n"
      ],
      "execution_count": 0,
      "outputs": []
    },
    {
      "cell_type": "code",
      "metadata": {
        "id": "KMO8nnDaob59",
        "colab_type": "code",
        "colab": {}
      },
      "source": [
        "\n",
        "#go over the colunms in pd and do normalization and standardiztion\n",
        "for column in testing_set.columns[1:27]:\n",
        "  testing_set[column] = (testing_set[column] - np.mean(testing_set[column]))/(np.std(testing_set[column]))\n",
        "  #testing_set[column] = (testing_set[column] - min(testing_set[column])) / (max(testing_set[column]) - min(testing_set[column]))\n",
        "  #3 digits in decimal\n",
        "  #testing_set = round(testing_set,3)\n"
      ],
      "execution_count": 0,
      "outputs": []
    },
    {
      "cell_type": "markdown",
      "metadata": {
        "id": "l-iY5tMSPK6N",
        "colab_type": "text"
      },
      "source": [
        "#Divide into segments"
      ]
    },
    {
      "cell_type": "markdown",
      "metadata": {
        "id": "xspB8s5I53y7",
        "colab_type": "text"
      },
      "source": [
        "This function will create segments and for each segment will attaced the most significant label \n",
        "\n",
        "the size of the segment is SEGMANT_SIZE\n",
        "the size of which we moving from sgement to segment is STEP_DISTANCE\n",
        "\n"
      ]
    },
    {
      "cell_type": "code",
      "metadata": {
        "id": "pOQ74U2D7J2a",
        "colab_type": "code",
        "colab": {}
      },
      "source": [
        "def create_segments_and_labels(df, segmant_size, step, label_name):\n",
        "    # sensors as features\n",
        "    N_FEATURES = 26\n",
        "    # Number of steps to advance in each iteration (for me, it should always\n",
        "    # be equal to the segmant_size in order to have no overlap between segments)\n",
        "    # step = segmant_size\n",
        "    segments = []\n",
        "    labels = []\n",
        "    for i in range(0, len(df) - segmant_size, step):\n",
        "      append_segments = list(map(lambda row: df.iloc[row].values[1:27],range(i, i+segmant_size)))\n",
        "      segments.append(append_segments)\n",
        "      label = stats.mode(df[label_name][i: i + segmant_size])[0][0]\n",
        "      labels.append(label)\n",
        "    \n",
        "    np_segments = np.asarray(segments, dtype= np.float32).reshape(-1, segmant_size, N_FEATURES)\n",
        "    np_labels = np.asarray(labels)\n",
        "    return np_segments, np_labels"
      ],
      "execution_count": 0,
      "outputs": []
    },
    {
      "cell_type": "code",
      "metadata": {
        "id": "HcYzhba04a3e",
        "colab_type": "code",
        "colab": {}
      },
      "source": [
        "SEGMANT_SIZE = 40\n",
        "STEP_DISTANCE = 10\n",
        "LABEL = 'ActivityEncoded'\n",
        "\n",
        "x_train, y_train = create_segments_and_labels(training_set, SEGMANT_SIZE, STEP_DISTANCE, LABEL)\n",
        "x_validation, y_validation =  create_segments_and_labels(validation_set, SEGMANT_SIZE, STEP_DISTANCE, LABEL)"
      ],
      "execution_count": 0,
      "outputs": []
    },
    {
      "cell_type": "markdown",
      "metadata": {
        "id": "B1FDppeJP9xj",
        "colab_type": "text"
      },
      "source": [
        "#Training and validation data after divided into segments"
      ]
    },
    {
      "cell_type": "code",
      "metadata": {
        "id": "5OKu34Xs0rkK",
        "colab_type": "code",
        "outputId": "7bcd1aa3-0eaf-4665-da25-fcb485886364",
        "colab": {
          "base_uri": "https://localhost:8080/",
          "height": 91
        }
      },
      "source": [
        "print(len(training_set))\n",
        "print('x_train shape: ', x_train.shape)\n",
        "print(x_train.shape[0], 'training samples')\n",
        "print('y_train shape: ', y_train.shape)"
      ],
      "execution_count": 0,
      "outputs": [
        {
          "output_type": "stream",
          "text": [
            "73885\n",
            "x_train shape:  (7385, 40, 26)\n",
            "7385 training samples\n",
            "y_train shape:  (7385,)\n"
          ],
          "name": "stdout"
        }
      ]
    },
    {
      "cell_type": "code",
      "metadata": {
        "id": "QJcBasUCqVmS",
        "colab_type": "code",
        "outputId": "caf7bdda-b247-4a9f-be91-ba580fea08b6",
        "colab": {
          "base_uri": "https://localhost:8080/",
          "height": 91
        }
      },
      "source": [
        "print(len(validation_set))\n",
        "print('x_validation shape: ', x_validation.shape)\n",
        "print(x_validation.shape[0], 'training samples')\n",
        "print('y_validation shape: ', y_validation.shape)"
      ],
      "execution_count": 0,
      "outputs": [
        {
          "output_type": "stream",
          "text": [
            "24560\n",
            "x_validation shape:  (2452, 40, 26)\n",
            "2452 training samples\n",
            "y_validation shape:  (2452,)\n"
          ],
          "name": "stdout"
        }
      ]
    },
    {
      "cell_type": "code",
      "metadata": {
        "id": "OVWvMXgR19tR",
        "colab_type": "code",
        "outputId": "af2f686c-9654-4382-bb71-fd765c74b5df",
        "colab": {
          "base_uri": "https://localhost:8080/",
          "height": 36
        }
      },
      "source": [
        "# Set input & output dimensions\n",
        "num_time_periods, num_sensors = x_train.shape[1], x_train.shape[2]\n",
        "num_classes = le_activity.classes_.size\n",
        "print(list(le_activity.classes_))"
      ],
      "execution_count": 0,
      "outputs": [
        {
          "output_type": "stream",
          "text": [
            "['Drinking', 'Eating', 'On_Computer', 'On_Phone']\n"
          ],
          "name": "stdout"
        }
      ]
    },
    {
      "cell_type": "code",
      "metadata": {
        "id": "D0pkufxC-hLM",
        "colab_type": "code",
        "outputId": "6dca258e-1470-4a04-ab51-bde9403a7449",
        "colab": {
          "base_uri": "https://localhost:8080/",
          "height": 54
        }
      },
      "source": [
        "input_shape = (num_time_periods*num_sensors)\n",
        "x_train = x_train.reshape(x_train.shape[0], input_shape)\n",
        "print('x_train shape:', x_train.shape)\n",
        "print('input_shape:', input_shape)"
      ],
      "execution_count": 0,
      "outputs": [
        {
          "output_type": "stream",
          "text": [
            "x_train shape: (7385, 1040)\n",
            "input_shape: 1040\n"
          ],
          "name": "stdout"
        }
      ]
    },
    {
      "cell_type": "code",
      "metadata": {
        "id": "RYVInCUrqqxM",
        "colab_type": "code",
        "outputId": "16624570-0c00-4360-9d4d-264548f8050f",
        "colab": {
          "base_uri": "https://localhost:8080/",
          "height": 54
        }
      },
      "source": [
        "x_validation = x_validation.reshape(x_validation.shape[0], input_shape)\n",
        "print('x_validation shape:', x_validation.shape)\n",
        "print('input_shape_validation:', input_shape)"
      ],
      "execution_count": 0,
      "outputs": [
        {
          "output_type": "stream",
          "text": [
            "x_validation shape: (2452, 1040)\n",
            "input_shape_validation: 1040\n"
          ],
          "name": "stdout"
        }
      ]
    },
    {
      "cell_type": "code",
      "metadata": {
        "id": "q74kCnYe_J2L",
        "colab_type": "code",
        "colab": {}
      },
      "source": [
        "x_train = x_train.astype('float32')\n",
        "y_train = y_train.astype('float32')\n",
        "x_validation = x_validation.astype('float32')\n",
        "y_validation = y_validation.astype('float32')"
      ],
      "execution_count": 0,
      "outputs": []
    },
    {
      "cell_type": "code",
      "metadata": {
        "id": "H-pnZaBz_XVI",
        "colab_type": "code",
        "outputId": "1adf758e-2d53-4b31-c89b-904d48657f30",
        "colab": {
          "base_uri": "https://localhost:8080/",
          "height": 36
        }
      },
      "source": [
        "y_train_hot_encoding = np_utils.to_categorical(y_train, num_classes)\n",
        "print('New y_train shape: ', y_train_hot_encoding.shape)"
      ],
      "execution_count": 0,
      "outputs": [
        {
          "output_type": "stream",
          "text": [
            "New y_train shape:  (7385, 4)\n"
          ],
          "name": "stdout"
        }
      ]
    },
    {
      "cell_type": "code",
      "metadata": {
        "id": "RFtQE_c_rMvE",
        "colab_type": "code",
        "outputId": "7f331b14-6378-4bfc-ab45-08737c706be2",
        "colab": {
          "base_uri": "https://localhost:8080/",
          "height": 36
        }
      },
      "source": [
        "y_validation_hot_encoding = np_utils.to_categorical(y_validation, num_classes)\n",
        "print('New y_validation shape: ', y_validation_hot_encoding.shape)"
      ],
      "execution_count": 0,
      "outputs": [
        {
          "output_type": "stream",
          "text": [
            "New y_validation shape:  (2452, 4)\n"
          ],
          "name": "stdout"
        }
      ]
    },
    {
      "cell_type": "markdown",
      "metadata": {
        "id": "-FNo7dLgV-J5",
        "colab_type": "text"
      },
      "source": [
        "#Divide test data into segments"
      ]
    },
    {
      "cell_type": "code",
      "metadata": {
        "id": "bhYY33cJWKX1",
        "colab_type": "code",
        "colab": {}
      },
      "source": [
        "x_test, y_test = create_segments_and_labels(testing_set, SEGMANT_SIZE, STEP_DISTANCE, LABEL)"
      ],
      "execution_count": 0,
      "outputs": []
    },
    {
      "cell_type": "code",
      "metadata": {
        "id": "JckJ6SQBWOG_",
        "colab_type": "code",
        "outputId": "ca8a182a-ba15-427b-cc91-99d4875af30e",
        "colab": {
          "base_uri": "https://localhost:8080/",
          "height": 91
        }
      },
      "source": [
        "print(len(testing_set))\n",
        "print('x_test shape: ', x_test.shape)\n",
        "print(x_test.shape[0], 'training samples')\n",
        "print('y_test shape: ', y_test.shape)"
      ],
      "execution_count": 0,
      "outputs": [
        {
          "output_type": "stream",
          "text": [
            "24547\n",
            "x_test shape:  (2451, 40, 26)\n",
            "2451 training samples\n",
            "y_test shape:  (2451,)\n"
          ],
          "name": "stdout"
        }
      ]
    },
    {
      "cell_type": "code",
      "metadata": {
        "id": "I56Rc0-RWPZi",
        "colab_type": "code",
        "outputId": "b4e44e1e-77c5-41ad-b7bf-f358e65c1fd4",
        "colab": {
          "base_uri": "https://localhost:8080/",
          "height": 54
        }
      },
      "source": [
        "x_test = x_test.reshape(x_test.shape[0], input_shape)\n",
        "print('x_test shape:', x_test.shape)\n",
        "print('input_shape_test:', input_shape)"
      ],
      "execution_count": 0,
      "outputs": [
        {
          "output_type": "stream",
          "text": [
            "x_test shape: (2451, 1040)\n",
            "input_shape_test: 1040\n"
          ],
          "name": "stdout"
        }
      ]
    },
    {
      "cell_type": "code",
      "metadata": {
        "id": "nZyLzjtIWRNK",
        "colab_type": "code",
        "colab": {}
      },
      "source": [
        "x_test = x_test.astype('float32')\n",
        "y_test = y_test.astype('float32')"
      ],
      "execution_count": 0,
      "outputs": []
    },
    {
      "cell_type": "code",
      "metadata": {
        "id": "F3TY_qjWWSuw",
        "colab_type": "code",
        "colab": {}
      },
      "source": [
        "#y_test_hot_encoding = np_utils.to_categorical(y_test, num_classes)\n",
        "#print('New y_test shape: ', y_test_hot_encoding.shape)"
      ],
      "execution_count": 0,
      "outputs": []
    },
    {
      "cell_type": "markdown",
      "metadata": {
        "id": "8KQLycKnXtSc",
        "colab_type": "text"
      },
      "source": [
        "#ML approch"
      ]
    },
    {
      "cell_type": "code",
      "metadata": {
        "id": "JJ7tPt3gQkDo",
        "colab_type": "code",
        "colab": {}
      },
      "source": [
        "# spot check ml algorithms on engineered-features from the har dataset\n",
        "from pandas import read_csv\n",
        "from sklearn.ensemble import RandomForestClassifier\n",
        "from xgboost import XGBClassifier"
      ],
      "execution_count": 0,
      "outputs": []
    },
    {
      "cell_type": "markdown",
      "metadata": {
        "id": "slFliZ53YJID",
        "colab_type": "text"
      },
      "source": [
        "#Random Forest Classifier"
      ]
    },
    {
      "cell_type": "code",
      "metadata": {
        "id": "GOx86A5ZYNMC",
        "colab_type": "code",
        "outputId": "37a6d92e-52dc-44a0-8f84-fa955374c0bf",
        "colab": {
          "base_uri": "https://localhost:8080/",
          "height": 147
        }
      },
      "source": [
        "rf_model = RandomForestClassifier(n_estimators=5)\n",
        "rf_model.fit(x_train, y_train)"
      ],
      "execution_count": 0,
      "outputs": [
        {
          "output_type": "execute_result",
          "data": {
            "text/plain": [
              "RandomForestClassifier(bootstrap=True, class_weight=None, criterion='gini',\n",
              "                       max_depth=None, max_features='auto', max_leaf_nodes=None,\n",
              "                       min_impurity_decrease=0.0, min_impurity_split=None,\n",
              "                       min_samples_leaf=1, min_samples_split=2,\n",
              "                       min_weight_fraction_leaf=0.0, n_estimators=5,\n",
              "                       n_jobs=None, oob_score=False, random_state=None,\n",
              "                       verbose=0, warm_start=False)"
            ]
          },
          "metadata": {
            "tags": []
          },
          "execution_count": 104
        }
      ]
    },
    {
      "cell_type": "code",
      "metadata": {
        "id": "oYnLgAQQYQhM",
        "colab_type": "code",
        "outputId": "a3b31145-b1d6-4198-a274-94caf2d54503",
        "colab": {
          "base_uri": "https://localhost:8080/",
          "height": 239
        }
      },
      "source": [
        "print(\"Random Forest Classifier model accuracy on test set is : {}\".format(rf_model.score(x_test, y_test)*100))\n",
        "rf_model_y_test_pred = rf_model.predict(x_test)\n",
        "print(classification_report(y_test, rf_model_y_test_pred))"
      ],
      "execution_count": 0,
      "outputs": [
        {
          "output_type": "stream",
          "text": [
            "Random Forest Classifier model accuracy on test set is : 65.07547939616482\n",
            "              precision    recall  f1-score   support\n",
            "\n",
            "         0.0       0.60      0.65      0.62       617\n",
            "         1.0       0.73      0.70      0.72       614\n",
            "         2.0       0.72      0.72      0.72       612\n",
            "         3.0       0.55      0.54      0.54       608\n",
            "\n",
            "    accuracy                           0.65      2451\n",
            "   macro avg       0.65      0.65      0.65      2451\n",
            "weighted avg       0.65      0.65      0.65      2451\n",
            "\n"
          ],
          "name": "stdout"
        }
      ]
    },
    {
      "cell_type": "code",
      "metadata": {
        "id": "t3bHvfvwkKsh",
        "colab_type": "code",
        "outputId": "0b8d08f2-194a-4b81-ca10-ae0ef14d4fc5",
        "colab": {
          "base_uri": "https://localhost:8080/",
          "height": 315
        }
      },
      "source": [
        "sns.heatmap(confusion_matrix(y_test, rf_model_y_test_pred),cmap='Greens',annot=True, fmt='d',\n",
        "           xticklabels=list(le_activity.classes_), yticklabels=list(le_activity.classes_))\n",
        "plt.xlabel('Prediction')\n",
        "plt.ylabel('True label')\n",
        "plt.title('Random Forest Classifier model classification results on test set')"
      ],
      "execution_count": 0,
      "outputs": [
        {
          "output_type": "execute_result",
          "data": {
            "text/plain": [
              "Text(0.5, 1.0, 'Random Forest Classifier model classification results on test set')"
            ]
          },
          "metadata": {
            "tags": []
          },
          "execution_count": 107
        },
        {
          "output_type": "display_data",
          "data": {
            "image/png": "[encoded data removed]",
            "text/plain": [
              "<Figure size 432x288 with 2 Axes>"
            ]
          },
          "metadata": {
            "tags": []
          }
        }
      ]
    },
    {
      "cell_type": "markdown",
      "metadata": {
        "id": "B5m0RxqHQFtr",
        "colab_type": "text"
      },
      "source": [
        "#XGBoost Classifier"
      ]
    },
    {
      "cell_type": "code",
      "metadata": {
        "id": "ffoiUD1fP13J",
        "colab_type": "code",
        "outputId": "c424742c-44cb-4cbc-e207-a138f68f5b09",
        "colab": {
          "base_uri": "https://localhost:8080/",
          "height": 147
        }
      },
      "source": [
        "# fit model no training data\n",
        "xgboost_model = XGBClassifier(n_estimators=11)\n",
        "xgboost_model.fit(x_train, y_train)"
      ],
      "execution_count": 0,
      "outputs": [
        {
          "output_type": "execute_result",
          "data": {
            "text/plain": [
              "XGBClassifier(base_score=0.5, booster='gbtree', colsample_bylevel=1,\n",
              "              colsample_bynode=1, colsample_bytree=1, gamma=0,\n",
              "              learning_rate=0.1, max_delta_step=0, max_depth=3,\n",
              "              min_child_weight=1, missing=None, n_estimators=11, n_jobs=1,\n",
              "              nthread=None, objective='multi:softprob', random_state=0,\n",
              "              reg_alpha=0, reg_lambda=1, scale_pos_weight=1, seed=None,\n",
              "              silent=None, subsample=1, verbosity=1)"
            ]
          },
          "metadata": {
            "tags": []
          },
          "execution_count": 98
        }
      ]
    },
    {
      "cell_type": "code",
      "metadata": {
        "id": "ws_pJ-uxQSJA",
        "colab_type": "code",
        "outputId": "aa7926ca-d598-4ddd-b58e-63b94b2821bc",
        "colab": {
          "base_uri": "https://localhost:8080/",
          "height": 239
        }
      },
      "source": [
        "print(\"XGBoost Classifier model accuracy on test set is : {}\".format(xgboost_model.score(x_test, y_test)*100))\n",
        "xgboost_model_y_test_pred = xgboost_model.predict(x_test)\n",
        "print(classification_report(y_test, xgboost_model_y_test_pred))"
      ],
      "execution_count": 0,
      "outputs": [
        {
          "output_type": "stream",
          "text": [
            "XGBoost Classifier model accuracy on test set is : 65.89147286821705\n",
            "              precision    recall  f1-score   support\n",
            "\n",
            "         0.0       0.57      0.62      0.60       617\n",
            "         1.0       0.84      0.68      0.75       614\n",
            "         2.0       0.69      0.80      0.74       612\n",
            "         3.0       0.56      0.54      0.55       608\n",
            "\n",
            "    accuracy                           0.66      2451\n",
            "   macro avg       0.67      0.66      0.66      2451\n",
            "weighted avg       0.67      0.66      0.66      2451\n",
            "\n"
          ],
          "name": "stdout"
        }
      ]
    },
    {
      "cell_type": "code",
      "metadata": {
        "id": "J7Jk36yoQSDP",
        "colab_type": "code",
        "outputId": "07e494e6-35c7-4f10-a2ad-163241899f88",
        "colab": {
          "base_uri": "https://localhost:8080/",
          "height": 315
        }
      },
      "source": [
        "sns.heatmap(confusion_matrix(y_test, xgboost_model_y_test_pred),cmap='Greens',annot=True, fmt='d',\n",
        "           xticklabels=list(le_activity.classes_), yticklabels=list(le_activity.classes_))\n",
        "plt.xlabel('Prediction')\n",
        "plt.ylabel('True label')\n",
        "plt.title('XGBoost Classifier model classification results on test set')"
      ],
      "execution_count": 0,
      "outputs": [
        {
          "output_type": "execute_result",
          "data": {
            "text/plain": [
              "Text(0.5, 1.0, 'XGBoost Classifier model classification results on test set')"
            ]
          },
          "metadata": {
            "tags": []
          },
          "execution_count": 112
        },
        {
          "output_type": "display_data",
          "data": {
            "image/png": "[encoded data removed]",
            "text/plain": [
              "<Figure size 432x288 with 2 Axes>"
            ]
          },
          "metadata": {
            "tags": []
          }
        }
      ]
    },
    {
      "cell_type": "markdown",
      "metadata": {
        "id": "ByB7OnW6X0X0",
        "colab_type": "text"
      },
      "source": [
        "#DL approch"
      ]
    },
    {
      "cell_type": "markdown",
      "metadata": {
        "id": "Sa1zlHpJSMiZ",
        "colab_type": "text"
      },
      "source": [
        "#LSTM model"
      ]
    },
    {
      "cell_type": "code",
      "metadata": {
        "id": "ZgP17VABAjay",
        "colab_type": "code",
        "colab": {}
      },
      "source": [
        "# fit and evaluate a model\n",
        "def evaluate_lstm_model(trainX, trainy, valX, valy):\n",
        "  verbose, epochs, batch_size = 1, 100, 128\n",
        "  n_features, n_outputs = 26, 4\n",
        "  model = Sequential()  \n",
        "  model.add(Reshape((SEGMANT_SIZE, n_features), input_shape=(input_shape,)))\n",
        "  #model.add(BatchNormalization())\n",
        "  model.add(LSTM(10, recurrent_dropout=0.15, activation='relu'))  \n",
        "  #model.add(BatchNormalization())\n",
        "  model.add(Dropout(0.25))\n",
        "  model.add(Dense(10, activation='relu'))\n",
        "  #model.add(BatchNormalization())\n",
        "  model.add(Dropout(0.1))\n",
        "  model.add(Dense(num_classes, activation='softmax'))\n",
        "  print(model.summary())\n",
        "  model.compile(loss='categorical_crossentropy', optimizer='adam', metrics=['accuracy'])\n",
        "  # fit network\n",
        "  history = model.fit(trainX, trainy, validation_data=(valX, valy), epochs=epochs, batch_size=batch_size, verbose=verbose)\n",
        "  return model, history"
      ],
      "execution_count": 0,
      "outputs": []
    },
    {
      "cell_type": "code",
      "metadata": {
        "id": "7Ef7JTlJt_Sv",
        "colab_type": "code",
        "outputId": "9d671fef-44ed-4503-e275-d0842099fc22",
        "colab": {
          "base_uri": "https://localhost:8080/",
          "height": 4481
        }
      },
      "source": [
        "lstm_model, lstm_history = evaluate_lstm_model(x_train, y_train_hot_encoding, x_validation, y_validation_hot_encoding)"
      ],
      "execution_count": 0,
      "outputs": [
        {
          "output_type": "stream",
          "text": [
            "WARNING: Logging before flag parsing goes to stderr.\n",
            "W0615 19:44:43.394881 140191402538880 deprecation_wrapper.py:119] From /usr/local/lib/python3.6/dist-packages/keras/backend/tensorflow_backend.py:74: The name tf.get_default_graph is deprecated. Please use tf.compat.v1.get_default_graph instead.\n",
            "\n",
            "W0615 19:44:43.413279 140191402538880 deprecation_wrapper.py:119] From /usr/local/lib/python3.6/dist-packages/keras/backend/tensorflow_backend.py:517: The name tf.placeholder is deprecated. Please use tf.compat.v1.placeholder instead.\n",
            "\n",
            "W0615 19:44:43.424293 140191402538880 deprecation_wrapper.py:119] From /usr/local/lib/python3.6/dist-packages/keras/backend/tensorflow_backend.py:4138: The name tf.random_uniform is deprecated. Please use tf.random.uniform instead.\n",
            "\n",
            "W0615 19:44:43.483756 140191402538880 deprecation_wrapper.py:119] From /usr/local/lib/python3.6/dist-packages/keras/backend/tensorflow_backend.py:133: The name tf.placeholder_with_default is deprecated. Please use tf.compat.v1.placeholder_with_default instead.\n",
            "\n",
            "W0615 19:44:43.492462 140191402538880 deprecation.py:506] From /usr/local/lib/python3.6/dist-packages/keras/backend/tensorflow_backend.py:3445: calling dropout (from tensorflow.python.ops.nn_ops) with keep_prob is deprecated and will be removed in a future version.\n",
            "Instructions for updating:\n",
            "Please use `rate` instead of `keep_prob`. Rate should be set to `rate = 1 - keep_prob`.\n",
            "W0615 19:44:43.834871 140191402538880 deprecation_wrapper.py:119] From /usr/local/lib/python3.6/dist-packages/keras/optimizers.py:790: The name tf.train.Optimizer is deprecated. Please use tf.compat.v1.train.Optimizer instead.\n",
            "\n",
            "W0615 19:44:43.856255 140191402538880 deprecation_wrapper.py:119] From /usr/local/lib/python3.6/dist-packages/keras/backend/tensorflow_backend.py:3295: The name tf.log is deprecated. Please use tf.math.log instead.\n",
            "\n",
            "W0615 19:44:43.962489 140191402538880 deprecation.py:323] From /usr/local/lib/python3.6/dist-packages/tensorflow/python/ops/math_grad.py:1250: add_dispatch_support.<locals>.wrapper (from tensorflow.python.ops.array_ops) is deprecated and will be removed in a future version.\n",
            "Instructions for updating:\n",
            "Use tf.where in 2.0, which has the same broadcast rule as np.where\n"
          ],
          "name": "stderr"
        },
        {
          "output_type": "stream",
          "text": [
            "_________________________________________________________________\n",
            "Layer (type)                 Output Shape              Param #   \n",
            "=================================================================\n",
            "reshape_1 (Reshape)          (None, 40, 26)            0         \n",
            "_________________________________________________________________\n",
            "lstm_1 (LSTM)                (None, 10)                1480      \n",
            "_________________________________________________________________\n",
            "dropout_1 (Dropout)          (None, 10)                0         \n",
            "_________________________________________________________________\n",
            "dense_1 (Dense)              (None, 10)                110       \n",
            "_________________________________________________________________\n",
            "dropout_2 (Dropout)          (None, 10)                0         \n",
            "_________________________________________________________________\n",
            "dense_2 (Dense)              (None, 4)                 44        \n",
            "=================================================================\n",
            "Total params: 1,634\n",
            "Trainable params: 1,634\n",
            "Non-trainable params: 0\n",
            "_________________________________________________________________\n",
            "None\n",
            "Train on 7385 samples, validate on 2452 samples\n",
            "Epoch 1/100\n",
            "7385/7385 [==============================] - 6s 748us/step - loss: 1.3651 - acc: 0.3779 - val_loss: 1.2455 - val_acc: 0.4502\n",
            "Epoch 2/100\n",
            "7385/7385 [==============================] - 4s 544us/step - loss: 1.2056 - acc: 0.4393 - val_loss: 1.1244 - val_acc: 0.5029\n",
            "Epoch 3/100\n",
            "7385/7385 [==============================] - 4s 543us/step - loss: 1.1024 - acc: 0.4922 - val_loss: 1.0354 - val_acc: 0.5787\n",
            "Epoch 4/100\n",
            "7385/7385 [==============================] - 4s 548us/step - loss: 1.0308 - acc: 0.5282 - val_loss: 0.9519 - val_acc: 0.5905\n",
            "Epoch 5/100\n",
            "7385/7385 [==============================] - 4s 545us/step - loss: 0.9796 - acc: 0.5544 - val_loss: 0.9271 - val_acc: 0.6101\n",
            "Epoch 6/100\n",
            "7385/7385 [==============================] - 4s 546us/step - loss: 0.9671 - acc: 0.5649 - val_loss: 0.9090 - val_acc: 0.6219\n",
            "Epoch 7/100\n",
            "7385/7385 [==============================] - 4s 541us/step - loss: 0.9265 - acc: 0.5760 - val_loss: 0.8994 - val_acc: 0.6232\n",
            "Epoch 8/100\n",
            "7385/7385 [==============================] - 4s 542us/step - loss: 0.9039 - acc: 0.5900 - val_loss: 0.8849 - val_acc: 0.6338\n",
            "Epoch 9/100\n",
            "7385/7385 [==============================] - 4s 548us/step - loss: 0.8843 - acc: 0.5972 - val_loss: 0.8735 - val_acc: 0.6391\n",
            "Epoch 10/100\n",
            "7385/7385 [==============================] - 4s 551us/step - loss: 0.8733 - acc: 0.6034 - val_loss: 0.8802 - val_acc: 0.6395\n",
            "Epoch 11/100\n",
            "7385/7385 [==============================] - 4s 544us/step - loss: 0.8430 - acc: 0.6253 - val_loss: 0.8576 - val_acc: 0.6497\n",
            "Epoch 12/100\n",
            "7385/7385 [==============================] - 4s 546us/step - loss: 0.8392 - acc: 0.6322 - val_loss: 0.8538 - val_acc: 0.6554\n",
            "Epoch 13/100\n",
            "7385/7385 [==============================] - 4s 579us/step - loss: 0.8291 - acc: 0.6352 - val_loss: 0.8485 - val_acc: 0.6672\n",
            "Epoch 14/100\n",
            "7385/7385 [==============================] - 4s 575us/step - loss: 0.8272 - acc: 0.6389 - val_loss: 0.8526 - val_acc: 0.6680\n",
            "Epoch 15/100\n",
            "7385/7385 [==============================] - 4s 603us/step - loss: 0.8225 - acc: 0.6349 - val_loss: 0.8261 - val_acc: 0.6778\n",
            "Epoch 16/100\n",
            "7385/7385 [==============================] - 4s 582us/step - loss: 0.8087 - acc: 0.6441 - val_loss: 0.8305 - val_acc: 0.6676\n",
            "Epoch 17/100\n",
            "7385/7385 [==============================] - 4s 559us/step - loss: 0.7945 - acc: 0.6521 - val_loss: 0.8327 - val_acc: 0.6737\n",
            "Epoch 18/100\n",
            "7385/7385 [==============================] - 4s 546us/step - loss: 0.7892 - acc: 0.6604 - val_loss: 0.8514 - val_acc: 0.6709\n",
            "Epoch 19/100\n",
            "7385/7385 [==============================] - 4s 549us/step - loss: 0.7743 - acc: 0.6636 - val_loss: 0.8308 - val_acc: 0.6799\n",
            "Epoch 20/100\n",
            "7385/7385 [==============================] - 4s 548us/step - loss: 0.7670 - acc: 0.6672 - val_loss: 0.8526 - val_acc: 0.6835\n",
            "Epoch 21/100\n",
            "7385/7385 [==============================] - 4s 552us/step - loss: 0.7549 - acc: 0.6781 - val_loss: 0.8515 - val_acc: 0.6819\n",
            "Epoch 22/100\n",
            "7385/7385 [==============================] - 4s 543us/step - loss: 0.7585 - acc: 0.6712 - val_loss: 0.8258 - val_acc: 0.6864\n",
            "Epoch 23/100\n",
            "7385/7385 [==============================] - 4s 556us/step - loss: 0.7421 - acc: 0.6747 - val_loss: 0.8305 - val_acc: 0.6839\n",
            "Epoch 24/100\n",
            "7385/7385 [==============================] - 4s 552us/step - loss: 0.7323 - acc: 0.6856 - val_loss: 0.8287 - val_acc: 0.6896\n",
            "Epoch 25/100\n",
            "7385/7385 [==============================] - 4s 555us/step - loss: 0.7327 - acc: 0.6886 - val_loss: 0.8288 - val_acc: 0.6872\n",
            "Epoch 26/100\n",
            "7385/7385 [==============================] - 4s 544us/step - loss: 0.7156 - acc: 0.6968 - val_loss: 0.8329 - val_acc: 0.6823\n",
            "Epoch 27/100\n",
            "7385/7385 [==============================] - 4s 545us/step - loss: 0.7194 - acc: 0.6921 - val_loss: 0.8357 - val_acc: 0.6876\n",
            "Epoch 28/100\n",
            "7385/7385 [==============================] - 6s 781us/step - loss: 0.7026 - acc: 0.7014 - val_loss: 0.8232 - val_acc: 0.6929\n",
            "Epoch 29/100\n",
            "7385/7385 [==============================] - 7s 1000us/step - loss: 0.7041 - acc: 0.7001 - val_loss: 0.8242 - val_acc: 0.6998\n",
            "Epoch 30/100\n",
            "7385/7385 [==============================] - 8s 1ms/step - loss: 0.7131 - acc: 0.6986 - val_loss: 0.8346 - val_acc: 0.6909\n",
            "Epoch 31/100\n",
            "7385/7385 [==============================] - 8s 1ms/step - loss: 0.7043 - acc: 0.7007 - val_loss: 0.8195 - val_acc: 0.6949\n",
            "Epoch 32/100\n",
            "7385/7385 [==============================] - 8s 1ms/step - loss: 0.6844 - acc: 0.7056 - val_loss: 0.8185 - val_acc: 0.6921\n",
            "Epoch 33/100\n",
            "7385/7385 [==============================] - 8s 1ms/step - loss: 0.6849 - acc: 0.7037 - val_loss: 0.8304 - val_acc: 0.6978\n",
            "Epoch 34/100\n",
            "7385/7385 [==============================] - 7s 1ms/step - loss: 0.6766 - acc: 0.7136 - val_loss: 0.8158 - val_acc: 0.7023\n",
            "Epoch 35/100\n",
            "7385/7385 [==============================] - 8s 1ms/step - loss: 0.6744 - acc: 0.7079 - val_loss: 0.7962 - val_acc: 0.7027\n",
            "Epoch 36/100\n",
            "7385/7385 [==============================] - 8s 1ms/step - loss: 0.6627 - acc: 0.7165 - val_loss: 0.8129 - val_acc: 0.6945\n",
            "Epoch 37/100\n",
            "7385/7385 [==============================] - 8s 1ms/step - loss: 0.6676 - acc: 0.7155 - val_loss: 0.7963 - val_acc: 0.7035\n",
            "Epoch 38/100\n",
            "7385/7385 [==============================] - 8s 1ms/step - loss: 0.6635 - acc: 0.7163 - val_loss: 0.8170 - val_acc: 0.7007\n",
            "Epoch 39/100\n",
            "7385/7385 [==============================] - 8s 1ms/step - loss: 0.6678 - acc: 0.7179 - val_loss: 0.8021 - val_acc: 0.7043\n",
            "Epoch 40/100\n",
            "7385/7385 [==============================] - 8s 1ms/step - loss: 0.6593 - acc: 0.7178 - val_loss: 0.8080 - val_acc: 0.7039\n",
            "Epoch 41/100\n",
            "7385/7385 [==============================] - 8s 1ms/step - loss: 0.6420 - acc: 0.7247 - val_loss: 0.8557 - val_acc: 0.7047\n",
            "Epoch 42/100\n",
            "7385/7385 [==============================] - 8s 1ms/step - loss: 0.6446 - acc: 0.7309 - val_loss: 0.9132 - val_acc: 0.7027\n",
            "Epoch 43/100\n",
            "7385/7385 [==============================] - 8s 1ms/step - loss: 0.6445 - acc: 0.7269 - val_loss: 0.8277 - val_acc: 0.7072\n",
            "Epoch 44/100\n",
            "7385/7385 [==============================] - 8s 1ms/step - loss: 0.6432 - acc: 0.7288 - val_loss: 0.8743 - val_acc: 0.7039\n",
            "Epoch 45/100\n",
            "7385/7385 [==============================] - 8s 1ms/step - loss: 0.6367 - acc: 0.7355 - val_loss: 0.7906 - val_acc: 0.7080\n",
            "Epoch 46/100\n",
            "7385/7385 [==============================] - 8s 1ms/step - loss: 0.6267 - acc: 0.7353 - val_loss: 0.7754 - val_acc: 0.7088\n",
            "Epoch 47/100\n",
            "7385/7385 [==============================] - 8s 1ms/step - loss: 0.6315 - acc: 0.7301 - val_loss: 0.8365 - val_acc: 0.7076\n",
            "Epoch 48/100\n",
            "7385/7385 [==============================] - 8s 1ms/step - loss: 0.6359 - acc: 0.7309 - val_loss: 0.8506 - val_acc: 0.7100\n",
            "Epoch 49/100\n",
            "7385/7385 [==============================] - 8s 1ms/step - loss: 0.6319 - acc: 0.7397 - val_loss: 0.8080 - val_acc: 0.7060\n",
            "Epoch 50/100\n",
            "7385/7385 [==============================] - 8s 1ms/step - loss: 0.6194 - acc: 0.7369 - val_loss: 0.8434 - val_acc: 0.7194\n",
            "Epoch 51/100\n",
            "7385/7385 [==============================] - 8s 1ms/step - loss: 0.6234 - acc: 0.7403 - val_loss: 0.7767 - val_acc: 0.7166\n",
            "Epoch 52/100\n",
            "7385/7385 [==============================] - 8s 1ms/step - loss: 0.6154 - acc: 0.7508 - val_loss: 0.7925 - val_acc: 0.7178\n",
            "Epoch 53/100\n",
            "7385/7385 [==============================] - 8s 1ms/step - loss: 0.6193 - acc: 0.7449 - val_loss: 0.8277 - val_acc: 0.7145\n",
            "Epoch 54/100\n",
            "7385/7385 [==============================] - 8s 1ms/step - loss: 0.6143 - acc: 0.7472 - val_loss: 0.7874 - val_acc: 0.7194\n",
            "Epoch 55/100\n",
            "7385/7385 [==============================] - 8s 1ms/step - loss: 0.6205 - acc: 0.7420 - val_loss: 0.7719 - val_acc: 0.7141\n",
            "Epoch 56/100\n",
            "7385/7385 [==============================] - 8s 1ms/step - loss: 0.6040 - acc: 0.7504 - val_loss: 0.8075 - val_acc: 0.7113\n",
            "Epoch 57/100\n",
            "7385/7385 [==============================] - 8s 1ms/step - loss: 0.6063 - acc: 0.7499 - val_loss: 0.7975 - val_acc: 0.7210\n",
            "Epoch 58/100\n",
            "7385/7385 [==============================] - 8s 1ms/step - loss: 0.5997 - acc: 0.7546 - val_loss: 0.7706 - val_acc: 0.7235\n",
            "Epoch 59/100\n",
            "7385/7385 [==============================] - 8s 1ms/step - loss: 0.5970 - acc: 0.7565 - val_loss: 0.8455 - val_acc: 0.7215\n",
            "Epoch 60/100\n",
            "7385/7385 [==============================] - 8s 1ms/step - loss: 0.5890 - acc: 0.7586 - val_loss: 0.7816 - val_acc: 0.7227\n",
            "Epoch 61/100\n",
            "7385/7385 [==============================] - 8s 1ms/step - loss: 0.5971 - acc: 0.7579 - val_loss: 0.8171 - val_acc: 0.7263\n",
            "Epoch 62/100\n",
            "7385/7385 [==============================] - 8s 1ms/step - loss: 0.5940 - acc: 0.7552 - val_loss: 0.8149 - val_acc: 0.7202\n",
            "Epoch 63/100\n",
            "7385/7385 [==============================] - 8s 1ms/step - loss: 0.5911 - acc: 0.7603 - val_loss: 0.8048 - val_acc: 0.7227\n",
            "Epoch 64/100\n",
            "7385/7385 [==============================] - 8s 1ms/step - loss: 0.5953 - acc: 0.7534 - val_loss: 0.8117 - val_acc: 0.7219\n",
            "Epoch 65/100\n",
            "7385/7385 [==============================] - 8s 1ms/step - loss: 0.5839 - acc: 0.7618 - val_loss: 0.7546 - val_acc: 0.7219\n",
            "Epoch 66/100\n",
            "7385/7385 [==============================] - 7s 1ms/step - loss: 0.5909 - acc: 0.7550 - val_loss: 0.7550 - val_acc: 0.7296\n",
            "Epoch 67/100\n",
            "7385/7385 [==============================] - 8s 1ms/step - loss: 0.5861 - acc: 0.7610 - val_loss: 0.7747 - val_acc: 0.7190\n",
            "Epoch 68/100\n",
            "7385/7385 [==============================] - 8s 1ms/step - loss: 0.5758 - acc: 0.7649 - val_loss: 0.7958 - val_acc: 0.7263\n",
            "Epoch 69/100\n",
            "7385/7385 [==============================] - 8s 1ms/step - loss: 0.5786 - acc: 0.7629 - val_loss: 0.7882 - val_acc: 0.7182\n",
            "Epoch 70/100\n",
            "7385/7385 [==============================] - 8s 1ms/step - loss: 0.5699 - acc: 0.7671 - val_loss: 0.8209 - val_acc: 0.7194\n",
            "Epoch 71/100\n",
            "7385/7385 [==============================] - 7s 950us/step - loss: 0.5753 - acc: 0.7661 - val_loss: 0.7721 - val_acc: 0.7247\n",
            "Epoch 72/100\n",
            "7385/7385 [==============================] - 4s 558us/step - loss: 0.5707 - acc: 0.7686 - val_loss: 0.8291 - val_acc: 0.7186\n",
            "Epoch 73/100\n",
            "7385/7385 [==============================] - 4s 543us/step - loss: 0.5713 - acc: 0.7678 - val_loss: 0.8186 - val_acc: 0.7259\n",
            "Epoch 74/100\n",
            "7385/7385 [==============================] - 4s 552us/step - loss: 0.5607 - acc: 0.7720 - val_loss: 0.8460 - val_acc: 0.7259\n",
            "Epoch 75/100\n",
            "7385/7385 [==============================] - 4s 547us/step - loss: 0.5690 - acc: 0.7725 - val_loss: 0.8463 - val_acc: 0.7157\n",
            "Epoch 76/100\n",
            "7385/7385 [==============================] - 4s 548us/step - loss: 0.5791 - acc: 0.7617 - val_loss: 0.8525 - val_acc: 0.7198\n",
            "Epoch 77/100\n",
            "7385/7385 [==============================] - 5s 724us/step - loss: 0.5605 - acc: 0.7749 - val_loss: 0.8560 - val_acc: 0.7170\n",
            "Epoch 78/100\n",
            "7385/7385 [==============================] - 7s 905us/step - loss: 0.5641 - acc: 0.7675 - val_loss: 0.8457 - val_acc: 0.7182\n",
            "Epoch 79/100\n",
            "7385/7385 [==============================] - 8s 1ms/step - loss: 0.5647 - acc: 0.7749 - val_loss: 0.7856 - val_acc: 0.7231\n",
            "Epoch 80/100\n",
            "7385/7385 [==============================] - 8s 1ms/step - loss: 0.5723 - acc: 0.7621 - val_loss: 0.8507 - val_acc: 0.7198\n",
            "Epoch 81/100\n",
            "7385/7385 [==============================] - 8s 1ms/step - loss: 0.5516 - acc: 0.7745 - val_loss: 0.8409 - val_acc: 0.7215\n",
            "Epoch 82/100\n",
            "7385/7385 [==============================] - 8s 1ms/step - loss: 0.5538 - acc: 0.7728 - val_loss: 0.8076 - val_acc: 0.7247\n",
            "Epoch 83/100\n",
            "7385/7385 [==============================] - 8s 1ms/step - loss: 0.5472 - acc: 0.7705 - val_loss: 0.8492 - val_acc: 0.7202\n",
            "Epoch 84/100\n",
            "7385/7385 [==============================] - 8s 1ms/step - loss: 0.5503 - acc: 0.7756 - val_loss: 0.7890 - val_acc: 0.7198\n",
            "Epoch 85/100\n",
            "7385/7385 [==============================] - 8s 1ms/step - loss: 0.5450 - acc: 0.7789 - val_loss: 0.7646 - val_acc: 0.7206\n",
            "Epoch 86/100\n",
            "7385/7385 [==============================] - 8s 1ms/step - loss: 0.5468 - acc: 0.7748 - val_loss: 0.8295 - val_acc: 0.7157\n",
            "Epoch 87/100\n",
            "7385/7385 [==============================] - 8s 1ms/step - loss: 0.5434 - acc: 0.7744 - val_loss: 0.8377 - val_acc: 0.7129\n",
            "Epoch 88/100\n",
            "7385/7385 [==============================] - 8s 1ms/step - loss: 0.5519 - acc: 0.7732 - val_loss: 0.8460 - val_acc: 0.7190\n",
            "Epoch 89/100\n",
            "7385/7385 [==============================] - 8s 1ms/step - loss: 0.5526 - acc: 0.7762 - val_loss: 0.8200 - val_acc: 0.7190\n",
            "Epoch 90/100\n",
            "7385/7385 [==============================] - 8s 1ms/step - loss: 0.5421 - acc: 0.7786 - val_loss: 0.8530 - val_acc: 0.7182\n",
            "Epoch 91/100\n",
            "7385/7385 [==============================] - 8s 1ms/step - loss: 0.5447 - acc: 0.7782 - val_loss: 0.8195 - val_acc: 0.7202\n",
            "Epoch 92/100\n",
            "7385/7385 [==============================] - 8s 1ms/step - loss: 0.5393 - acc: 0.7842 - val_loss: 0.7944 - val_acc: 0.7162\n",
            "Epoch 93/100\n",
            "7385/7385 [==============================] - 8s 1ms/step - loss: 0.5355 - acc: 0.7800 - val_loss: 0.7880 - val_acc: 0.7051\n",
            "Epoch 94/100\n",
            "7385/7385 [==============================] - 8s 1ms/step - loss: 0.5406 - acc: 0.7796 - val_loss: 0.7877 - val_acc: 0.7215\n",
            "Epoch 95/100\n",
            "7385/7385 [==============================] - 8s 1ms/step - loss: 0.5326 - acc: 0.7873 - val_loss: 0.8538 - val_acc: 0.7125\n",
            "Epoch 96/100\n",
            "7385/7385 [==============================] - 8s 1ms/step - loss: 0.5368 - acc: 0.7814 - val_loss: 0.8372 - val_acc: 0.7096\n",
            "Epoch 97/100\n",
            "7385/7385 [==============================] - 8s 1ms/step - loss: 0.5332 - acc: 0.7817 - val_loss: 0.8389 - val_acc: 0.7198\n",
            "Epoch 98/100\n",
            "7385/7385 [==============================] - 8s 1ms/step - loss: 0.5402 - acc: 0.7775 - val_loss: 0.8859 - val_acc: 0.7149\n",
            "Epoch 99/100\n",
            "7385/7385 [==============================] - 8s 1ms/step - loss: 0.5280 - acc: 0.7819 - val_loss: 0.8700 - val_acc: 0.7190\n",
            "Epoch 100/100\n",
            "7385/7385 [==============================] - 8s 1ms/step - loss: 0.5225 - acc: 0.7919 - val_loss: 0.8992 - val_acc: 0.7198\n"
          ],
          "name": "stdout"
        }
      ]
    },
    {
      "cell_type": "code",
      "metadata": {
        "id": "-EYQHOHfVXL2",
        "colab_type": "code",
        "outputId": "e533f49b-d520-461d-f696-7340b8da48a4",
        "colab": {
          "base_uri": "https://localhost:8080/",
          "height": 56
        }
      },
      "source": [
        "'''\n",
        "# Save the weights\n",
        "lstm_model.save_weights('drive/My Drive/files_project/model_files/model_weights.h5')\n",
        "\n",
        "# Save the model architecture\n",
        "with open('drive/My Drive/files_project/model_files/model_architecture.json', 'w') as f:\n",
        "    f.write(lstm_model.to_json())\n",
        "'''"
      ],
      "execution_count": 0,
      "outputs": [
        {
          "output_type": "execute_result",
          "data": {
            "text/plain": [
              "\"\\n# Save the weights\\nlstm_model.save_weights('drive/My Drive/files_project/model_files/model_weights.h5')\\n\\n# Save the model architecture\\nwith open('drive/My Drive/files_project/model_files/model_architecture.json', 'w') as f:\\n    f.write(lstm_model.to_json())\\n\""
            ]
          },
          "metadata": {
            "tags": []
          },
          "execution_count": 55
        }
      ]
    },
    {
      "cell_type": "code",
      "metadata": {
        "id": "1CGAAlCnt_M_",
        "colab_type": "code",
        "outputId": "f90b2056-f1f9-419e-a381-c6d8a7431f95",
        "colab": {
          "base_uri": "https://localhost:8080/",
          "height": 295
        }
      },
      "source": [
        "plt.plot(lstm_history.history['loss'])\n",
        "plt.plot(lstm_history.history['val_loss'])\n",
        "plt.title('LSTM model loss')\n",
        "plt.ylabel('loss')\n",
        "plt.xlabel('epoch')\n",
        "plt.legend(['train', 'validation'], loc='upper left')\n",
        "plt.show()"
      ],
      "execution_count": 0,
      "outputs": [
        {
          "output_type": "display_data",
          "data": {
            "image/png": "[encoded data removed]",
            "text/plain": [
              "<Figure size 432x288 with 1 Axes>"
            ]
          },
          "metadata": {
            "tags": []
          }
        }
      ]
    },
    {
      "cell_type": "code",
      "metadata": {
        "id": "3x6tf7mhyrWT",
        "colab_type": "code",
        "outputId": "eca8dadf-d82f-47a8-bd1a-b50c5a00424c",
        "colab": {
          "base_uri": "https://localhost:8080/",
          "height": 295
        }
      },
      "source": [
        "plt.plot(lstm_history.history['acc'])\n",
        "plt.plot(lstm_history.history['val_acc'])\n",
        "plt.title('LSTM model accuracy')\n",
        "plt.ylabel('accuracy')\n",
        "plt.xlabel('epoch')\n",
        "plt.legend(['train', 'validation'], loc='upper left')\n",
        "plt.show()"
      ],
      "execution_count": 0,
      "outputs": [
        {
          "output_type": "display_data",
          "data": {
            "image/png": "[encoded data removed]",
            "text/plain": [
              "<Figure size 432x288 with 1 Axes>"
            ]
          },
          "metadata": {
            "tags": []
          }
        }
      ]
    },
    {
      "cell_type": "code",
      "metadata": {
        "id": "_U_IqIuhz6S4",
        "colab_type": "code",
        "colab": {}
      },
      "source": [
        "lstm_preds_train = lstm_model.predict(x_train[:len(y_train)])\n",
        "lstm_pred_cat_train = np.argmax(lstm_preds_train,axis=1)\n",
        "\n",
        "lstm_preds_val = lstm_model.predict(x_validation[:len(y_validation)])\n",
        "lstm_pred_cat_val = np.argmax(lstm_preds_val,axis=1)\n",
        "\n",
        "lstm_preds_test = lstm_model.predict(x_test[:len(y_test)])\n",
        "lstm_pred_cat_test = np.argmax(lstm_preds_test,axis=1)"
      ],
      "execution_count": 0,
      "outputs": []
    },
    {
      "cell_type": "code",
      "metadata": {
        "id": "VKsPu2koz8Dq",
        "colab_type": "code",
        "outputId": "396d0b19-97c5-415c-eacb-5896183ef43e",
        "colab": {
          "base_uri": "https://localhost:8080/",
          "height": 36
        }
      },
      "source": [
        "len(y_test)\n",
        "len(lstm_preds_test)"
      ],
      "execution_count": 0,
      "outputs": [
        {
          "output_type": "execute_result",
          "data": {
            "text/plain": [
              "2451"
            ]
          },
          "metadata": {
            "tags": []
          },
          "execution_count": 59
        }
      ]
    },
    {
      "cell_type": "code",
      "metadata": {
        "id": "24P-roh-2VTr",
        "colab_type": "code",
        "outputId": "1eba6c2d-d7d4-4d2d-c095-1655e04f88f0",
        "colab": {
          "base_uri": "https://localhost:8080/",
          "height": 333
        }
      },
      "source": [
        "print('LSTM model accuracy on traning set is: {}%'.format(accuracy_score(y_train[:len(lstm_pred_cat_train)],lstm_pred_cat_train)*100))\n",
        "sns.heatmap(confusion_matrix(y_train[:len(lstm_pred_cat_train)],lstm_pred_cat_train),cmap='Greens',annot=True, fmt='d',\n",
        "           xticklabels=list(le_activity.classes_), yticklabels=list(le_activity.classes_))\n",
        "\n",
        "plt.xlabel('Prediction')\n",
        "plt.ylabel('True label')\n",
        "plt.title('LSTM model classification results on traning set')"
      ],
      "execution_count": 0,
      "outputs": [
        {
          "output_type": "stream",
          "text": [
            "LSTM model accuracy on traning set is: 83.10088016249153%\n"
          ],
          "name": "stdout"
        },
        {
          "output_type": "execute_result",
          "data": {
            "text/plain": [
              "Text(0.5, 1.0, 'LSTM model classification results on traning set')"
            ]
          },
          "metadata": {
            "tags": []
          },
          "execution_count": 60
        },
        {
          "output_type": "display_data",
          "data": {
            "image/png": "[encoded data removed]",
            "text/plain": [
              "<Figure size 432x288 with 2 Axes>"
            ]
          },
          "metadata": {
            "tags": []
          }
        }
      ]
    },
    {
      "cell_type": "code",
      "metadata": {
        "id": "fRgVwLOFRXz3",
        "colab_type": "code",
        "outputId": "905f7195-e001-498b-8a5a-85bc49ed71ec",
        "colab": {
          "base_uri": "https://localhost:8080/",
          "height": 333
        }
      },
      "source": [
        "print('LSTM model accuracy on validation set is: {}%'.format(accuracy_score(y_validation[:len(lstm_pred_cat_val)],lstm_pred_cat_val)*100))\n",
        "sns.heatmap(confusion_matrix(y_validation[:len(lstm_pred_cat_val)],lstm_pred_cat_val),cmap='Greens',annot=True, fmt='d',\n",
        "           xticklabels=list(le_activity.classes_), yticklabels=list(le_activity.classes_))\n",
        "\n",
        "plt.xlabel('Prediction')\n",
        "plt.ylabel('True label')\n",
        "plt.title('LSTM model classification results on validation set')"
      ],
      "execution_count": 0,
      "outputs": [
        {
          "output_type": "stream",
          "text": [
            "LSTM model accuracy on validation set is: 71.98205546492659%\n"
          ],
          "name": "stdout"
        },
        {
          "output_type": "execute_result",
          "data": {
            "text/plain": [
              "Text(0.5, 1.0, 'LSTM model classification results on validation set')"
            ]
          },
          "metadata": {
            "tags": []
          },
          "execution_count": 61
        },
        {
          "output_type": "display_data",
          "data": {
            "image/png": "[encoded data removed]",
            "text/plain": [
              "<Figure size 432x288 with 2 Axes>"
            ]
          },
          "metadata": {
            "tags": []
          }
        }
      ]
    },
    {
      "cell_type": "code",
      "metadata": {
        "id": "N-dx0DDlJZ-T",
        "colab_type": "code",
        "outputId": "86a86e7e-e949-4706-a2d7-fca67407caa5",
        "colab": {
          "base_uri": "https://localhost:8080/",
          "height": 333
        }
      },
      "source": [
        "print('LSTM model accuracy on test set is: {}%'.format(accuracy_score(y_test[:len(lstm_pred_cat_test)],lstm_pred_cat_test)*100))\n",
        "sns.heatmap(confusion_matrix(y_test[:len(lstm_pred_cat_test)],lstm_pred_cat_test),cmap='Greens',annot=True, fmt='d',\n",
        "            xticklabels=list(le_activity.classes_), yticklabels=list(le_activity.classes_))\n",
        "\n",
        "plt.xlabel('Prediction') \n",
        "plt.ylabel('True label')\n",
        "plt.title('LSTM model classification results on test set')"
      ],
      "execution_count": 0,
      "outputs": [
        {
          "output_type": "stream",
          "text": [
            "LSTM model accuracy on test set is: 67.5234598123215%\n"
          ],
          "name": "stdout"
        },
        {
          "output_type": "execute_result",
          "data": {
            "text/plain": [
              "Text(0.5, 1.0, 'LSTM model classification results on test set')"
            ]
          },
          "metadata": {
            "tags": []
          },
          "execution_count": 62
        },
        {
          "output_type": "display_data",
          "data": {
            "image/png": "[encoded data removed]",
            "text/plain": [
              "<Figure size 432x288 with 2 Axes>"
            ]
          },
          "metadata": {
            "tags": []
          }
        }
      ]
    },
    {
      "cell_type": "code",
      "metadata": {
        "id": "NeU7IBr536Bb",
        "colab_type": "code",
        "outputId": "a951b89b-4d18-4cc1-8e44-08f689c2d33c",
        "colab": {
          "base_uri": "https://localhost:8080/",
          "height": 173
        }
      },
      "source": [
        "asdadasdasda"
      ],
      "execution_count": 0,
      "outputs": [
        {
          "output_type": "error",
          "ename": "NameError",
          "evalue": "ignored",
          "traceback": [
            "\u001b[0;31m---------------------------------------------------------------------------\u001b[0m",
            "\u001b[0;31mNameError\u001b[0m                                 Traceback (most recent call last)",
            "\u001b[0;32m<ipython-input-63-9e712cbb07b4>\u001b[0m in \u001b[0;36m<module>\u001b[0;34m()\u001b[0m\n\u001b[0;32m----> 1\u001b[0;31m \u001b[0masdadasdasda\u001b[0m\u001b[0;34m\u001b[0m\u001b[0;34m\u001b[0m\u001b[0m\n\u001b[0m",
            "\u001b[0;31mNameError\u001b[0m: name 'asdadasdasda' is not defined"
          ]
        }
      ]
    },
    {
      "cell_type": "markdown",
      "metadata": {
        "id": "vbNz2hiVYarp",
        "colab_type": "text"
      },
      "source": [
        "#Final result metric"
      ]
    },
    {
      "cell_type": "markdown",
      "metadata": {
        "id": "6Q6lOAYaddUP",
        "colab_type": "text"
      },
      "source": [
        "#Convert Into CoreML"
      ]
    },
    {
      "cell_type": "code",
      "metadata": {
        "id": "aEA09aD3fw3q",
        "colab_type": "code",
        "colab": {}
      },
      "source": [
        "'''\n",
        "from keras.models import model_from_json\n",
        "\n",
        "# Model reconstruction from JSON file\n",
        "with open('drive/My Drive/Shared folder University/files_project/model_files/model_architecture.json', 'r') as f:\n",
        "    lstm_model = model_from_json(f.read())\n",
        "\n",
        "# Load weights into the new model\n",
        "lstm_model.load_weights('model_weights.h5')\n",
        "'''"
      ],
      "execution_count": 0,
      "outputs": []
    },
    {
      "cell_type": "code",
      "metadata": {
        "id": "eV01xCdNjMae",
        "colab_type": "code",
        "colab": {}
      },
      "source": [
        "!pip install coremltools"
      ],
      "execution_count": 0,
      "outputs": []
    },
    {
      "cell_type": "code",
      "metadata": {
        "id": "SvDfgnFSdg_k",
        "colab_type": "code",
        "colab": {}
      },
      "source": [
        "import coremltools\n",
        "\n",
        "coreml_model = coremltools.converters.keras.convert(ann_model, input_names=['acceleration'], output_names=['output'], class_labels=list(le_activity.classes_))\n",
        "\n",
        "print(coreml_model)\n",
        "coreml_model.author = 'ido sakazi'\n",
        "coreml_model.license = 'N/A'\n",
        "coreml_model.short_description = 'Activity based recognition based on dataset'\n",
        "coreml_model.output_description['output'] = 'Probability of each activity'\n",
        "coreml_model.output_description['classLabel'] = 'Labels of activity'\n",
        "\n",
        "#coreml_model.save('drive/My Drive/Shared folder University/files_project/model_files/HARClassifier.mlmodel')\n",
        "#coreml_model.save('HARClassifier.mlmodel')"
      ],
      "execution_count": 0,
      "outputs": []
    },
    {
      "cell_type": "code",
      "metadata": {
        "id": "nmC17Op8k2-h",
        "colab_type": "code",
        "colab": {}
      },
      "source": [
        "#coreml_model.save('ANNHARClassifier.mlmodel')"
      ],
      "execution_count": 0,
      "outputs": []
    }
  ]
}